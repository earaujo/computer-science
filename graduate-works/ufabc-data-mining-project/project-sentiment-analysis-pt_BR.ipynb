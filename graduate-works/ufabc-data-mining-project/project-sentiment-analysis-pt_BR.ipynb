{
 "cells": [
  {
   "cell_type": "markdown",
   "metadata": {},
   "source": [
    "# Projeto de Mineração de Dados\n",
    "\n",
    "## Introdução & Proposta\n",
    "\n",
    "O presente projeto-experimento tem por finalidade apresentar um classificador de sentimentos com base em comentários (análises) de filmes do IMDb em português. Este projeto realiza experimentos a partir de três modelos-algoritmos: Naive Bayes, Decision Tree e Support-Vector Machine. As seguintes técnicas de pré-processamento são utilizadas neste experimento: `Count Vectorizer` com e sem remoção de *stopwords*; `TF-IDF Vectorizer` com e sem remoção de *stopwords*; `Count Vectorizer` + `TF-IDF Vectorizer` com e sem remoção de *stopwords*; e experimentos com *Unigram*, *Bigram* e *Trigram*.\n",
    "\n",
    "A acurácia dos modelos propostos é avaliada a partir da métrica **F1 Score**. Ao final, os experimentos são comparados a partir desta métrica."
   ]
  },
  {
   "cell_type": "markdown",
   "metadata": {},
   "source": [
    "## Obtenção da base de dados"
   ]
  },
  {
   "cell_type": "markdown",
   "metadata": {},
   "source": [
    "A classe a seguir será usada para acompanhar o progresso do download. Em seguida, é feita a verificação se a base de dados está disponível: caso esteja disponível, nenhuma alteração é feita; caso contrário, os dados são baixados e descompactados."
   ]
  },
  {
   "cell_type": "code",
   "execution_count": 1,
   "metadata": {},
   "outputs": [],
   "source": [
    "import tqdm\n",
    "from tqdm import tqdm\n",
    "\n",
    "class DLProgress(tqdm):\n",
    "  last_block = 0\n",
    "\n",
    "  def hook(self, block_num=1, block_size=1, total_size=None):\n",
    "    self.total = total_size\n",
    "    self.update((block_num - self.last_block) * block_size)\n",
    "    self.last_block = block_num"
   ]
  },
  {
   "cell_type": "code",
   "execution_count": 2,
   "metadata": {},
   "outputs": [],
   "source": [
    "from urllib.request import urlretrieve\n",
    "from os.path import isfile\n",
    "import zipfile\n",
    "\n",
    "path = \"datasets/imdb-pt-br.zip\"\n",
    "url = \"https://drive.google.com/uc?export=download&id=1Jz3H23oBy3yDf8ARQsflwRX-EFX7HKqM\"\n",
    "\n",
    "if not isfile(path):\n",
    "  with DLProgress(unit=\"B\", unit_scale=True, miniters=1, desc=\"IMDB\") as pbar:\n",
    "    urlretrieve(\n",
    "      url,\n",
    "      path,\n",
    "      pbar.hook)\n",
    "\n",
    "if not isfile(\"datasets/imdb-review-pt-br.csv\"):     \n",
    "  zip_ref = zipfile.ZipFile(path, \"r\")\n",
    "  zip_ref.extractall(\"datasets\")\n",
    "  zip_ref.close()"
   ]
  },
  {
   "cell_type": "code",
   "execution_count": 3,
   "metadata": {},
   "outputs": [
    {
     "name": "stdout",
     "output_type": "stream",
     "text": [
      "-rw-r--r-- 1 earaujoassis users 122M Aug 28 19:15 datasets/imdb-reviews-pt-br.csv\r\n"
     ]
    }
   ],
   "source": [
    "!ls -all -h datasets/imdb-reviews-pt-br.csv"
   ]
  },
  {
   "cell_type": "markdown",
   "metadata": {},
   "source": [
    "## Definições comuns aos modelos de análise"
   ]
  },
  {
   "cell_type": "code",
   "execution_count": 4,
   "metadata": {},
   "outputs": [
    {
     "data": {
      "application/javascript": [
       "IPython.OutputArea.prototype._should_scroll = function(lines) {\n",
       "    return false;\n",
       "}\n"
      ],
      "text/plain": [
       "<IPython.core.display.Javascript object>"
      ]
     },
     "metadata": {},
     "output_type": "display_data"
    }
   ],
   "source": [
    "%%javascript\n",
    "IPython.OutputArea.prototype._should_scroll = function(lines) {\n",
    "    return false;\n",
    "}"
   ]
  },
  {
   "cell_type": "code",
   "execution_count": 5,
   "metadata": {},
   "outputs": [],
   "source": [
    "import numpy as np\n",
    "import pandas as pd\n",
    "import nltk\n",
    "import re\n",
    "from sklearn.metrics import f1_score\n",
    "from sklearn.tree import DecisionTreeClassifier\n",
    "from sklearn.naive_bayes import MultinomialNB\n",
    "from sklearn.svm import SVC\n",
    "from sklearn.feature_extraction.text import CountVectorizer, TfidfVectorizer, TfidfTransformer\n",
    "from sklearn.model_selection import train_test_split\n",
    "\n",
    "from nltk.classify import NaiveBayesClassifier\n",
    "from nltk.corpus import subjectivity\n",
    "from nltk.sentiment import SentimentAnalyzer\n",
    "from nltk.sentiment.util import *\n",
    "from nltk.corpus import stopwords\n",
    "from nltk.classify import SklearnClassifier\n",
    "from nltk.corpus import stopwords\n",
    "from nltk.sentiment.vader import SentimentIntensityAnalyzer\n",
    "from nltk import tokenize\n",
    "from wordcloud import WordCloud\n",
    "\n",
    "import matplotlib.pyplot as plt\n",
    "%matplotlib inline"
   ]
  },
  {
   "cell_type": "code",
   "execution_count": 6,
   "metadata": {},
   "outputs": [],
   "source": [
    "def remove_stopwords_and_punctuation(docs):\n",
    "    stop_words = set(stopwords.words(\"portuguese\"))\n",
    "    neo_docs = []\n",
    "\n",
    "    for sentence in docs:\n",
    "        cleanr = re.compile('<.*?>')\n",
    "        sentence = re.sub(r'\\d+', '', sentence)\n",
    "        sentence = re.sub(cleanr, '', sentence)\n",
    "        sentence = re.sub(\"'\", '', sentence)\n",
    "        sentence = re.sub(r'\\W+', ' ', sentence)\n",
    "        sentence = sentence.replace('_', '')\n",
    "        sentence = [word for word in sentence.lower().split() if word not in stop_words]\n",
    "        sentence = ' '.join(sentence)\n",
    "        neo_docs.append(sentence)\n",
    "\n",
    "    return neo_docs"
   ]
  },
  {
   "cell_type": "code",
   "execution_count": 7,
   "metadata": {},
   "outputs": [
    {
     "name": "stderr",
     "output_type": "stream",
     "text": [
      "[nltk_data] Downloading package stopwords to\n",
      "[nltk_data]     /home/earaujoassis/nltk_data...\n",
      "[nltk_data]   Package stopwords is already up-to-date!\n"
     ]
    },
    {
     "data": {
      "text/plain": [
       "True"
      ]
     },
     "execution_count": 7,
     "metadata": {},
     "output_type": "execute_result"
    }
   ],
   "source": [
    "import nltk\n",
    "nltk.download('stopwords')"
   ]
  },
  {
   "cell_type": "code",
   "execution_count": 8,
   "metadata": {},
   "outputs": [],
   "source": [
    "df_master = pd.read_csv(\"datasets/imdb-reviews-pt-br.csv\", encoding=\"utf-8\", index_col=0)"
   ]
  },
  {
   "cell_type": "code",
   "execution_count": 9,
   "metadata": {},
   "outputs": [
    {
     "data": {
      "text/plain": [
       "['text_en', 'text_pt', 'sentiment']"
      ]
     },
     "execution_count": 9,
     "metadata": {},
     "output_type": "execute_result"
    }
   ],
   "source": [
    "list(df_master.head())"
   ]
  },
  {
   "cell_type": "code",
   "execution_count": 10,
   "metadata": {},
   "outputs": [
    {
     "data": {
      "text/html": [
       "<div>\n",
       "<style scoped>\n",
       "    .dataframe tbody tr th:only-of-type {\n",
       "        vertical-align: middle;\n",
       "    }\n",
       "\n",
       "    .dataframe tbody tr th {\n",
       "        vertical-align: top;\n",
       "    }\n",
       "\n",
       "    .dataframe thead th {\n",
       "        text-align: right;\n",
       "    }\n",
       "</style>\n",
       "<table border=\"1\" class=\"dataframe\">\n",
       "  <thead>\n",
       "    <tr style=\"text-align: right;\">\n",
       "      <th></th>\n",
       "      <th>text_pt</th>\n",
       "      <th>sentiment</th>\n",
       "    </tr>\n",
       "    <tr>\n",
       "      <th>id</th>\n",
       "      <th></th>\n",
       "      <th></th>\n",
       "    </tr>\n",
       "  </thead>\n",
       "  <tbody>\n",
       "    <tr>\n",
       "      <td>1</td>\n",
       "      <td>Mais uma vez, o Sr. Costner arrumou um filme p...</td>\n",
       "      <td>neg</td>\n",
       "    </tr>\n",
       "    <tr>\n",
       "      <td>2</td>\n",
       "      <td>Este é um exemplo do motivo pelo qual a maiori...</td>\n",
       "      <td>neg</td>\n",
       "    </tr>\n",
       "    <tr>\n",
       "      <td>3</td>\n",
       "      <td>Primeiro de tudo eu odeio esses raps imbecis, ...</td>\n",
       "      <td>neg</td>\n",
       "    </tr>\n",
       "    <tr>\n",
       "      <td>4</td>\n",
       "      <td>Nem mesmo os Beatles puderam escrever músicas ...</td>\n",
       "      <td>neg</td>\n",
       "    </tr>\n",
       "    <tr>\n",
       "      <td>5</td>\n",
       "      <td>Filmes de fotos de latão não é uma palavra apr...</td>\n",
       "      <td>neg</td>\n",
       "    </tr>\n",
       "    <tr>\n",
       "      <td>...</td>\n",
       "      <td>...</td>\n",
       "      <td>...</td>\n",
       "    </tr>\n",
       "    <tr>\n",
       "      <td>49456</td>\n",
       "      <td>Como a média de votos era muito baixa, e o fat...</td>\n",
       "      <td>pos</td>\n",
       "    </tr>\n",
       "    <tr>\n",
       "      <td>49457</td>\n",
       "      <td>O enredo teve algumas reviravoltas infelizes e...</td>\n",
       "      <td>pos</td>\n",
       "    </tr>\n",
       "    <tr>\n",
       "      <td>49458</td>\n",
       "      <td>Estou espantado com a forma como este filme e ...</td>\n",
       "      <td>pos</td>\n",
       "    </tr>\n",
       "    <tr>\n",
       "      <td>49459</td>\n",
       "      <td>A Christmas Together realmente veio antes do m...</td>\n",
       "      <td>pos</td>\n",
       "    </tr>\n",
       "    <tr>\n",
       "      <td>49460</td>\n",
       "      <td>O drama romântico da classe trabalhadora do di...</td>\n",
       "      <td>pos</td>\n",
       "    </tr>\n",
       "  </tbody>\n",
       "</table>\n",
       "<p>49459 rows × 2 columns</p>\n",
       "</div>"
      ],
      "text/plain": [
       "                                                 text_pt sentiment\n",
       "id                                                                \n",
       "1      Mais uma vez, o Sr. Costner arrumou um filme p...       neg\n",
       "2      Este é um exemplo do motivo pelo qual a maiori...       neg\n",
       "3      Primeiro de tudo eu odeio esses raps imbecis, ...       neg\n",
       "4      Nem mesmo os Beatles puderam escrever músicas ...       neg\n",
       "5      Filmes de fotos de latão não é uma palavra apr...       neg\n",
       "...                                                  ...       ...\n",
       "49456  Como a média de votos era muito baixa, e o fat...       pos\n",
       "49457  O enredo teve algumas reviravoltas infelizes e...       pos\n",
       "49458  Estou espantado com a forma como este filme e ...       pos\n",
       "49459  A Christmas Together realmente veio antes do m...       pos\n",
       "49460  O drama romântico da classe trabalhadora do di...       pos\n",
       "\n",
       "[49459 rows x 2 columns]"
      ]
     },
     "execution_count": 10,
     "metadata": {},
     "output_type": "execute_result"
    }
   ],
   "source": [
    "df_master[[\"text_pt\", \"sentiment\"]]"
   ]
  },
  {
   "cell_type": "code",
   "execution_count": 11,
   "metadata": {},
   "outputs": [
    {
     "data": {
      "text/html": [
       "<div>\n",
       "<style scoped>\n",
       "    .dataframe tbody tr th:only-of-type {\n",
       "        vertical-align: middle;\n",
       "    }\n",
       "\n",
       "    .dataframe tbody tr th {\n",
       "        vertical-align: top;\n",
       "    }\n",
       "\n",
       "    .dataframe thead th {\n",
       "        text-align: right;\n",
       "    }\n",
       "</style>\n",
       "<table border=\"1\" class=\"dataframe\">\n",
       "  <thead>\n",
       "    <tr style=\"text-align: right;\">\n",
       "      <th></th>\n",
       "      <th>text_pt</th>\n",
       "      <th>sentiment</th>\n",
       "    </tr>\n",
       "  </thead>\n",
       "  <tbody>\n",
       "    <tr>\n",
       "      <td>0</td>\n",
       "      <td>Dark Harvest é uma produção de orçamento muito...</td>\n",
       "      <td>neg</td>\n",
       "    </tr>\n",
       "    <tr>\n",
       "      <td>1</td>\n",
       "      <td>\"Ambos tropeçaram juntos neste mundo sem forma...</td>\n",
       "      <td>pos</td>\n",
       "    </tr>\n",
       "    <tr>\n",
       "      <td>2</td>\n",
       "      <td>Eu aluguei este filme porque parecia bem inter...</td>\n",
       "      <td>neg</td>\n",
       "    </tr>\n",
       "    <tr>\n",
       "      <td>3</td>\n",
       "      <td>A morte violenta de Fernando Ramos da Silva ap...</td>\n",
       "      <td>pos</td>\n",
       "    </tr>\n",
       "    <tr>\n",
       "      <td>4</td>\n",
       "      <td>Eu tenho que dizer, eu amei Vanishing Point. E...</td>\n",
       "      <td>pos</td>\n",
       "    </tr>\n",
       "    <tr>\n",
       "      <td>...</td>\n",
       "      <td>...</td>\n",
       "      <td>...</td>\n",
       "    </tr>\n",
       "    <tr>\n",
       "      <td>49454</td>\n",
       "      <td>Um humor infantil frenético, um tanto mesquinh...</td>\n",
       "      <td>neg</td>\n",
       "    </tr>\n",
       "    <tr>\n",
       "      <td>49455</td>\n",
       "      <td>Absolutamente unwatchable, menor qualidade cin...</td>\n",
       "      <td>neg</td>\n",
       "    </tr>\n",
       "    <tr>\n",
       "      <td>49456</td>\n",
       "      <td>Hmmm, não é um patch no original da Shaw Broth...</td>\n",
       "      <td>neg</td>\n",
       "    </tr>\n",
       "    <tr>\n",
       "      <td>49457</td>\n",
       "      <td>Eu assisti os primeiros 10 minutos deste show ...</td>\n",
       "      <td>neg</td>\n",
       "    </tr>\n",
       "    <tr>\n",
       "      <td>49458</td>\n",
       "      <td>Este é um filme histórico importante, já que f...</td>\n",
       "      <td>pos</td>\n",
       "    </tr>\n",
       "  </tbody>\n",
       "</table>\n",
       "<p>49459 rows × 2 columns</p>\n",
       "</div>"
      ],
      "text/plain": [
       "                                                 text_pt sentiment\n",
       "0      Dark Harvest é uma produção de orçamento muito...       neg\n",
       "1      \"Ambos tropeçaram juntos neste mundo sem forma...       pos\n",
       "2      Eu aluguei este filme porque parecia bem inter...       neg\n",
       "3      A morte violenta de Fernando Ramos da Silva ap...       pos\n",
       "4      Eu tenho que dizer, eu amei Vanishing Point. E...       pos\n",
       "...                                                  ...       ...\n",
       "49454  Um humor infantil frenético, um tanto mesquinh...       neg\n",
       "49455  Absolutamente unwatchable, menor qualidade cin...       neg\n",
       "49456  Hmmm, não é um patch no original da Shaw Broth...       neg\n",
       "49457  Eu assisti os primeiros 10 minutos deste show ...       neg\n",
       "49458  Este é um filme histórico importante, já que f...       pos\n",
       "\n",
       "[49459 rows x 2 columns]"
      ]
     },
     "execution_count": 11,
     "metadata": {},
     "output_type": "execute_result"
    }
   ],
   "source": [
    "# Shuffle the data frame and its content/rows/entries and\n",
    "# remove entries with NaN at `text_pt` column\n",
    "df_master = df_master[pd.notnull(df_master['text_pt'])]\n",
    "df_master = df_master.sample(frac=1).reset_index(drop=True)\n",
    "df_master[['text_pt', 'sentiment']]"
   ]
  },
  {
   "cell_type": "code",
   "execution_count": 12,
   "metadata": {},
   "outputs": [],
   "source": [
    "number_rows = df_master.shape[0]\n",
    "traninng_threshold = int(0.40 * number_rows)"
   ]
  },
  {
   "cell_type": "code",
   "execution_count": 13,
   "metadata": {},
   "outputs": [],
   "source": [
    "training_df = df_master[['text_pt', 'sentiment']].iloc[0:traninng_threshold]\n",
    "testing_df = df_master[['text_pt', 'sentiment']].iloc[traninng_threshold + 1:-1]"
   ]
  },
  {
   "cell_type": "code",
   "execution_count": 14,
   "metadata": {},
   "outputs": [
    {
     "data": {
      "text/html": [
       "<div>\n",
       "<style scoped>\n",
       "    .dataframe tbody tr th:only-of-type {\n",
       "        vertical-align: middle;\n",
       "    }\n",
       "\n",
       "    .dataframe tbody tr th {\n",
       "        vertical-align: top;\n",
       "    }\n",
       "\n",
       "    .dataframe thead th {\n",
       "        text-align: right;\n",
       "    }\n",
       "</style>\n",
       "<table border=\"1\" class=\"dataframe\">\n",
       "  <thead>\n",
       "    <tr style=\"text-align: right;\">\n",
       "      <th></th>\n",
       "      <th>text_pt</th>\n",
       "      <th>sentiment</th>\n",
       "    </tr>\n",
       "  </thead>\n",
       "  <tbody>\n",
       "    <tr>\n",
       "      <td>0</td>\n",
       "      <td>Dark Harvest é uma produção de orçamento muito...</td>\n",
       "      <td>neg</td>\n",
       "    </tr>\n",
       "    <tr>\n",
       "      <td>1</td>\n",
       "      <td>\"Ambos tropeçaram juntos neste mundo sem forma...</td>\n",
       "      <td>pos</td>\n",
       "    </tr>\n",
       "    <tr>\n",
       "      <td>2</td>\n",
       "      <td>Eu aluguei este filme porque parecia bem inter...</td>\n",
       "      <td>neg</td>\n",
       "    </tr>\n",
       "    <tr>\n",
       "      <td>3</td>\n",
       "      <td>A morte violenta de Fernando Ramos da Silva ap...</td>\n",
       "      <td>pos</td>\n",
       "    </tr>\n",
       "    <tr>\n",
       "      <td>4</td>\n",
       "      <td>Eu tenho que dizer, eu amei Vanishing Point. E...</td>\n",
       "      <td>pos</td>\n",
       "    </tr>\n",
       "    <tr>\n",
       "      <td>...</td>\n",
       "      <td>...</td>\n",
       "      <td>...</td>\n",
       "    </tr>\n",
       "    <tr>\n",
       "      <td>19778</td>\n",
       "      <td>A Porta Dourada é a história de uma viagem fam...</td>\n",
       "      <td>pos</td>\n",
       "    </tr>\n",
       "    <tr>\n",
       "      <td>19779</td>\n",
       "      <td>No final dos anos 40, a era da comédia maluca ...</td>\n",
       "      <td>pos</td>\n",
       "    </tr>\n",
       "    <tr>\n",
       "      <td>19780</td>\n",
       "      <td>As pessoas que estão falando mal desse filme s...</td>\n",
       "      <td>pos</td>\n",
       "    </tr>\n",
       "    <tr>\n",
       "      <td>19781</td>\n",
       "      <td>Lost guarda algo interessante para todos. Você...</td>\n",
       "      <td>pos</td>\n",
       "    </tr>\n",
       "    <tr>\n",
       "      <td>19782</td>\n",
       "      <td>Às vezes eu gosto de filmes realmente ruins .....</td>\n",
       "      <td>neg</td>\n",
       "    </tr>\n",
       "  </tbody>\n",
       "</table>\n",
       "<p>19783 rows × 2 columns</p>\n",
       "</div>"
      ],
      "text/plain": [
       "                                                 text_pt sentiment\n",
       "0      Dark Harvest é uma produção de orçamento muito...       neg\n",
       "1      \"Ambos tropeçaram juntos neste mundo sem forma...       pos\n",
       "2      Eu aluguei este filme porque parecia bem inter...       neg\n",
       "3      A morte violenta de Fernando Ramos da Silva ap...       pos\n",
       "4      Eu tenho que dizer, eu amei Vanishing Point. E...       pos\n",
       "...                                                  ...       ...\n",
       "19778  A Porta Dourada é a história de uma viagem fam...       pos\n",
       "19779  No final dos anos 40, a era da comédia maluca ...       pos\n",
       "19780  As pessoas que estão falando mal desse filme s...       pos\n",
       "19781  Lost guarda algo interessante para todos. Você...       pos\n",
       "19782  Às vezes eu gosto de filmes realmente ruins .....       neg\n",
       "\n",
       "[19783 rows x 2 columns]"
      ]
     },
     "execution_count": 14,
     "metadata": {},
     "output_type": "execute_result"
    }
   ],
   "source": [
    "training_df"
   ]
  },
  {
   "cell_type": "code",
   "execution_count": 15,
   "metadata": {},
   "outputs": [
    {
     "data": {
      "text/html": [
       "<div>\n",
       "<style scoped>\n",
       "    .dataframe tbody tr th:only-of-type {\n",
       "        vertical-align: middle;\n",
       "    }\n",
       "\n",
       "    .dataframe tbody tr th {\n",
       "        vertical-align: top;\n",
       "    }\n",
       "\n",
       "    .dataframe thead th {\n",
       "        text-align: right;\n",
       "    }\n",
       "</style>\n",
       "<table border=\"1\" class=\"dataframe\">\n",
       "  <thead>\n",
       "    <tr style=\"text-align: right;\">\n",
       "      <th></th>\n",
       "      <th>text_pt</th>\n",
       "      <th>sentiment</th>\n",
       "    </tr>\n",
       "  </thead>\n",
       "  <tbody>\n",
       "    <tr>\n",
       "      <td>19784</td>\n",
       "      <td>Trabalho com câmeras - Por que o trabalho da c...</td>\n",
       "      <td>neg</td>\n",
       "    </tr>\n",
       "    <tr>\n",
       "      <td>19785</td>\n",
       "      <td>Então, um dia, eu estava na locadora procurand...</td>\n",
       "      <td>neg</td>\n",
       "    </tr>\n",
       "    <tr>\n",
       "      <td>19786</td>\n",
       "      <td>Acabei de voltar do cinema de madrugada e foi ...</td>\n",
       "      <td>pos</td>\n",
       "    </tr>\n",
       "    <tr>\n",
       "      <td>19787</td>\n",
       "      <td>Um multi-milionário se casa com uma médica. El...</td>\n",
       "      <td>neg</td>\n",
       "    </tr>\n",
       "    <tr>\n",
       "      <td>19788</td>\n",
       "      <td>Filme sem sentido sobre como fazer um filme. N...</td>\n",
       "      <td>neg</td>\n",
       "    </tr>\n",
       "    <tr>\n",
       "      <td>...</td>\n",
       "      <td>...</td>\n",
       "      <td>...</td>\n",
       "    </tr>\n",
       "    <tr>\n",
       "      <td>49453</td>\n",
       "      <td>Este é um dos melhores filmes de terror que já...</td>\n",
       "      <td>pos</td>\n",
       "    </tr>\n",
       "    <tr>\n",
       "      <td>49454</td>\n",
       "      <td>Um humor infantil frenético, um tanto mesquinh...</td>\n",
       "      <td>neg</td>\n",
       "    </tr>\n",
       "    <tr>\n",
       "      <td>49455</td>\n",
       "      <td>Absolutamente unwatchable, menor qualidade cin...</td>\n",
       "      <td>neg</td>\n",
       "    </tr>\n",
       "    <tr>\n",
       "      <td>49456</td>\n",
       "      <td>Hmmm, não é um patch no original da Shaw Broth...</td>\n",
       "      <td>neg</td>\n",
       "    </tr>\n",
       "    <tr>\n",
       "      <td>49457</td>\n",
       "      <td>Eu assisti os primeiros 10 minutos deste show ...</td>\n",
       "      <td>neg</td>\n",
       "    </tr>\n",
       "  </tbody>\n",
       "</table>\n",
       "<p>29674 rows × 2 columns</p>\n",
       "</div>"
      ],
      "text/plain": [
       "                                                 text_pt sentiment\n",
       "19784  Trabalho com câmeras - Por que o trabalho da c...       neg\n",
       "19785  Então, um dia, eu estava na locadora procurand...       neg\n",
       "19786  Acabei de voltar do cinema de madrugada e foi ...       pos\n",
       "19787  Um multi-milionário se casa com uma médica. El...       neg\n",
       "19788  Filme sem sentido sobre como fazer um filme. N...       neg\n",
       "...                                                  ...       ...\n",
       "49453  Este é um dos melhores filmes de terror que já...       pos\n",
       "49454  Um humor infantil frenético, um tanto mesquinh...       neg\n",
       "49455  Absolutamente unwatchable, menor qualidade cin...       neg\n",
       "49456  Hmmm, não é um patch no original da Shaw Broth...       neg\n",
       "49457  Eu assisti os primeiros 10 minutos deste show ...       neg\n",
       "\n",
       "[29674 rows x 2 columns]"
      ]
     },
     "execution_count": 15,
     "metadata": {},
     "output_type": "execute_result"
    }
   ],
   "source": [
    "testing_df"
   ]
  },
  {
   "cell_type": "markdown",
   "metadata": {},
   "source": [
    "## Preparação, treinamento, predição & análise dos dados\n"
   ]
  },
  {
   "cell_type": "markdown",
   "metadata": {},
   "source": [
    "### *DecisionTreeClassifier*"
   ]
  },
  {
   "cell_type": "markdown",
   "metadata": {},
   "source": [
    "#### *DecisionTreeClassifier* + *CountVectorizer*"
   ]
  },
  {
   "cell_type": "code",
   "execution_count": 16,
   "metadata": {},
   "outputs": [],
   "source": [
    "training_docs = training_df[\"text_pt\"].values\n",
    "training_classes = training_df[\"sentiment\"].values\n",
    "testing_docs = testing_df[\"text_pt\"].values"
   ]
  },
  {
   "cell_type": "code",
   "execution_count": 17,
   "metadata": {},
   "outputs": [
    {
     "data": {
      "text/plain": [
       "DecisionTreeClassifier(class_weight=None, criterion='gini', max_depth=None,\n",
       "                       max_features=None, max_leaf_nodes=None,\n",
       "                       min_impurity_decrease=0.0, min_impurity_split=None,\n",
       "                       min_samples_leaf=1, min_samples_split=2,\n",
       "                       min_weight_fraction_leaf=0.0, presort=False,\n",
       "                       random_state=None, splitter='best')"
      ]
     },
     "execution_count": 17,
     "metadata": {},
     "output_type": "execute_result"
    }
   ],
   "source": [
    "vectorizer = CountVectorizer(analyzer=\"word\")\n",
    "frequency_training_docs = vectorizer.fit_transform(training_docs)\n",
    "model = DecisionTreeClassifier()\n",
    "model.fit(frequency_training_docs, training_classes)"
   ]
  },
  {
   "cell_type": "code",
   "execution_count": 18,
   "metadata": {},
   "outputs": [],
   "source": [
    "frequency_testing_docs = vectorizer.transform(testing_docs)\n",
    "testing_classes = model.predict(frequency_testing_docs)"
   ]
  },
  {
   "cell_type": "code",
   "execution_count": 19,
   "metadata": {},
   "outputs": [
    {
     "data": {
      "text/plain": [
       "array(['neg', 'neg', 'pos', ..., 'neg', 'neg', 'pos'], dtype=object)"
      ]
     },
     "execution_count": 19,
     "metadata": {},
     "output_type": "execute_result"
    }
   ],
   "source": [
    "testing_classes"
   ]
  },
  {
   "cell_type": "code",
   "execution_count": 20,
   "metadata": {},
   "outputs": [],
   "source": [
    "y_true = testing_df[\"sentiment\"].values\n",
    "y_pred = testing_classes"
   ]
  },
  {
   "cell_type": "code",
   "execution_count": 21,
   "metadata": {},
   "outputs": [
    {
     "data": {
      "text/plain": [
       "array([0.69950242, 0.69808134])"
      ]
     },
     "execution_count": 21,
     "metadata": {},
     "output_type": "execute_result"
    }
   ],
   "source": [
    "experiment_01 = f1_score(y_true, y_pred, average=None)\n",
    "experiment_01"
   ]
  },
  {
   "cell_type": "markdown",
   "metadata": {},
   "source": [
    "#### *DecisionTreeClassifier* + *CountVectorizer* &mdash; com remoção de *stopwords*"
   ]
  },
  {
   "cell_type": "code",
   "execution_count": 22,
   "metadata": {},
   "outputs": [],
   "source": [
    "training_docs = remove_stopwords_and_punctuation(training_df[\"text_pt\"].values)\n",
    "training_classes = training_df[\"sentiment\"].values\n",
    "testing_docs = remove_stopwords_and_punctuation(testing_df[\"text_pt\"].values)"
   ]
  },
  {
   "cell_type": "code",
   "execution_count": 23,
   "metadata": {},
   "outputs": [
    {
     "data": {
      "text/plain": [
       "DecisionTreeClassifier(class_weight=None, criterion='gini', max_depth=None,\n",
       "                       max_features=None, max_leaf_nodes=None,\n",
       "                       min_impurity_decrease=0.0, min_impurity_split=None,\n",
       "                       min_samples_leaf=1, min_samples_split=2,\n",
       "                       min_weight_fraction_leaf=0.0, presort=False,\n",
       "                       random_state=None, splitter='best')"
      ]
     },
     "execution_count": 23,
     "metadata": {},
     "output_type": "execute_result"
    }
   ],
   "source": [
    "vectorizer = CountVectorizer(analyzer=\"word\")\n",
    "frequency_training_docs = vectorizer.fit_transform(training_docs)\n",
    "model = DecisionTreeClassifier()\n",
    "model.fit(frequency_training_docs, training_classes)"
   ]
  },
  {
   "cell_type": "code",
   "execution_count": 24,
   "metadata": {},
   "outputs": [],
   "source": [
    "frequency_testing_docs = vectorizer.transform(testing_docs)\n",
    "testing_classes = model.predict(frequency_testing_docs)"
   ]
  },
  {
   "cell_type": "code",
   "execution_count": 25,
   "metadata": {},
   "outputs": [
    {
     "data": {
      "text/plain": [
       "array(['neg', 'neg', 'neg', ..., 'neg', 'pos', 'pos'], dtype=object)"
      ]
     },
     "execution_count": 25,
     "metadata": {},
     "output_type": "execute_result"
    }
   ],
   "source": [
    "testing_classes"
   ]
  },
  {
   "cell_type": "code",
   "execution_count": 26,
   "metadata": {},
   "outputs": [],
   "source": [
    "y_true = testing_df[\"sentiment\"].values\n",
    "y_pred = testing_classes"
   ]
  },
  {
   "cell_type": "code",
   "execution_count": 27,
   "metadata": {},
   "outputs": [
    {
     "data": {
      "text/plain": [
       "array([0.70363975, 0.70640325])"
      ]
     },
     "execution_count": 27,
     "metadata": {},
     "output_type": "execute_result"
    }
   ],
   "source": [
    "experiment_01_sw = f1_score(y_true, y_pred, average=None)\n",
    "experiment_01_sw"
   ]
  },
  {
   "cell_type": "markdown",
   "metadata": {},
   "source": [
    "#### DecisionTreeClassifier + TfidfVectorizer"
   ]
  },
  {
   "cell_type": "code",
   "execution_count": 28,
   "metadata": {},
   "outputs": [],
   "source": [
    "training_docs = training_df[\"text_pt\"].values\n",
    "training_classes = training_df[\"sentiment\"].values\n",
    "testing_docs = testing_df[\"text_pt\"].values"
   ]
  },
  {
   "cell_type": "code",
   "execution_count": 29,
   "metadata": {},
   "outputs": [
    {
     "data": {
      "text/plain": [
       "DecisionTreeClassifier(class_weight=None, criterion='gini', max_depth=None,\n",
       "                       max_features=None, max_leaf_nodes=None,\n",
       "                       min_impurity_decrease=0.0, min_impurity_split=None,\n",
       "                       min_samples_leaf=1, min_samples_split=2,\n",
       "                       min_weight_fraction_leaf=0.0, presort=False,\n",
       "                       random_state=None, splitter='best')"
      ]
     },
     "execution_count": 29,
     "metadata": {},
     "output_type": "execute_result"
    }
   ],
   "source": [
    "vectorizer = TfidfVectorizer(analyzer=\"word\")\n",
    "frequency_training_docs = vectorizer.fit_transform(training_docs)\n",
    "model = DecisionTreeClassifier()\n",
    "model.fit(frequency_training_docs, training_classes)"
   ]
  },
  {
   "cell_type": "code",
   "execution_count": 30,
   "metadata": {},
   "outputs": [],
   "source": [
    "frequency_testing_docs = vectorizer.transform(testing_docs)\n",
    "testing_classes = model.predict(frequency_testing_docs)"
   ]
  },
  {
   "cell_type": "code",
   "execution_count": 31,
   "metadata": {},
   "outputs": [
    {
     "data": {
      "text/plain": [
       "array(['pos', 'neg', 'pos', ..., 'neg', 'pos', 'neg'], dtype=object)"
      ]
     },
     "execution_count": 31,
     "metadata": {},
     "output_type": "execute_result"
    }
   ],
   "source": [
    "testing_classes"
   ]
  },
  {
   "cell_type": "code",
   "execution_count": 32,
   "metadata": {},
   "outputs": [],
   "source": [
    "y_true = testing_df[\"sentiment\"].values\n",
    "y_pred = testing_classes"
   ]
  },
  {
   "cell_type": "code",
   "execution_count": 33,
   "metadata": {},
   "outputs": [
    {
     "data": {
      "text/plain": [
       "array([0.69301526, 0.69291179])"
      ]
     },
     "execution_count": 33,
     "metadata": {},
     "output_type": "execute_result"
    }
   ],
   "source": [
    "experiment_02 = f1_score(y_true, y_pred, average=None)\n",
    "experiment_02"
   ]
  },
  {
   "cell_type": "markdown",
   "metadata": {},
   "source": [
    "#### DecisionTreeClassifier + TfidfVectorizer &mdash; com remoção de *stopwords*"
   ]
  },
  {
   "cell_type": "code",
   "execution_count": 34,
   "metadata": {},
   "outputs": [],
   "source": [
    "training_docs = remove_stopwords_and_punctuation(training_df[\"text_pt\"].values)\n",
    "training_classes = training_df[\"sentiment\"].values\n",
    "testing_docs = remove_stopwords_and_punctuation(testing_df[\"text_pt\"].values)"
   ]
  },
  {
   "cell_type": "code",
   "execution_count": 35,
   "metadata": {},
   "outputs": [
    {
     "data": {
      "text/plain": [
       "DecisionTreeClassifier(class_weight=None, criterion='gini', max_depth=None,\n",
       "                       max_features=None, max_leaf_nodes=None,\n",
       "                       min_impurity_decrease=0.0, min_impurity_split=None,\n",
       "                       min_samples_leaf=1, min_samples_split=2,\n",
       "                       min_weight_fraction_leaf=0.0, presort=False,\n",
       "                       random_state=None, splitter='best')"
      ]
     },
     "execution_count": 35,
     "metadata": {},
     "output_type": "execute_result"
    }
   ],
   "source": [
    "vectorizer = TfidfVectorizer(analyzer=\"word\")\n",
    "frequency_training_docs = vectorizer.fit_transform(training_docs)\n",
    "model = DecisionTreeClassifier()\n",
    "model.fit(frequency_training_docs, training_classes)"
   ]
  },
  {
   "cell_type": "code",
   "execution_count": 36,
   "metadata": {},
   "outputs": [],
   "source": [
    "frequency_testing_docs = vectorizer.transform(testing_docs)\n",
    "testing_classes = model.predict(frequency_testing_docs)"
   ]
  },
  {
   "cell_type": "code",
   "execution_count": 37,
   "metadata": {},
   "outputs": [
    {
     "data": {
      "text/plain": [
       "array(['pos', 'neg', 'pos', ..., 'neg', 'pos', 'neg'], dtype=object)"
      ]
     },
     "execution_count": 37,
     "metadata": {},
     "output_type": "execute_result"
    }
   ],
   "source": [
    "testing_classes"
   ]
  },
  {
   "cell_type": "code",
   "execution_count": 38,
   "metadata": {},
   "outputs": [],
   "source": [
    "y_true = testing_df[\"sentiment\"].values\n",
    "y_pred = testing_classes"
   ]
  },
  {
   "cell_type": "code",
   "execution_count": 39,
   "metadata": {},
   "outputs": [
    {
     "data": {
      "text/plain": [
       "array([0.69783184, 0.6944115 ])"
      ]
     },
     "execution_count": 39,
     "metadata": {},
     "output_type": "execute_result"
    }
   ],
   "source": [
    "experiment_02_sw = f1_score(y_true, y_pred, average=None)\n",
    "experiment_02_sw"
   ]
  },
  {
   "cell_type": "markdown",
   "metadata": {},
   "source": [
    "#### *DecisionTreeClassifier* + (*CountVectorizer* + *TfidfVectorizer*)"
   ]
  },
  {
   "cell_type": "code",
   "execution_count": 40,
   "metadata": {},
   "outputs": [],
   "source": [
    "training_docs = training_df[\"text_pt\"].values\n",
    "training_classes = training_df[\"sentiment\"].values\n",
    "testing_docs = testing_df[\"text_pt\"].values"
   ]
  },
  {
   "cell_type": "code",
   "execution_count": 41,
   "metadata": {},
   "outputs": [
    {
     "data": {
      "text/plain": [
       "DecisionTreeClassifier(class_weight=None, criterion='gini', max_depth=None,\n",
       "                       max_features=None, max_leaf_nodes=None,\n",
       "                       min_impurity_decrease=0.0, min_impurity_split=None,\n",
       "                       min_samples_leaf=1, min_samples_split=2,\n",
       "                       min_weight_fraction_leaf=0.0, presort=False,\n",
       "                       random_state=None, splitter='best')"
      ]
     },
     "execution_count": 41,
     "metadata": {},
     "output_type": "execute_result"
    }
   ],
   "source": [
    "vectorizer = CountVectorizer(analyzer=\"word\", min_df=1)\n",
    "frequency_training_docs = vectorizer.fit_transform(training_docs)\n",
    "tf_transformer = TfidfTransformer(use_idf=False).fit(frequency_training_docs)\n",
    "frequency_training_docs = tf_transformer.transform(frequency_training_docs)\n",
    "model = DecisionTreeClassifier()\n",
    "model.fit(frequency_training_docs, training_classes)"
   ]
  },
  {
   "cell_type": "code",
   "execution_count": 42,
   "metadata": {},
   "outputs": [],
   "source": [
    "frequency_testing_docs = vectorizer.transform(testing_docs)\n",
    "tf_transformer = TfidfTransformer(use_idf=False).fit(frequency_testing_docs)\n",
    "frequency_testing_docs = tf_transformer.transform(frequency_testing_docs)\n",
    "testing_classes = model.predict(frequency_testing_docs)"
   ]
  },
  {
   "cell_type": "code",
   "execution_count": 43,
   "metadata": {},
   "outputs": [
    {
     "data": {
      "text/plain": [
       "array(['pos', 'neg', 'pos', ..., 'neg', 'neg', 'pos'], dtype=object)"
      ]
     },
     "execution_count": 43,
     "metadata": {},
     "output_type": "execute_result"
    }
   ],
   "source": [
    "testing_classes"
   ]
  },
  {
   "cell_type": "code",
   "execution_count": 44,
   "metadata": {},
   "outputs": [],
   "source": [
    "y_true = testing_df[\"sentiment\"].values\n",
    "y_pred = testing_classes"
   ]
  },
  {
   "cell_type": "code",
   "execution_count": 45,
   "metadata": {},
   "outputs": [
    {
     "data": {
      "text/plain": [
       "array([0.69131811, 0.69090173])"
      ]
     },
     "execution_count": 45,
     "metadata": {},
     "output_type": "execute_result"
    }
   ],
   "source": [
    "experiment_03 = f1_score(y_true, y_pred, average=None)\n",
    "experiment_03"
   ]
  },
  {
   "cell_type": "markdown",
   "metadata": {},
   "source": [
    "#### *DecisionTreeClassifier* + (*CountVectorizer* + *TfidfVectorizer*) &mdash; com remoção de *stopwords*"
   ]
  },
  {
   "cell_type": "code",
   "execution_count": 46,
   "metadata": {},
   "outputs": [],
   "source": [
    "training_docs = remove_stopwords_and_punctuation(training_df[\"text_pt\"].values)\n",
    "training_classes = training_df[\"sentiment\"].values\n",
    "testing_docs = remove_stopwords_and_punctuation(testing_df[\"text_pt\"].values)"
   ]
  },
  {
   "cell_type": "code",
   "execution_count": 47,
   "metadata": {},
   "outputs": [
    {
     "data": {
      "text/plain": [
       "DecisionTreeClassifier(class_weight=None, criterion='gini', max_depth=None,\n",
       "                       max_features=None, max_leaf_nodes=None,\n",
       "                       min_impurity_decrease=0.0, min_impurity_split=None,\n",
       "                       min_samples_leaf=1, min_samples_split=2,\n",
       "                       min_weight_fraction_leaf=0.0, presort=False,\n",
       "                       random_state=None, splitter='best')"
      ]
     },
     "execution_count": 47,
     "metadata": {},
     "output_type": "execute_result"
    }
   ],
   "source": [
    "vectorizer = CountVectorizer(analyzer=\"word\", min_df=1)\n",
    "frequency_training_docs = vectorizer.fit_transform(training_docs)\n",
    "tf_transformer = TfidfTransformer(use_idf=False).fit(frequency_training_docs)\n",
    "frequency_training_docs = tf_transformer.transform(frequency_training_docs)\n",
    "model = DecisionTreeClassifier()\n",
    "model.fit(frequency_training_docs, training_classes)"
   ]
  },
  {
   "cell_type": "code",
   "execution_count": 48,
   "metadata": {},
   "outputs": [],
   "source": [
    "frequency_testing_docs = vectorizer.transform(testing_docs)\n",
    "tf_transformer = TfidfTransformer(use_idf=False).fit(frequency_testing_docs)\n",
    "frequency_testing_docs = tf_transformer.transform(frequency_testing_docs)\n",
    "testing_classes = model.predict(frequency_testing_docs)"
   ]
  },
  {
   "cell_type": "code",
   "execution_count": 49,
   "metadata": {},
   "outputs": [
    {
     "data": {
      "text/plain": [
       "array(['neg', 'neg', 'pos', ..., 'neg', 'pos', 'neg'], dtype=object)"
      ]
     },
     "execution_count": 49,
     "metadata": {},
     "output_type": "execute_result"
    }
   ],
   "source": [
    "testing_classes"
   ]
  },
  {
   "cell_type": "code",
   "execution_count": 50,
   "metadata": {},
   "outputs": [],
   "source": [
    "y_true = testing_df[\"sentiment\"].values\n",
    "y_pred = testing_classes"
   ]
  },
  {
   "cell_type": "code",
   "execution_count": 51,
   "metadata": {},
   "outputs": [
    {
     "data": {
      "text/plain": [
       "array([0.70300222, 0.70091309])"
      ]
     },
     "execution_count": 51,
     "metadata": {},
     "output_type": "execute_result"
    }
   ],
   "source": [
    "experiment_03_sw = f1_score(y_true, y_pred, average=None)\n",
    "experiment_03_sw"
   ]
  },
  {
   "cell_type": "markdown",
   "metadata": {},
   "source": [
    "#### *DecisionTreeClassifier* + Unigram"
   ]
  },
  {
   "cell_type": "code",
   "execution_count": 52,
   "metadata": {},
   "outputs": [],
   "source": [
    "training_docs = training_df[\"text_pt\"].values\n",
    "training_classes = training_df[\"sentiment\"].values\n",
    "testing_docs = testing_df[\"text_pt\"].values"
   ]
  },
  {
   "cell_type": "code",
   "execution_count": 53,
   "metadata": {},
   "outputs": [
    {
     "data": {
      "text/plain": [
       "DecisionTreeClassifier(class_weight=None, criterion='gini', max_depth=None,\n",
       "                       max_features=None, max_leaf_nodes=None,\n",
       "                       min_impurity_decrease=0.0, min_impurity_split=None,\n",
       "                       min_samples_leaf=1, min_samples_split=2,\n",
       "                       min_weight_fraction_leaf=0.0, presort=False,\n",
       "                       random_state=None, splitter='best')"
      ]
     },
     "execution_count": 53,
     "metadata": {},
     "output_type": "execute_result"
    }
   ],
   "source": [
    "vectorizer = CountVectorizer(analyzer=\"word\", ngram_range=(1,1))\n",
    "frequency_training_docs = vectorizer.fit_transform(training_docs)\n",
    "model = DecisionTreeClassifier()\n",
    "model.fit(frequency_training_docs, training_classes)"
   ]
  },
  {
   "cell_type": "code",
   "execution_count": 54,
   "metadata": {},
   "outputs": [],
   "source": [
    "frequency_testing_docs = vectorizer.transform(testing_docs)\n",
    "testing_classes = model.predict(frequency_testing_docs)"
   ]
  },
  {
   "cell_type": "code",
   "execution_count": 55,
   "metadata": {},
   "outputs": [
    {
     "data": {
      "text/plain": [
       "array(['neg', 'neg', 'pos', ..., 'pos', 'neg', 'pos'], dtype=object)"
      ]
     },
     "execution_count": 55,
     "metadata": {},
     "output_type": "execute_result"
    }
   ],
   "source": [
    "testing_classes"
   ]
  },
  {
   "cell_type": "code",
   "execution_count": 56,
   "metadata": {},
   "outputs": [],
   "source": [
    "y_true = testing_df[\"sentiment\"].values\n",
    "y_pred = testing_classes"
   ]
  },
  {
   "cell_type": "code",
   "execution_count": 57,
   "metadata": {},
   "outputs": [
    {
     "data": {
      "text/plain": [
       "array([0.70106581, 0.70345383])"
      ]
     },
     "execution_count": 57,
     "metadata": {},
     "output_type": "execute_result"
    }
   ],
   "source": [
    "experiment_04 = f1_score(y_true, y_pred, average=None)\n",
    "experiment_04"
   ]
  },
  {
   "cell_type": "markdown",
   "metadata": {},
   "source": [
    "#### *DecisionTreeClassifier* + Unigram &mdash; com remoção de *stopwords*"
   ]
  },
  {
   "cell_type": "code",
   "execution_count": 58,
   "metadata": {},
   "outputs": [],
   "source": [
    "training_docs = remove_stopwords_and_punctuation(training_df[\"text_pt\"].values)\n",
    "training_classes = training_df[\"sentiment\"].values\n",
    "testing_docs = remove_stopwords_and_punctuation(testing_df[\"text_pt\"].values)"
   ]
  },
  {
   "cell_type": "code",
   "execution_count": 59,
   "metadata": {},
   "outputs": [
    {
     "data": {
      "text/plain": [
       "DecisionTreeClassifier(class_weight=None, criterion='gini', max_depth=None,\n",
       "                       max_features=None, max_leaf_nodes=None,\n",
       "                       min_impurity_decrease=0.0, min_impurity_split=None,\n",
       "                       min_samples_leaf=1, min_samples_split=2,\n",
       "                       min_weight_fraction_leaf=0.0, presort=False,\n",
       "                       random_state=None, splitter='best')"
      ]
     },
     "execution_count": 59,
     "metadata": {},
     "output_type": "execute_result"
    }
   ],
   "source": [
    "vectorizer = CountVectorizer(analyzer=\"word\", ngram_range=(1,1))\n",
    "frequency_training_docs = vectorizer.fit_transform(training_docs)\n",
    "model = DecisionTreeClassifier()\n",
    "model.fit(frequency_training_docs, training_classes)"
   ]
  },
  {
   "cell_type": "code",
   "execution_count": 60,
   "metadata": {},
   "outputs": [],
   "source": [
    "frequency_testing_docs = vectorizer.transform(testing_docs)\n",
    "testing_classes = model.predict(frequency_testing_docs)"
   ]
  },
  {
   "cell_type": "code",
   "execution_count": 61,
   "metadata": {},
   "outputs": [
    {
     "data": {
      "text/plain": [
       "array(['neg', 'neg', 'neg', ..., 'neg', 'pos', 'pos'], dtype=object)"
      ]
     },
     "execution_count": 61,
     "metadata": {},
     "output_type": "execute_result"
    }
   ],
   "source": [
    "testing_classes"
   ]
  },
  {
   "cell_type": "code",
   "execution_count": 62,
   "metadata": {},
   "outputs": [],
   "source": [
    "y_true = testing_df[\"sentiment\"].values\n",
    "y_pred = testing_classes"
   ]
  },
  {
   "cell_type": "code",
   "execution_count": 63,
   "metadata": {},
   "outputs": [
    {
     "data": {
      "text/plain": [
       "array([0.70489473, 0.70750856])"
      ]
     },
     "execution_count": 63,
     "metadata": {},
     "output_type": "execute_result"
    }
   ],
   "source": [
    "experiment_04_sw = f1_score(y_true, y_pred, average=None)\n",
    "experiment_04_sw"
   ]
  },
  {
   "cell_type": "markdown",
   "metadata": {},
   "source": [
    "#### *DecisionTreeClassifier* + Bigram"
   ]
  },
  {
   "cell_type": "code",
   "execution_count": 64,
   "metadata": {},
   "outputs": [],
   "source": [
    "training_docs = training_df[\"text_pt\"].values\n",
    "training_classes = training_df[\"sentiment\"].values\n",
    "testing_docs = testing_df[\"text_pt\"].values"
   ]
  },
  {
   "cell_type": "code",
   "execution_count": 65,
   "metadata": {},
   "outputs": [
    {
     "data": {
      "text/plain": [
       "DecisionTreeClassifier(class_weight=None, criterion='gini', max_depth=None,\n",
       "                       max_features=None, max_leaf_nodes=None,\n",
       "                       min_impurity_decrease=0.0, min_impurity_split=None,\n",
       "                       min_samples_leaf=1, min_samples_split=2,\n",
       "                       min_weight_fraction_leaf=0.0, presort=False,\n",
       "                       random_state=None, splitter='best')"
      ]
     },
     "execution_count": 65,
     "metadata": {},
     "output_type": "execute_result"
    }
   ],
   "source": [
    "vectorizer = CountVectorizer(analyzer=\"word\", ngram_range=(1,2))\n",
    "frequency_training_docs = vectorizer.fit_transform(training_docs)\n",
    "model = DecisionTreeClassifier()\n",
    "model.fit(frequency_training_docs, training_classes)"
   ]
  },
  {
   "cell_type": "code",
   "execution_count": 66,
   "metadata": {},
   "outputs": [],
   "source": [
    "frequency_testing_docs = vectorizer.transform(testing_docs)\n",
    "testing_classes = model.predict(frequency_testing_docs)"
   ]
  },
  {
   "cell_type": "code",
   "execution_count": 67,
   "metadata": {},
   "outputs": [
    {
     "data": {
      "text/plain": [
       "array(['pos', 'neg', 'pos', ..., 'neg', 'neg', 'neg'], dtype=object)"
      ]
     },
     "execution_count": 67,
     "metadata": {},
     "output_type": "execute_result"
    }
   ],
   "source": [
    "testing_classes"
   ]
  },
  {
   "cell_type": "code",
   "execution_count": 68,
   "metadata": {},
   "outputs": [],
   "source": [
    "y_true = testing_df[\"sentiment\"].values\n",
    "y_pred = testing_classes"
   ]
  },
  {
   "cell_type": "code",
   "execution_count": 69,
   "metadata": {},
   "outputs": [
    {
     "data": {
      "text/plain": [
       "array([0.71439169, 0.71473798])"
      ]
     },
     "execution_count": 69,
     "metadata": {},
     "output_type": "execute_result"
    }
   ],
   "source": [
    "experiment_05 = f1_score(y_true, y_pred, average=None)\n",
    "experiment_05"
   ]
  },
  {
   "cell_type": "markdown",
   "metadata": {},
   "source": [
    "#### *DecisionTreeClassifier* + Bigram &mdash; com remoção de *stopwords*"
   ]
  },
  {
   "cell_type": "code",
   "execution_count": 70,
   "metadata": {},
   "outputs": [],
   "source": [
    "training_docs = remove_stopwords_and_punctuation(training_df[\"text_pt\"].values)\n",
    "training_classes = training_df[\"sentiment\"].values\n",
    "testing_docs = remove_stopwords_and_punctuation(testing_df[\"text_pt\"].values)"
   ]
  },
  {
   "cell_type": "code",
   "execution_count": 71,
   "metadata": {},
   "outputs": [
    {
     "data": {
      "text/plain": [
       "DecisionTreeClassifier(class_weight=None, criterion='gini', max_depth=None,\n",
       "                       max_features=None, max_leaf_nodes=None,\n",
       "                       min_impurity_decrease=0.0, min_impurity_split=None,\n",
       "                       min_samples_leaf=1, min_samples_split=2,\n",
       "                       min_weight_fraction_leaf=0.0, presort=False,\n",
       "                       random_state=None, splitter='best')"
      ]
     },
     "execution_count": 71,
     "metadata": {},
     "output_type": "execute_result"
    }
   ],
   "source": [
    "vectorizer = CountVectorizer(analyzer=\"word\", ngram_range=(1,2))\n",
    "frequency_training_docs = vectorizer.fit_transform(training_docs)\n",
    "model = DecisionTreeClassifier()\n",
    "model.fit(frequency_training_docs, training_classes)"
   ]
  },
  {
   "cell_type": "code",
   "execution_count": 72,
   "metadata": {},
   "outputs": [],
   "source": [
    "frequency_testing_docs = vectorizer.transform(testing_docs)\n",
    "testing_classes = model.predict(frequency_testing_docs)"
   ]
  },
  {
   "cell_type": "code",
   "execution_count": 73,
   "metadata": {},
   "outputs": [
    {
     "data": {
      "text/plain": [
       "array(['neg', 'neg', 'pos', ..., 'neg', 'pos', 'neg'], dtype=object)"
      ]
     },
     "execution_count": 73,
     "metadata": {},
     "output_type": "execute_result"
    }
   ],
   "source": [
    "testing_classes"
   ]
  },
  {
   "cell_type": "code",
   "execution_count": 74,
   "metadata": {},
   "outputs": [],
   "source": [
    "y_true = testing_df[\"sentiment\"].values\n",
    "y_pred = testing_classes"
   ]
  },
  {
   "cell_type": "code",
   "execution_count": 75,
   "metadata": {},
   "outputs": [
    {
     "data": {
      "text/plain": [
       "array([0.71702549, 0.71513102])"
      ]
     },
     "execution_count": 75,
     "metadata": {},
     "output_type": "execute_result"
    }
   ],
   "source": [
    "experiment_05_sw = f1_score(y_true, y_pred, average=None)\n",
    "experiment_05_sw"
   ]
  },
  {
   "cell_type": "markdown",
   "metadata": {},
   "source": [
    "#### *DecisionTreeClassifier* + Trigram"
   ]
  },
  {
   "cell_type": "code",
   "execution_count": 76,
   "metadata": {},
   "outputs": [],
   "source": [
    "training_docs = training_df[\"text_pt\"].values\n",
    "training_classes = training_df[\"sentiment\"].values\n",
    "testing_docs = testing_df[\"text_pt\"].values"
   ]
  },
  {
   "cell_type": "code",
   "execution_count": 77,
   "metadata": {},
   "outputs": [
    {
     "data": {
      "text/plain": [
       "DecisionTreeClassifier(class_weight=None, criterion='gini', max_depth=None,\n",
       "                       max_features=None, max_leaf_nodes=None,\n",
       "                       min_impurity_decrease=0.0, min_impurity_split=None,\n",
       "                       min_samples_leaf=1, min_samples_split=2,\n",
       "                       min_weight_fraction_leaf=0.0, presort=False,\n",
       "                       random_state=None, splitter='best')"
      ]
     },
     "execution_count": 77,
     "metadata": {},
     "output_type": "execute_result"
    }
   ],
   "source": [
    "vectorizer = CountVectorizer(analyzer=\"word\", ngram_range=(1,3))\n",
    "frequency_training_docs = vectorizer.fit_transform(training_docs)\n",
    "model = DecisionTreeClassifier()\n",
    "model.fit(frequency_training_docs, training_classes)"
   ]
  },
  {
   "cell_type": "code",
   "execution_count": 78,
   "metadata": {},
   "outputs": [],
   "source": [
    "frequency_testing_docs = vectorizer.transform(testing_docs)\n",
    "testing_classes = model.predict(frequency_testing_docs)"
   ]
  },
  {
   "cell_type": "code",
   "execution_count": 79,
   "metadata": {},
   "outputs": [
    {
     "data": {
      "text/plain": [
       "array(['pos', 'neg', 'pos', ..., 'neg', 'neg', 'neg'], dtype=object)"
      ]
     },
     "execution_count": 79,
     "metadata": {},
     "output_type": "execute_result"
    }
   ],
   "source": [
    "testing_classes"
   ]
  },
  {
   "cell_type": "code",
   "execution_count": 80,
   "metadata": {},
   "outputs": [],
   "source": [
    "y_true = testing_df[\"sentiment\"].values\n",
    "y_pred = testing_classes"
   ]
  },
  {
   "cell_type": "code",
   "execution_count": 81,
   "metadata": {
    "scrolled": true
   },
   "outputs": [
    {
     "data": {
      "text/plain": [
       "array([0.71046163, 0.70997335])"
      ]
     },
     "execution_count": 81,
     "metadata": {},
     "output_type": "execute_result"
    }
   ],
   "source": [
    "experiment_06 = f1_score(y_true, y_pred, average=None)\n",
    "experiment_06"
   ]
  },
  {
   "cell_type": "markdown",
   "metadata": {},
   "source": [
    "#### *DecisionTreeClassifier* + Trigram &mdash; com remoção de *stopwords*"
   ]
  },
  {
   "cell_type": "code",
   "execution_count": 82,
   "metadata": {},
   "outputs": [],
   "source": [
    "training_docs = remove_stopwords_and_punctuation(training_df[\"text_pt\"].values)\n",
    "training_classes = training_df[\"sentiment\"].values\n",
    "testing_docs = remove_stopwords_and_punctuation(testing_df[\"text_pt\"].values)"
   ]
  },
  {
   "cell_type": "code",
   "execution_count": 83,
   "metadata": {},
   "outputs": [
    {
     "data": {
      "text/plain": [
       "DecisionTreeClassifier(class_weight=None, criterion='gini', max_depth=None,\n",
       "                       max_features=None, max_leaf_nodes=None,\n",
       "                       min_impurity_decrease=0.0, min_impurity_split=None,\n",
       "                       min_samples_leaf=1, min_samples_split=2,\n",
       "                       min_weight_fraction_leaf=0.0, presort=False,\n",
       "                       random_state=None, splitter='best')"
      ]
     },
     "execution_count": 83,
     "metadata": {},
     "output_type": "execute_result"
    }
   ],
   "source": [
    "vectorizer = CountVectorizer(analyzer=\"word\", ngram_range=(1,3))\n",
    "frequency_training_docs = vectorizer.fit_transform(training_docs)\n",
    "model = DecisionTreeClassifier()\n",
    "model.fit(frequency_training_docs, training_classes)"
   ]
  },
  {
   "cell_type": "code",
   "execution_count": 84,
   "metadata": {},
   "outputs": [],
   "source": [
    "frequency_testing_docs = vectorizer.transform(testing_docs)\n",
    "testing_classes = model.predict(frequency_testing_docs)"
   ]
  },
  {
   "cell_type": "code",
   "execution_count": 85,
   "metadata": {},
   "outputs": [
    {
     "data": {
      "text/plain": [
       "array(['pos', 'neg', 'pos', ..., 'neg', 'pos', 'pos'], dtype=object)"
      ]
     },
     "execution_count": 85,
     "metadata": {},
     "output_type": "execute_result"
    }
   ],
   "source": [
    "testing_classes"
   ]
  },
  {
   "cell_type": "code",
   "execution_count": 86,
   "metadata": {},
   "outputs": [],
   "source": [
    "y_true = testing_df[\"sentiment\"].values\n",
    "y_pred = testing_classes"
   ]
  },
  {
   "cell_type": "code",
   "execution_count": 87,
   "metadata": {
    "scrolled": true
   },
   "outputs": [
    {
     "data": {
      "text/plain": [
       "array([0.71816467, 0.71797465])"
      ]
     },
     "execution_count": 87,
     "metadata": {},
     "output_type": "execute_result"
    }
   ],
   "source": [
    "experiment_06_sw = f1_score(y_true, y_pred, average=None)\n",
    "experiment_06_sw"
   ]
  },
  {
   "cell_type": "markdown",
   "metadata": {},
   "source": [
    "### *MultinomialNB*"
   ]
  },
  {
   "cell_type": "markdown",
   "metadata": {},
   "source": [
    "#### *MultinomialNB* + *CountVectorizer*"
   ]
  },
  {
   "cell_type": "code",
   "execution_count": 88,
   "metadata": {},
   "outputs": [],
   "source": [
    "training_docs = training_df[\"text_pt\"].values\n",
    "training_classes = training_df[\"sentiment\"].values\n",
    "testing_docs = testing_df[\"text_pt\"].values"
   ]
  },
  {
   "cell_type": "code",
   "execution_count": 89,
   "metadata": {},
   "outputs": [
    {
     "data": {
      "text/plain": [
       "MultinomialNB(alpha=1.0, class_prior=None, fit_prior=True)"
      ]
     },
     "execution_count": 89,
     "metadata": {},
     "output_type": "execute_result"
    }
   ],
   "source": [
    "vectorizer = CountVectorizer(analyzer=\"word\")\n",
    "frequency_training_docs = vectorizer.fit_transform(training_docs)\n",
    "model = MultinomialNB()\n",
    "model.fit(frequency_training_docs, training_classes)"
   ]
  },
  {
   "cell_type": "code",
   "execution_count": 90,
   "metadata": {},
   "outputs": [],
   "source": [
    "frequency_testing_docs = vectorizer.transform(testing_docs)\n",
    "testing_classes = model.predict(frequency_testing_docs)"
   ]
  },
  {
   "cell_type": "code",
   "execution_count": 91,
   "metadata": {},
   "outputs": [
    {
     "data": {
      "text/plain": [
       "array(['neg', 'neg', 'pos', ..., 'neg', 'neg', 'pos'], dtype='<U3')"
      ]
     },
     "execution_count": 91,
     "metadata": {},
     "output_type": "execute_result"
    }
   ],
   "source": [
    "testing_classes"
   ]
  },
  {
   "cell_type": "code",
   "execution_count": 92,
   "metadata": {},
   "outputs": [],
   "source": [
    "y_true = testing_df[\"sentiment\"].values\n",
    "y_pred = testing_classes"
   ]
  },
  {
   "cell_type": "code",
   "execution_count": 93,
   "metadata": {},
   "outputs": [
    {
     "data": {
      "text/plain": [
       "array([0.84988635, 0.84281329])"
      ]
     },
     "execution_count": 93,
     "metadata": {},
     "output_type": "execute_result"
    }
   ],
   "source": [
    "experiment_11 = f1_score(y_true, y_pred, average=None)\n",
    "experiment_11"
   ]
  },
  {
   "cell_type": "markdown",
   "metadata": {},
   "source": [
    "#### *MultinomialNB* + *CountVectorizer* &mdash; com remoção de *stopwords*"
   ]
  },
  {
   "cell_type": "code",
   "execution_count": 94,
   "metadata": {},
   "outputs": [],
   "source": [
    "training_docs = remove_stopwords_and_punctuation(training_df[\"text_pt\"].values)\n",
    "training_classes = training_df[\"sentiment\"].values\n",
    "testing_docs = remove_stopwords_and_punctuation(testing_df[\"text_pt\"].values)"
   ]
  },
  {
   "cell_type": "code",
   "execution_count": 95,
   "metadata": {},
   "outputs": [
    {
     "data": {
      "text/plain": [
       "MultinomialNB(alpha=1.0, class_prior=None, fit_prior=True)"
      ]
     },
     "execution_count": 95,
     "metadata": {},
     "output_type": "execute_result"
    }
   ],
   "source": [
    "vectorizer = CountVectorizer(analyzer=\"word\")\n",
    "frequency_training_docs = vectorizer.fit_transform(training_docs)\n",
    "model = MultinomialNB()\n",
    "model.fit(frequency_training_docs, training_classes)"
   ]
  },
  {
   "cell_type": "code",
   "execution_count": 96,
   "metadata": {},
   "outputs": [],
   "source": [
    "frequency_testing_docs = vectorizer.transform(testing_docs)\n",
    "testing_classes = model.predict(frequency_testing_docs)"
   ]
  },
  {
   "cell_type": "code",
   "execution_count": 97,
   "metadata": {},
   "outputs": [
    {
     "data": {
      "text/plain": [
       "array(['neg', 'neg', 'pos', ..., 'neg', 'neg', 'pos'], dtype='<U3')"
      ]
     },
     "execution_count": 97,
     "metadata": {},
     "output_type": "execute_result"
    }
   ],
   "source": [
    "testing_classes"
   ]
  },
  {
   "cell_type": "code",
   "execution_count": 98,
   "metadata": {},
   "outputs": [],
   "source": [
    "y_true = testing_df[\"sentiment\"].values\n",
    "y_pred = testing_classes"
   ]
  },
  {
   "cell_type": "code",
   "execution_count": 99,
   "metadata": {},
   "outputs": [
    {
     "data": {
      "text/plain": [
       "array([0.85654555, 0.85201794])"
      ]
     },
     "execution_count": 99,
     "metadata": {},
     "output_type": "execute_result"
    }
   ],
   "source": [
    "experiment_11_sw = f1_score(y_true, y_pred, average=None)\n",
    "experiment_11_sw"
   ]
  },
  {
   "cell_type": "markdown",
   "metadata": {},
   "source": [
    "#### MultinomialNB + TfidfVectorizer"
   ]
  },
  {
   "cell_type": "code",
   "execution_count": 100,
   "metadata": {},
   "outputs": [],
   "source": [
    "training_docs = training_df[\"text_pt\"].values\n",
    "training_classes = training_df[\"sentiment\"].values\n",
    "testing_docs = testing_df[\"text_pt\"].values"
   ]
  },
  {
   "cell_type": "code",
   "execution_count": 101,
   "metadata": {},
   "outputs": [
    {
     "data": {
      "text/plain": [
       "MultinomialNB(alpha=1.0, class_prior=None, fit_prior=True)"
      ]
     },
     "execution_count": 101,
     "metadata": {},
     "output_type": "execute_result"
    }
   ],
   "source": [
    "vectorizer = TfidfVectorizer(analyzer=\"word\")\n",
    "frequency_training_docs = vectorizer.fit_transform(training_docs)\n",
    "model = MultinomialNB()\n",
    "model.fit(frequency_training_docs, training_classes)"
   ]
  },
  {
   "cell_type": "code",
   "execution_count": 102,
   "metadata": {},
   "outputs": [],
   "source": [
    "frequency_testing_docs = vectorizer.transform(testing_docs)\n",
    "testing_classes = model.predict(frequency_testing_docs)"
   ]
  },
  {
   "cell_type": "code",
   "execution_count": 103,
   "metadata": {},
   "outputs": [
    {
     "data": {
      "text/plain": [
       "array(['neg', 'neg', 'pos', ..., 'neg', 'neg', 'pos'], dtype='<U3')"
      ]
     },
     "execution_count": 103,
     "metadata": {},
     "output_type": "execute_result"
    }
   ],
   "source": [
    "testing_classes"
   ]
  },
  {
   "cell_type": "code",
   "execution_count": 104,
   "metadata": {},
   "outputs": [],
   "source": [
    "y_true = testing_df[\"sentiment\"].values\n",
    "y_pred = testing_classes"
   ]
  },
  {
   "cell_type": "code",
   "execution_count": 105,
   "metadata": {},
   "outputs": [
    {
     "data": {
      "text/plain": [
       "array([0.86002473, 0.84965402])"
      ]
     },
     "execution_count": 105,
     "metadata": {},
     "output_type": "execute_result"
    }
   ],
   "source": [
    "experiment_12 = f1_score(y_true, y_pred, average=None)\n",
    "experiment_12"
   ]
  },
  {
   "cell_type": "markdown",
   "metadata": {},
   "source": [
    "#### MultinomialNB + TfidfVectorizer &mdash; com remoção de *stopwords*"
   ]
  },
  {
   "cell_type": "code",
   "execution_count": 106,
   "metadata": {},
   "outputs": [],
   "source": [
    "training_docs = remove_stopwords_and_punctuation(training_df[\"text_pt\"].values)\n",
    "training_classes = training_df[\"sentiment\"].values\n",
    "testing_docs = remove_stopwords_and_punctuation(testing_df[\"text_pt\"].values)"
   ]
  },
  {
   "cell_type": "code",
   "execution_count": 107,
   "metadata": {},
   "outputs": [
    {
     "data": {
      "text/plain": [
       "MultinomialNB(alpha=1.0, class_prior=None, fit_prior=True)"
      ]
     },
     "execution_count": 107,
     "metadata": {},
     "output_type": "execute_result"
    }
   ],
   "source": [
    "vectorizer = TfidfVectorizer(analyzer=\"word\")\n",
    "frequency_training_docs = vectorizer.fit_transform(training_docs)\n",
    "model = MultinomialNB()\n",
    "model.fit(frequency_training_docs, training_classes)"
   ]
  },
  {
   "cell_type": "code",
   "execution_count": 108,
   "metadata": {},
   "outputs": [],
   "source": [
    "frequency_testing_docs = vectorizer.transform(testing_docs)\n",
    "testing_classes = model.predict(frequency_testing_docs)"
   ]
  },
  {
   "cell_type": "code",
   "execution_count": 109,
   "metadata": {},
   "outputs": [
    {
     "data": {
      "text/plain": [
       "array(['neg', 'neg', 'pos', ..., 'neg', 'neg', 'pos'], dtype='<U3')"
      ]
     },
     "execution_count": 109,
     "metadata": {},
     "output_type": "execute_result"
    }
   ],
   "source": [
    "testing_classes"
   ]
  },
  {
   "cell_type": "code",
   "execution_count": 110,
   "metadata": {},
   "outputs": [],
   "source": [
    "y_true = testing_df[\"sentiment\"].values\n",
    "y_pred = testing_classes"
   ]
  },
  {
   "cell_type": "code",
   "execution_count": 111,
   "metadata": {},
   "outputs": [
    {
     "data": {
      "text/plain": [
       "array([0.8612865 , 0.85425017])"
      ]
     },
     "execution_count": 111,
     "metadata": {},
     "output_type": "execute_result"
    }
   ],
   "source": [
    "experiment_12_sw = f1_score(y_true, y_pred, average=None)\n",
    "experiment_12_sw"
   ]
  },
  {
   "cell_type": "markdown",
   "metadata": {},
   "source": [
    "#### *MultinomialNB* + (*CountVectorizer* + *TfidfVectorizer*)"
   ]
  },
  {
   "cell_type": "code",
   "execution_count": 112,
   "metadata": {},
   "outputs": [],
   "source": [
    "training_docs = training_df[\"text_pt\"].values\n",
    "training_classes = training_df[\"sentiment\"].values\n",
    "testing_docs = testing_df[\"text_pt\"].values"
   ]
  },
  {
   "cell_type": "code",
   "execution_count": 113,
   "metadata": {},
   "outputs": [
    {
     "data": {
      "text/plain": [
       "MultinomialNB(alpha=1.0, class_prior=None, fit_prior=True)"
      ]
     },
     "execution_count": 113,
     "metadata": {},
     "output_type": "execute_result"
    }
   ],
   "source": [
    "vectorizer = CountVectorizer(analyzer=\"word\", min_df=1)\n",
    "frequency_training_docs = vectorizer.fit_transform(training_docs)\n",
    "tf_transformer = TfidfTransformer(use_idf=False).fit(frequency_training_docs)\n",
    "frequency_training_docs = tf_transformer.transform(frequency_training_docs)\n",
    "model = MultinomialNB()\n",
    "model.fit(frequency_training_docs, training_classes)"
   ]
  },
  {
   "cell_type": "code",
   "execution_count": 114,
   "metadata": {},
   "outputs": [],
   "source": [
    "frequency_testing_docs = vectorizer.transform(testing_docs)\n",
    "tf_transformer = TfidfTransformer(use_idf=False).fit(frequency_testing_docs)\n",
    "frequency_testing_docs = tf_transformer.transform(frequency_testing_docs)\n",
    "testing_classes = model.predict(frequency_testing_docs)"
   ]
  },
  {
   "cell_type": "code",
   "execution_count": 115,
   "metadata": {},
   "outputs": [
    {
     "data": {
      "text/plain": [
       "array(['neg', 'neg', 'pos', ..., 'neg', 'neg', 'pos'], dtype='<U3')"
      ]
     },
     "execution_count": 115,
     "metadata": {},
     "output_type": "execute_result"
    }
   ],
   "source": [
    "testing_classes"
   ]
  },
  {
   "cell_type": "code",
   "execution_count": 116,
   "metadata": {},
   "outputs": [],
   "source": [
    "y_true = testing_df[\"sentiment\"].values\n",
    "y_pred = testing_classes"
   ]
  },
  {
   "cell_type": "code",
   "execution_count": 117,
   "metadata": {},
   "outputs": [
    {
     "data": {
      "text/plain": [
       "array([0.85267685, 0.83718785])"
      ]
     },
     "execution_count": 117,
     "metadata": {},
     "output_type": "execute_result"
    }
   ],
   "source": [
    "experiment_13 = f1_score(y_true, y_pred, average=None)\n",
    "experiment_13"
   ]
  },
  {
   "cell_type": "markdown",
   "metadata": {},
   "source": [
    "#### *MultinomialNB* + (*CountVectorizer* + *TfidfVectorizer*) &mdash; com remoção de *stopwords*"
   ]
  },
  {
   "cell_type": "code",
   "execution_count": 118,
   "metadata": {},
   "outputs": [],
   "source": [
    "training_docs = remove_stopwords_and_punctuation(training_df[\"text_pt\"].values)\n",
    "training_classes = training_df[\"sentiment\"].values\n",
    "testing_docs = remove_stopwords_and_punctuation(testing_df[\"text_pt\"].values)"
   ]
  },
  {
   "cell_type": "code",
   "execution_count": 119,
   "metadata": {},
   "outputs": [
    {
     "data": {
      "text/plain": [
       "MultinomialNB(alpha=1.0, class_prior=None, fit_prior=True)"
      ]
     },
     "execution_count": 119,
     "metadata": {},
     "output_type": "execute_result"
    }
   ],
   "source": [
    "vectorizer = CountVectorizer(analyzer=\"word\", min_df=1)\n",
    "frequency_training_docs = vectorizer.fit_transform(training_docs)\n",
    "tf_transformer = TfidfTransformer(use_idf=False).fit(frequency_training_docs)\n",
    "frequency_training_docs = tf_transformer.transform(frequency_training_docs)\n",
    "model = MultinomialNB()\n",
    "model.fit(frequency_training_docs, training_classes)"
   ]
  },
  {
   "cell_type": "code",
   "execution_count": 120,
   "metadata": {},
   "outputs": [],
   "source": [
    "frequency_testing_docs = vectorizer.transform(testing_docs)\n",
    "tf_transformer = TfidfTransformer(use_idf=False).fit(frequency_testing_docs)\n",
    "frequency_testing_docs = tf_transformer.transform(frequency_testing_docs)\n",
    "testing_classes = model.predict(frequency_testing_docs)"
   ]
  },
  {
   "cell_type": "code",
   "execution_count": 121,
   "metadata": {},
   "outputs": [
    {
     "data": {
      "text/plain": [
       "array(['neg', 'neg', 'pos', ..., 'neg', 'neg', 'pos'], dtype='<U3')"
      ]
     },
     "execution_count": 121,
     "metadata": {},
     "output_type": "execute_result"
    }
   ],
   "source": [
    "testing_classes"
   ]
  },
  {
   "cell_type": "code",
   "execution_count": 122,
   "metadata": {},
   "outputs": [],
   "source": [
    "y_true = testing_df[\"sentiment\"].values\n",
    "y_pred = testing_classes"
   ]
  },
  {
   "cell_type": "code",
   "execution_count": 123,
   "metadata": {},
   "outputs": [
    {
     "data": {
      "text/plain": [
       "array([0.86243871, 0.8536755 ])"
      ]
     },
     "execution_count": 123,
     "metadata": {},
     "output_type": "execute_result"
    }
   ],
   "source": [
    "experiment_13_sw = f1_score(y_true, y_pred, average=None)\n",
    "experiment_13_sw"
   ]
  },
  {
   "cell_type": "markdown",
   "metadata": {},
   "source": [
    "#### *MultinomialNB* + Unigram"
   ]
  },
  {
   "cell_type": "code",
   "execution_count": 124,
   "metadata": {},
   "outputs": [],
   "source": [
    "training_docs = training_df[\"text_pt\"].values\n",
    "training_classes = training_df[\"sentiment\"].values\n",
    "testing_docs = testing_df[\"text_pt\"].values"
   ]
  },
  {
   "cell_type": "code",
   "execution_count": 125,
   "metadata": {},
   "outputs": [
    {
     "data": {
      "text/plain": [
       "MultinomialNB(alpha=1.0, class_prior=None, fit_prior=True)"
      ]
     },
     "execution_count": 125,
     "metadata": {},
     "output_type": "execute_result"
    }
   ],
   "source": [
    "vectorizer = CountVectorizer(analyzer=\"word\", ngram_range=(1,1))\n",
    "frequency_training_docs = vectorizer.fit_transform(training_docs)\n",
    "model = MultinomialNB()\n",
    "model.fit(frequency_training_docs, training_classes)"
   ]
  },
  {
   "cell_type": "code",
   "execution_count": 126,
   "metadata": {},
   "outputs": [],
   "source": [
    "frequency_testing_docs = vectorizer.transform(testing_docs)\n",
    "testing_classes = model.predict(frequency_testing_docs)"
   ]
  },
  {
   "cell_type": "code",
   "execution_count": 127,
   "metadata": {},
   "outputs": [
    {
     "data": {
      "text/plain": [
       "array(['neg', 'neg', 'pos', ..., 'neg', 'neg', 'pos'], dtype='<U3')"
      ]
     },
     "execution_count": 127,
     "metadata": {},
     "output_type": "execute_result"
    }
   ],
   "source": [
    "testing_classes"
   ]
  },
  {
   "cell_type": "code",
   "execution_count": 128,
   "metadata": {},
   "outputs": [],
   "source": [
    "y_true = testing_df[\"sentiment\"].values\n",
    "y_pred = testing_classes"
   ]
  },
  {
   "cell_type": "code",
   "execution_count": 129,
   "metadata": {},
   "outputs": [
    {
     "data": {
      "text/plain": [
       "array([0.84988635, 0.84281329])"
      ]
     },
     "execution_count": 129,
     "metadata": {},
     "output_type": "execute_result"
    }
   ],
   "source": [
    "experiment_14 = f1_score(y_true, y_pred, average=None)\n",
    "experiment_14"
   ]
  },
  {
   "cell_type": "markdown",
   "metadata": {},
   "source": [
    "#### *MultinomialNB* + Unigram &mdash; com remoção de *stopwords*"
   ]
  },
  {
   "cell_type": "code",
   "execution_count": 130,
   "metadata": {},
   "outputs": [],
   "source": [
    "training_docs = remove_stopwords_and_punctuation(training_df[\"text_pt\"].values)\n",
    "training_classes = training_df[\"sentiment\"].values\n",
    "testing_docs = remove_stopwords_and_punctuation(testing_df[\"text_pt\"].values)"
   ]
  },
  {
   "cell_type": "code",
   "execution_count": 131,
   "metadata": {},
   "outputs": [
    {
     "data": {
      "text/plain": [
       "MultinomialNB(alpha=1.0, class_prior=None, fit_prior=True)"
      ]
     },
     "execution_count": 131,
     "metadata": {},
     "output_type": "execute_result"
    }
   ],
   "source": [
    "vectorizer = CountVectorizer(analyzer=\"word\", ngram_range=(1,1))\n",
    "frequency_training_docs = vectorizer.fit_transform(training_docs)\n",
    "model = MultinomialNB()\n",
    "model.fit(frequency_training_docs, training_classes)"
   ]
  },
  {
   "cell_type": "code",
   "execution_count": 132,
   "metadata": {},
   "outputs": [],
   "source": [
    "frequency_testing_docs = vectorizer.transform(testing_docs)\n",
    "testing_classes = model.predict(frequency_testing_docs)"
   ]
  },
  {
   "cell_type": "code",
   "execution_count": 133,
   "metadata": {},
   "outputs": [
    {
     "data": {
      "text/plain": [
       "array(['neg', 'neg', 'pos', ..., 'neg', 'neg', 'pos'], dtype='<U3')"
      ]
     },
     "execution_count": 133,
     "metadata": {},
     "output_type": "execute_result"
    }
   ],
   "source": [
    "testing_classes"
   ]
  },
  {
   "cell_type": "code",
   "execution_count": 134,
   "metadata": {},
   "outputs": [],
   "source": [
    "y_true = testing_df[\"sentiment\"].values\n",
    "y_pred = testing_classes"
   ]
  },
  {
   "cell_type": "code",
   "execution_count": 135,
   "metadata": {},
   "outputs": [
    {
     "data": {
      "text/plain": [
       "array([0.85654555, 0.85201794])"
      ]
     },
     "execution_count": 135,
     "metadata": {},
     "output_type": "execute_result"
    }
   ],
   "source": [
    "experiment_14_sw = f1_score(y_true, y_pred, average=None)\n",
    "experiment_14_sw"
   ]
  },
  {
   "cell_type": "markdown",
   "metadata": {},
   "source": [
    "#### *MultinomialNB* + Bigram"
   ]
  },
  {
   "cell_type": "code",
   "execution_count": 136,
   "metadata": {},
   "outputs": [],
   "source": [
    "training_docs = training_df[\"text_pt\"].values\n",
    "training_classes = training_df[\"sentiment\"].values\n",
    "testing_docs = testing_df[\"text_pt\"].values"
   ]
  },
  {
   "cell_type": "code",
   "execution_count": 137,
   "metadata": {},
   "outputs": [
    {
     "data": {
      "text/plain": [
       "MultinomialNB(alpha=1.0, class_prior=None, fit_prior=True)"
      ]
     },
     "execution_count": 137,
     "metadata": {},
     "output_type": "execute_result"
    }
   ],
   "source": [
    "vectorizer = CountVectorizer(analyzer=\"word\", ngram_range=(1,2))\n",
    "frequency_training_docs = vectorizer.fit_transform(training_docs)\n",
    "model = MultinomialNB()\n",
    "model.fit(frequency_training_docs, training_classes)"
   ]
  },
  {
   "cell_type": "code",
   "execution_count": 138,
   "metadata": {},
   "outputs": [],
   "source": [
    "frequency_testing_docs = vectorizer.transform(testing_docs)\n",
    "testing_classes = model.predict(frequency_testing_docs)"
   ]
  },
  {
   "cell_type": "code",
   "execution_count": 139,
   "metadata": {},
   "outputs": [
    {
     "data": {
      "text/plain": [
       "array(['neg', 'neg', 'pos', ..., 'neg', 'neg', 'neg'], dtype='<U3')"
      ]
     },
     "execution_count": 139,
     "metadata": {},
     "output_type": "execute_result"
    }
   ],
   "source": [
    "testing_classes"
   ]
  },
  {
   "cell_type": "code",
   "execution_count": 140,
   "metadata": {},
   "outputs": [],
   "source": [
    "y_true = testing_df[\"sentiment\"].values\n",
    "y_pred = testing_classes"
   ]
  },
  {
   "cell_type": "code",
   "execution_count": 141,
   "metadata": {},
   "outputs": [
    {
     "data": {
      "text/plain": [
       "array([0.87466352, 0.86782524])"
      ]
     },
     "execution_count": 141,
     "metadata": {},
     "output_type": "execute_result"
    }
   ],
   "source": [
    "experiment_15 = f1_score(y_true, y_pred, average=None)\n",
    "experiment_15"
   ]
  },
  {
   "cell_type": "markdown",
   "metadata": {},
   "source": [
    "#### *MultinomialNB* + Bigram &mdash; com remoção de *stopwords*"
   ]
  },
  {
   "cell_type": "code",
   "execution_count": 142,
   "metadata": {},
   "outputs": [],
   "source": [
    "training_docs = remove_stopwords_and_punctuation(training_df[\"text_pt\"].values)\n",
    "training_classes = training_df[\"sentiment\"].values\n",
    "testing_docs = remove_stopwords_and_punctuation(testing_df[\"text_pt\"].values)"
   ]
  },
  {
   "cell_type": "code",
   "execution_count": 143,
   "metadata": {},
   "outputs": [
    {
     "data": {
      "text/plain": [
       "MultinomialNB(alpha=1.0, class_prior=None, fit_prior=True)"
      ]
     },
     "execution_count": 143,
     "metadata": {},
     "output_type": "execute_result"
    }
   ],
   "source": [
    "vectorizer = CountVectorizer(analyzer=\"word\", ngram_range=(1,2))\n",
    "frequency_training_docs = vectorizer.fit_transform(training_docs)\n",
    "model = MultinomialNB()\n",
    "model.fit(frequency_training_docs, training_classes)"
   ]
  },
  {
   "cell_type": "code",
   "execution_count": 144,
   "metadata": {},
   "outputs": [],
   "source": [
    "frequency_testing_docs = vectorizer.transform(testing_docs)\n",
    "testing_classes = model.predict(frequency_testing_docs)"
   ]
  },
  {
   "cell_type": "code",
   "execution_count": 145,
   "metadata": {},
   "outputs": [
    {
     "data": {
      "text/plain": [
       "array(['neg', 'neg', 'pos', ..., 'neg', 'neg', 'neg'], dtype='<U3')"
      ]
     },
     "execution_count": 145,
     "metadata": {},
     "output_type": "execute_result"
    }
   ],
   "source": [
    "testing_classes"
   ]
  },
  {
   "cell_type": "code",
   "execution_count": 146,
   "metadata": {},
   "outputs": [],
   "source": [
    "y_true = testing_df[\"sentiment\"].values\n",
    "y_pred = testing_classes"
   ]
  },
  {
   "cell_type": "code",
   "execution_count": 147,
   "metadata": {},
   "outputs": [
    {
     "data": {
      "text/plain": [
       "array([0.87750041, 0.87269354])"
      ]
     },
     "execution_count": 147,
     "metadata": {},
     "output_type": "execute_result"
    }
   ],
   "source": [
    "experiment_15_sw = f1_score(y_true, y_pred, average=None)\n",
    "experiment_15_sw"
   ]
  },
  {
   "cell_type": "markdown",
   "metadata": {},
   "source": [
    "#### *MultinomialNB* + Trigram"
   ]
  },
  {
   "cell_type": "code",
   "execution_count": 148,
   "metadata": {},
   "outputs": [],
   "source": [
    "training_docs = training_df[\"text_pt\"].values\n",
    "training_classes = training_df[\"sentiment\"].values\n",
    "testing_docs = testing_df[\"text_pt\"].values"
   ]
  },
  {
   "cell_type": "code",
   "execution_count": 149,
   "metadata": {},
   "outputs": [
    {
     "data": {
      "text/plain": [
       "MultinomialNB(alpha=1.0, class_prior=None, fit_prior=True)"
      ]
     },
     "execution_count": 149,
     "metadata": {},
     "output_type": "execute_result"
    }
   ],
   "source": [
    "vectorizer = CountVectorizer(analyzer=\"word\", ngram_range=(1,3))\n",
    "frequency_training_docs = vectorizer.fit_transform(training_docs)\n",
    "model = MultinomialNB()\n",
    "model.fit(frequency_training_docs, training_classes)"
   ]
  },
  {
   "cell_type": "code",
   "execution_count": 150,
   "metadata": {},
   "outputs": [],
   "source": [
    "frequency_testing_docs = vectorizer.transform(testing_docs)\n",
    "testing_classes = model.predict(frequency_testing_docs)"
   ]
  },
  {
   "cell_type": "code",
   "execution_count": 151,
   "metadata": {},
   "outputs": [
    {
     "data": {
      "text/plain": [
       "array(['neg', 'neg', 'pos', ..., 'neg', 'neg', 'neg'], dtype='<U3')"
      ]
     },
     "execution_count": 151,
     "metadata": {},
     "output_type": "execute_result"
    }
   ],
   "source": [
    "testing_classes"
   ]
  },
  {
   "cell_type": "code",
   "execution_count": 152,
   "metadata": {},
   "outputs": [],
   "source": [
    "y_true = testing_df[\"sentiment\"].values\n",
    "y_pred = testing_classes"
   ]
  },
  {
   "cell_type": "code",
   "execution_count": 153,
   "metadata": {
    "scrolled": true
   },
   "outputs": [
    {
     "data": {
      "text/plain": [
       "array([0.88209864, 0.87506073])"
      ]
     },
     "execution_count": 153,
     "metadata": {},
     "output_type": "execute_result"
    }
   ],
   "source": [
    "experiment_16 = f1_score(y_true, y_pred, average=None)\n",
    "experiment_16"
   ]
  },
  {
   "cell_type": "markdown",
   "metadata": {},
   "source": [
    "#### *MultinomialNB* + Trigram &mdash; com remoção de *stopwords*"
   ]
  },
  {
   "cell_type": "code",
   "execution_count": 154,
   "metadata": {},
   "outputs": [],
   "source": [
    "training_docs = remove_stopwords_and_punctuation(training_df[\"text_pt\"].values)\n",
    "training_classes = training_df[\"sentiment\"].values\n",
    "testing_docs = remove_stopwords_and_punctuation(testing_df[\"text_pt\"].values)"
   ]
  },
  {
   "cell_type": "code",
   "execution_count": 155,
   "metadata": {},
   "outputs": [
    {
     "data": {
      "text/plain": [
       "MultinomialNB(alpha=1.0, class_prior=None, fit_prior=True)"
      ]
     },
     "execution_count": 155,
     "metadata": {},
     "output_type": "execute_result"
    }
   ],
   "source": [
    "vectorizer = CountVectorizer(analyzer=\"word\", ngram_range=(1,3))\n",
    "frequency_training_docs = vectorizer.fit_transform(training_docs)\n",
    "model = MultinomialNB()\n",
    "model.fit(frequency_training_docs, training_classes)"
   ]
  },
  {
   "cell_type": "code",
   "execution_count": 156,
   "metadata": {},
   "outputs": [],
   "source": [
    "frequency_testing_docs = vectorizer.transform(testing_docs)\n",
    "testing_classes = model.predict(frequency_testing_docs)"
   ]
  },
  {
   "cell_type": "code",
   "execution_count": 157,
   "metadata": {},
   "outputs": [
    {
     "data": {
      "text/plain": [
       "array(['neg', 'neg', 'pos', ..., 'neg', 'neg', 'neg'], dtype='<U3')"
      ]
     },
     "execution_count": 157,
     "metadata": {},
     "output_type": "execute_result"
    }
   ],
   "source": [
    "testing_classes"
   ]
  },
  {
   "cell_type": "code",
   "execution_count": 158,
   "metadata": {},
   "outputs": [],
   "source": [
    "y_true = testing_df[\"sentiment\"].values\n",
    "y_pred = testing_classes"
   ]
  },
  {
   "cell_type": "code",
   "execution_count": 159,
   "metadata": {
    "scrolled": true
   },
   "outputs": [
    {
     "data": {
      "text/plain": [
       "array([0.87993122, 0.87525338])"
      ]
     },
     "execution_count": 159,
     "metadata": {},
     "output_type": "execute_result"
    }
   ],
   "source": [
    "experiment_16_sw = f1_score(y_true, y_pred, average=None)\n",
    "experiment_16_sw"
   ]
  },
  {
   "cell_type": "markdown",
   "metadata": {},
   "source": [
    "### *SVC (Support Vector Classification)*"
   ]
  },
  {
   "cell_type": "markdown",
   "metadata": {},
   "source": [
    "#### *SVC* + *CountVectorizer*"
   ]
  },
  {
   "cell_type": "code",
   "execution_count": 160,
   "metadata": {},
   "outputs": [],
   "source": [
    "training_docs = training_df[\"text_pt\"].values\n",
    "training_classes = training_df[\"sentiment\"].values\n",
    "testing_docs = testing_df[\"text_pt\"].values"
   ]
  },
  {
   "cell_type": "code",
   "execution_count": 161,
   "metadata": {},
   "outputs": [
    {
     "data": {
      "text/plain": [
       "SVC(C=1.0, cache_size=200, class_weight=None, coef0=0.0,\n",
       "    decision_function_shape='ovr', degree=3, gamma='scale', kernel='rbf',\n",
       "    max_iter=-1, probability=False, random_state=None, shrinking=True,\n",
       "    tol=0.001, verbose=False)"
      ]
     },
     "execution_count": 161,
     "metadata": {},
     "output_type": "execute_result"
    }
   ],
   "source": [
    "vectorizer = CountVectorizer(analyzer=\"word\")\n",
    "frequency_training_docs = vectorizer.fit_transform(training_docs)\n",
    "model = SVC(gamma='scale')\n",
    "model.fit(frequency_training_docs, training_classes)"
   ]
  },
  {
   "cell_type": "code",
   "execution_count": 162,
   "metadata": {},
   "outputs": [],
   "source": [
    "frequency_testing_docs = vectorizer.transform(testing_docs)\n",
    "testing_classes = model.predict(frequency_testing_docs)"
   ]
  },
  {
   "cell_type": "code",
   "execution_count": 163,
   "metadata": {},
   "outputs": [
    {
     "data": {
      "text/plain": [
       "array(['neg', 'neg', 'pos', ..., 'neg', 'neg', 'pos'], dtype=object)"
      ]
     },
     "execution_count": 163,
     "metadata": {},
     "output_type": "execute_result"
    }
   ],
   "source": [
    "testing_classes"
   ]
  },
  {
   "cell_type": "code",
   "execution_count": 164,
   "metadata": {},
   "outputs": [],
   "source": [
    "y_true = testing_df[\"sentiment\"].values\n",
    "y_pred = testing_classes"
   ]
  },
  {
   "cell_type": "code",
   "execution_count": 165,
   "metadata": {},
   "outputs": [
    {
     "data": {
      "text/plain": [
       "array([0.85286179, 0.86036125])"
      ]
     },
     "execution_count": 165,
     "metadata": {},
     "output_type": "execute_result"
    }
   ],
   "source": [
    "experiment_21 = f1_score(y_true, y_pred, average=None)\n",
    "experiment_21"
   ]
  },
  {
   "cell_type": "markdown",
   "metadata": {},
   "source": [
    "#### *SVC* + *CountVectorizer* &mdash; com remoção de *stopwords*"
   ]
  },
  {
   "cell_type": "code",
   "execution_count": 166,
   "metadata": {},
   "outputs": [],
   "source": [
    "training_docs = remove_stopwords_and_punctuation(training_df[\"text_pt\"].values)\n",
    "training_classes = training_df[\"sentiment\"].values\n",
    "testing_docs = remove_stopwords_and_punctuation(testing_df[\"text_pt\"].values)"
   ]
  },
  {
   "cell_type": "code",
   "execution_count": 167,
   "metadata": {},
   "outputs": [
    {
     "data": {
      "text/plain": [
       "SVC(C=1.0, cache_size=200, class_weight=None, coef0=0.0,\n",
       "    decision_function_shape='ovr', degree=3, gamma='scale', kernel='rbf',\n",
       "    max_iter=-1, probability=False, random_state=None, shrinking=True,\n",
       "    tol=0.001, verbose=False)"
      ]
     },
     "execution_count": 167,
     "metadata": {},
     "output_type": "execute_result"
    }
   ],
   "source": [
    "vectorizer = CountVectorizer(analyzer=\"word\")\n",
    "frequency_training_docs = vectorizer.fit_transform(training_docs)\n",
    "model = SVC(gamma='scale')\n",
    "model.fit(frequency_training_docs, training_classes)"
   ]
  },
  {
   "cell_type": "code",
   "execution_count": 168,
   "metadata": {},
   "outputs": [],
   "source": [
    "frequency_testing_docs = vectorizer.transform(testing_docs)\n",
    "testing_classes = model.predict(frequency_testing_docs)"
   ]
  },
  {
   "cell_type": "code",
   "execution_count": 169,
   "metadata": {},
   "outputs": [
    {
     "data": {
      "text/plain": [
       "array(['neg', 'neg', 'pos', ..., 'neg', 'neg', 'pos'], dtype=object)"
      ]
     },
     "execution_count": 169,
     "metadata": {},
     "output_type": "execute_result"
    }
   ],
   "source": [
    "testing_classes"
   ]
  },
  {
   "cell_type": "code",
   "execution_count": 170,
   "metadata": {},
   "outputs": [],
   "source": [
    "y_true = testing_df[\"sentiment\"].values\n",
    "y_pred = testing_classes"
   ]
  },
  {
   "cell_type": "code",
   "execution_count": 171,
   "metadata": {},
   "outputs": [
    {
     "data": {
      "text/plain": [
       "array([0.86234073, 0.87019152])"
      ]
     },
     "execution_count": 171,
     "metadata": {},
     "output_type": "execute_result"
    }
   ],
   "source": [
    "experiment_21_sw = f1_score(y_true, y_pred, average=None)\n",
    "experiment_21_sw"
   ]
  },
  {
   "cell_type": "markdown",
   "metadata": {},
   "source": [
    "#### SVC + TfidfVectorizer"
   ]
  },
  {
   "cell_type": "code",
   "execution_count": 172,
   "metadata": {},
   "outputs": [],
   "source": [
    "training_docs = training_df[\"text_pt\"].values\n",
    "training_classes = training_df[\"sentiment\"].values\n",
    "testing_docs = testing_df[\"text_pt\"].values"
   ]
  },
  {
   "cell_type": "code",
   "execution_count": 173,
   "metadata": {},
   "outputs": [
    {
     "data": {
      "text/plain": [
       "SVC(C=1.0, cache_size=200, class_weight=None, coef0=0.0,\n",
       "    decision_function_shape='ovr', degree=3, gamma='scale', kernel='rbf',\n",
       "    max_iter=-1, probability=False, random_state=None, shrinking=True,\n",
       "    tol=0.001, verbose=False)"
      ]
     },
     "execution_count": 173,
     "metadata": {},
     "output_type": "execute_result"
    }
   ],
   "source": [
    "vectorizer = TfidfVectorizer(analyzer=\"word\")\n",
    "frequency_training_docs = vectorizer.fit_transform(training_docs)\n",
    "model = SVC(gamma='scale')\n",
    "model.fit(frequency_training_docs, training_classes)"
   ]
  },
  {
   "cell_type": "code",
   "execution_count": 174,
   "metadata": {},
   "outputs": [],
   "source": [
    "frequency_testing_docs = vectorizer.transform(testing_docs)\n",
    "testing_classes = model.predict(frequency_testing_docs)"
   ]
  },
  {
   "cell_type": "code",
   "execution_count": 175,
   "metadata": {},
   "outputs": [
    {
     "data": {
      "text/plain": [
       "array(['neg', 'neg', 'pos', ..., 'neg', 'neg', 'pos'], dtype=object)"
      ]
     },
     "execution_count": 175,
     "metadata": {},
     "output_type": "execute_result"
    }
   ],
   "source": [
    "testing_classes"
   ]
  },
  {
   "cell_type": "code",
   "execution_count": 176,
   "metadata": {},
   "outputs": [],
   "source": [
    "y_true = testing_df[\"sentiment\"].values\n",
    "y_pred = testing_classes"
   ]
  },
  {
   "cell_type": "code",
   "execution_count": 177,
   "metadata": {},
   "outputs": [
    {
     "data": {
      "text/plain": [
       "array([0.8832212 , 0.88741064])"
      ]
     },
     "execution_count": 177,
     "metadata": {},
     "output_type": "execute_result"
    }
   ],
   "source": [
    "experiment_22 = f1_score(y_true, y_pred, average=None)\n",
    "experiment_22"
   ]
  },
  {
   "cell_type": "markdown",
   "metadata": {},
   "source": [
    "#### SVC + TfidfVectorizer &mdash; com remoção de *stopwords*"
   ]
  },
  {
   "cell_type": "code",
   "execution_count": 178,
   "metadata": {},
   "outputs": [],
   "source": [
    "training_docs = remove_stopwords_and_punctuation(training_df[\"text_pt\"].values)\n",
    "training_classes = training_df[\"sentiment\"].values\n",
    "testing_docs = remove_stopwords_and_punctuation(testing_df[\"text_pt\"].values)"
   ]
  },
  {
   "cell_type": "code",
   "execution_count": 179,
   "metadata": {},
   "outputs": [
    {
     "data": {
      "text/plain": [
       "SVC(C=1.0, cache_size=200, class_weight=None, coef0=0.0,\n",
       "    decision_function_shape='ovr', degree=3, gamma='scale', kernel='rbf',\n",
       "    max_iter=-1, probability=False, random_state=None, shrinking=True,\n",
       "    tol=0.001, verbose=False)"
      ]
     },
     "execution_count": 179,
     "metadata": {},
     "output_type": "execute_result"
    }
   ],
   "source": [
    "vectorizer = TfidfVectorizer(analyzer=\"word\")\n",
    "frequency_training_docs = vectorizer.fit_transform(training_docs)\n",
    "model = SVC(gamma='scale')\n",
    "model.fit(frequency_training_docs, training_classes)"
   ]
  },
  {
   "cell_type": "code",
   "execution_count": 180,
   "metadata": {},
   "outputs": [],
   "source": [
    "frequency_testing_docs = vectorizer.transform(testing_docs)\n",
    "testing_classes = model.predict(frequency_testing_docs)"
   ]
  },
  {
   "cell_type": "code",
   "execution_count": 181,
   "metadata": {},
   "outputs": [
    {
     "data": {
      "text/plain": [
       "array(['neg', 'neg', 'pos', ..., 'neg', 'neg', 'pos'], dtype=object)"
      ]
     },
     "execution_count": 181,
     "metadata": {},
     "output_type": "execute_result"
    }
   ],
   "source": [
    "testing_classes"
   ]
  },
  {
   "cell_type": "code",
   "execution_count": 182,
   "metadata": {},
   "outputs": [],
   "source": [
    "y_true = testing_df[\"sentiment\"].values\n",
    "y_pred = testing_classes"
   ]
  },
  {
   "cell_type": "code",
   "execution_count": 183,
   "metadata": {},
   "outputs": [
    {
     "data": {
      "text/plain": [
       "array([0.88049536, 0.88526323])"
      ]
     },
     "execution_count": 183,
     "metadata": {},
     "output_type": "execute_result"
    }
   ],
   "source": [
    "experiment_22_sw = f1_score(y_true, y_pred, average=None)\n",
    "experiment_22_sw"
   ]
  },
  {
   "cell_type": "markdown",
   "metadata": {},
   "source": [
    "#### *SVC* + (*CountVectorizer* + *TfidfVectorizer*)"
   ]
  },
  {
   "cell_type": "code",
   "execution_count": 184,
   "metadata": {},
   "outputs": [],
   "source": [
    "training_docs = training_df[\"text_pt\"].values\n",
    "training_classes = training_df[\"sentiment\"].values\n",
    "testing_docs = testing_df[\"text_pt\"].values"
   ]
  },
  {
   "cell_type": "code",
   "execution_count": 185,
   "metadata": {},
   "outputs": [
    {
     "data": {
      "text/plain": [
       "SVC(C=1.0, cache_size=200, class_weight=None, coef0=0.0,\n",
       "    decision_function_shape='ovr', degree=3, gamma='scale', kernel='rbf',\n",
       "    max_iter=-1, probability=False, random_state=None, shrinking=True,\n",
       "    tol=0.001, verbose=False)"
      ]
     },
     "execution_count": 185,
     "metadata": {},
     "output_type": "execute_result"
    }
   ],
   "source": [
    "vectorizer = CountVectorizer(analyzer=\"word\", min_df=1)\n",
    "frequency_training_docs = vectorizer.fit_transform(training_docs)\n",
    "tf_transformer = TfidfTransformer(use_idf=False).fit(frequency_training_docs)\n",
    "frequency_training_docs = tf_transformer.transform(frequency_training_docs)\n",
    "model = SVC(gamma='scale')\n",
    "model.fit(frequency_training_docs, training_classes)"
   ]
  },
  {
   "cell_type": "code",
   "execution_count": 186,
   "metadata": {},
   "outputs": [],
   "source": [
    "frequency_testing_docs = vectorizer.transform(testing_docs)\n",
    "tf_transformer = TfidfTransformer(use_idf=False).fit(frequency_testing_docs)\n",
    "frequency_testing_docs = tf_transformer.transform(frequency_testing_docs)\n",
    "testing_classes = model.predict(frequency_testing_docs)"
   ]
  },
  {
   "cell_type": "code",
   "execution_count": 187,
   "metadata": {},
   "outputs": [
    {
     "data": {
      "text/plain": [
       "array(['neg', 'neg', 'pos', ..., 'neg', 'neg', 'pos'], dtype=object)"
      ]
     },
     "execution_count": 187,
     "metadata": {},
     "output_type": "execute_result"
    }
   ],
   "source": [
    "testing_classes"
   ]
  },
  {
   "cell_type": "code",
   "execution_count": 188,
   "metadata": {},
   "outputs": [],
   "source": [
    "y_true = testing_df[\"sentiment\"].values\n",
    "y_pred = testing_classes"
   ]
  },
  {
   "cell_type": "code",
   "execution_count": 189,
   "metadata": {},
   "outputs": [
    {
     "data": {
      "text/plain": [
       "array([0.86693659, 0.87160641])"
      ]
     },
     "execution_count": 189,
     "metadata": {},
     "output_type": "execute_result"
    }
   ],
   "source": [
    "experiment_23 = f1_score(y_true, y_pred, average=None)\n",
    "experiment_23"
   ]
  },
  {
   "cell_type": "markdown",
   "metadata": {},
   "source": [
    "#### *SVC* + (*CountVectorizer* + *TfidfVectorizer*) &mdash; com remoção de *stopwords*"
   ]
  },
  {
   "cell_type": "code",
   "execution_count": 190,
   "metadata": {},
   "outputs": [],
   "source": [
    "training_docs = remove_stopwords_and_punctuation(training_df[\"text_pt\"].values)\n",
    "training_classes = training_df[\"sentiment\"].values\n",
    "testing_docs = remove_stopwords_and_punctuation(testing_df[\"text_pt\"].values)"
   ]
  },
  {
   "cell_type": "code",
   "execution_count": 191,
   "metadata": {},
   "outputs": [
    {
     "data": {
      "text/plain": [
       "SVC(C=1.0, cache_size=200, class_weight=None, coef0=0.0,\n",
       "    decision_function_shape='ovr', degree=3, gamma='scale', kernel='rbf',\n",
       "    max_iter=-1, probability=False, random_state=None, shrinking=True,\n",
       "    tol=0.001, verbose=False)"
      ]
     },
     "execution_count": 191,
     "metadata": {},
     "output_type": "execute_result"
    }
   ],
   "source": [
    "vectorizer = CountVectorizer(analyzer=\"word\", min_df=1)\n",
    "frequency_training_docs = vectorizer.fit_transform(training_docs)\n",
    "tf_transformer = TfidfTransformer(use_idf=False).fit(frequency_training_docs)\n",
    "frequency_training_docs = tf_transformer.transform(frequency_training_docs)\n",
    "model = SVC(gamma='scale')\n",
    "model.fit(frequency_training_docs, training_classes)"
   ]
  },
  {
   "cell_type": "code",
   "execution_count": 192,
   "metadata": {},
   "outputs": [],
   "source": [
    "frequency_testing_docs = vectorizer.transform(testing_docs)\n",
    "tf_transformer = TfidfTransformer(use_idf=False).fit(frequency_testing_docs)\n",
    "frequency_testing_docs = tf_transformer.transform(frequency_testing_docs)\n",
    "testing_classes = model.predict(frequency_testing_docs)"
   ]
  },
  {
   "cell_type": "code",
   "execution_count": 193,
   "metadata": {},
   "outputs": [
    {
     "data": {
      "text/plain": [
       "array(['neg', 'neg', 'pos', ..., 'neg', 'neg', 'pos'], dtype=object)"
      ]
     },
     "execution_count": 193,
     "metadata": {},
     "output_type": "execute_result"
    }
   ],
   "source": [
    "testing_classes"
   ]
  },
  {
   "cell_type": "code",
   "execution_count": 194,
   "metadata": {},
   "outputs": [],
   "source": [
    "y_true = testing_df[\"sentiment\"].values\n",
    "y_pred = testing_classes"
   ]
  },
  {
   "cell_type": "code",
   "execution_count": 195,
   "metadata": {},
   "outputs": [
    {
     "data": {
      "text/plain": [
       "array([0.87173838, 0.87702159])"
      ]
     },
     "execution_count": 195,
     "metadata": {},
     "output_type": "execute_result"
    }
   ],
   "source": [
    "experiment_23_sw = f1_score(y_true, y_pred, average=None)\n",
    "experiment_23_sw"
   ]
  },
  {
   "cell_type": "markdown",
   "metadata": {},
   "source": [
    "#### *SVC* + Unigram"
   ]
  },
  {
   "cell_type": "code",
   "execution_count": 196,
   "metadata": {},
   "outputs": [],
   "source": [
    "training_docs = training_df[\"text_pt\"].values\n",
    "training_classes = training_df[\"sentiment\"].values\n",
    "testing_docs = testing_df[\"text_pt\"].values"
   ]
  },
  {
   "cell_type": "code",
   "execution_count": 197,
   "metadata": {},
   "outputs": [
    {
     "data": {
      "text/plain": [
       "SVC(C=1.0, cache_size=200, class_weight=None, coef0=0.0,\n",
       "    decision_function_shape='ovr', degree=3, gamma='scale', kernel='rbf',\n",
       "    max_iter=-1, probability=False, random_state=None, shrinking=True,\n",
       "    tol=0.001, verbose=False)"
      ]
     },
     "execution_count": 197,
     "metadata": {},
     "output_type": "execute_result"
    }
   ],
   "source": [
    "vectorizer = CountVectorizer(analyzer=\"word\", ngram_range=(1,1))\n",
    "frequency_training_docs = vectorizer.fit_transform(training_docs)\n",
    "model = SVC(gamma='scale')\n",
    "model.fit(frequency_training_docs, training_classes)"
   ]
  },
  {
   "cell_type": "code",
   "execution_count": 198,
   "metadata": {},
   "outputs": [],
   "source": [
    "frequency_testing_docs = vectorizer.transform(testing_docs)\n",
    "testing_classes = model.predict(frequency_testing_docs)"
   ]
  },
  {
   "cell_type": "code",
   "execution_count": 199,
   "metadata": {},
   "outputs": [
    {
     "data": {
      "text/plain": [
       "array(['neg', 'neg', 'pos', ..., 'neg', 'neg', 'pos'], dtype=object)"
      ]
     },
     "execution_count": 199,
     "metadata": {},
     "output_type": "execute_result"
    }
   ],
   "source": [
    "testing_classes"
   ]
  },
  {
   "cell_type": "code",
   "execution_count": 200,
   "metadata": {},
   "outputs": [],
   "source": [
    "y_true = testing_df[\"sentiment\"].values\n",
    "y_pred = testing_classes"
   ]
  },
  {
   "cell_type": "code",
   "execution_count": 201,
   "metadata": {},
   "outputs": [
    {
     "data": {
      "text/plain": [
       "array([0.85286179, 0.86036125])"
      ]
     },
     "execution_count": 201,
     "metadata": {},
     "output_type": "execute_result"
    }
   ],
   "source": [
    "experiment_24 = f1_score(y_true, y_pred, average=None)\n",
    "experiment_24"
   ]
  },
  {
   "cell_type": "markdown",
   "metadata": {},
   "source": [
    "#### *SVC* + Unigram &mdash; com remoção de *stopwords*"
   ]
  },
  {
   "cell_type": "code",
   "execution_count": 202,
   "metadata": {},
   "outputs": [],
   "source": [
    "training_docs = remove_stopwords_and_punctuation(training_df[\"text_pt\"].values)\n",
    "training_classes = training_df[\"sentiment\"].values\n",
    "testing_docs = remove_stopwords_and_punctuation(testing_df[\"text_pt\"].values)"
   ]
  },
  {
   "cell_type": "code",
   "execution_count": 203,
   "metadata": {},
   "outputs": [
    {
     "data": {
      "text/plain": [
       "SVC(C=1.0, cache_size=200, class_weight=None, coef0=0.0,\n",
       "    decision_function_shape='ovr', degree=3, gamma='scale', kernel='rbf',\n",
       "    max_iter=-1, probability=False, random_state=None, shrinking=True,\n",
       "    tol=0.001, verbose=False)"
      ]
     },
     "execution_count": 203,
     "metadata": {},
     "output_type": "execute_result"
    }
   ],
   "source": [
    "vectorizer = CountVectorizer(analyzer=\"word\", ngram_range=(1,1))\n",
    "frequency_training_docs = vectorizer.fit_transform(training_docs)\n",
    "model = SVC(gamma='scale')\n",
    "model.fit(frequency_training_docs, training_classes)"
   ]
  },
  {
   "cell_type": "code",
   "execution_count": 204,
   "metadata": {},
   "outputs": [],
   "source": [
    "frequency_testing_docs = vectorizer.transform(testing_docs)\n",
    "testing_classes = model.predict(frequency_testing_docs)"
   ]
  },
  {
   "cell_type": "code",
   "execution_count": 205,
   "metadata": {},
   "outputs": [
    {
     "data": {
      "text/plain": [
       "array(['neg', 'neg', 'pos', ..., 'neg', 'neg', 'pos'], dtype=object)"
      ]
     },
     "execution_count": 205,
     "metadata": {},
     "output_type": "execute_result"
    }
   ],
   "source": [
    "testing_classes"
   ]
  },
  {
   "cell_type": "code",
   "execution_count": 206,
   "metadata": {},
   "outputs": [],
   "source": [
    "y_true = testing_df[\"sentiment\"].values\n",
    "y_pred = testing_classes"
   ]
  },
  {
   "cell_type": "code",
   "execution_count": 207,
   "metadata": {},
   "outputs": [
    {
     "data": {
      "text/plain": [
       "array([0.86234073, 0.87019152])"
      ]
     },
     "execution_count": 207,
     "metadata": {},
     "output_type": "execute_result"
    }
   ],
   "source": [
    "experiment_24_sw = f1_score(y_true, y_pred, average=None)\n",
    "experiment_24_sw"
   ]
  },
  {
   "cell_type": "markdown",
   "metadata": {},
   "source": [
    "#### *SVC* + Bigram"
   ]
  },
  {
   "cell_type": "code",
   "execution_count": 208,
   "metadata": {},
   "outputs": [],
   "source": [
    "training_docs = training_df[\"text_pt\"].values\n",
    "training_classes = training_df[\"sentiment\"].values\n",
    "testing_docs = testing_df[\"text_pt\"].values"
   ]
  },
  {
   "cell_type": "code",
   "execution_count": 209,
   "metadata": {},
   "outputs": [
    {
     "data": {
      "text/plain": [
       "SVC(C=1.0, cache_size=200, class_weight=None, coef0=0.0,\n",
       "    decision_function_shape='ovr', degree=3, gamma='scale', kernel='rbf',\n",
       "    max_iter=-1, probability=False, random_state=None, shrinking=True,\n",
       "    tol=0.001, verbose=False)"
      ]
     },
     "execution_count": 209,
     "metadata": {},
     "output_type": "execute_result"
    }
   ],
   "source": [
    "vectorizer = CountVectorizer(analyzer=\"word\", ngram_range=(1,2))\n",
    "frequency_training_docs = vectorizer.fit_transform(training_docs)\n",
    "model = SVC(gamma='scale')\n",
    "model.fit(frequency_training_docs, training_classes)"
   ]
  },
  {
   "cell_type": "code",
   "execution_count": 210,
   "metadata": {},
   "outputs": [],
   "source": [
    "frequency_testing_docs = vectorizer.transform(testing_docs)\n",
    "testing_classes = model.predict(frequency_testing_docs)"
   ]
  },
  {
   "cell_type": "code",
   "execution_count": 211,
   "metadata": {},
   "outputs": [
    {
     "data": {
      "text/plain": [
       "array(['neg', 'neg', 'pos', ..., 'neg', 'neg', 'pos'], dtype=object)"
      ]
     },
     "execution_count": 211,
     "metadata": {},
     "output_type": "execute_result"
    }
   ],
   "source": [
    "testing_classes"
   ]
  },
  {
   "cell_type": "code",
   "execution_count": 212,
   "metadata": {},
   "outputs": [],
   "source": [
    "y_true = testing_df[\"sentiment\"].values\n",
    "y_pred = testing_classes"
   ]
  },
  {
   "cell_type": "code",
   "execution_count": 213,
   "metadata": {},
   "outputs": [
    {
     "data": {
      "text/plain": [
       "array([0.86129831, 0.86670632])"
      ]
     },
     "execution_count": 213,
     "metadata": {},
     "output_type": "execute_result"
    }
   ],
   "source": [
    "experiment_25 = f1_score(y_true, y_pred, average=None)\n",
    "experiment_25"
   ]
  },
  {
   "cell_type": "markdown",
   "metadata": {},
   "source": [
    "#### *SVC* + Bigram &mdash; com remoção de *stopwords*"
   ]
  },
  {
   "cell_type": "code",
   "execution_count": 214,
   "metadata": {},
   "outputs": [],
   "source": [
    "training_docs = remove_stopwords_and_punctuation(training_df[\"text_pt\"].values)\n",
    "training_classes = training_df[\"sentiment\"].values\n",
    "testing_docs = remove_stopwords_and_punctuation(testing_df[\"text_pt\"].values)"
   ]
  },
  {
   "cell_type": "code",
   "execution_count": 215,
   "metadata": {},
   "outputs": [
    {
     "data": {
      "text/plain": [
       "SVC(C=1.0, cache_size=200, class_weight=None, coef0=0.0,\n",
       "    decision_function_shape='ovr', degree=3, gamma='scale', kernel='rbf',\n",
       "    max_iter=-1, probability=False, random_state=None, shrinking=True,\n",
       "    tol=0.001, verbose=False)"
      ]
     },
     "execution_count": 215,
     "metadata": {},
     "output_type": "execute_result"
    }
   ],
   "source": [
    "vectorizer = CountVectorizer(analyzer=\"word\", ngram_range=(1,2))\n",
    "frequency_training_docs = vectorizer.fit_transform(training_docs)\n",
    "model = SVC(gamma='scale')\n",
    "model.fit(frequency_training_docs, training_classes)"
   ]
  },
  {
   "cell_type": "code",
   "execution_count": 216,
   "metadata": {},
   "outputs": [],
   "source": [
    "frequency_testing_docs = vectorizer.transform(testing_docs)\n",
    "testing_classes = model.predict(frequency_testing_docs)"
   ]
  },
  {
   "cell_type": "code",
   "execution_count": 217,
   "metadata": {},
   "outputs": [
    {
     "data": {
      "text/plain": [
       "array(['neg', 'neg', 'pos', ..., 'neg', 'neg', 'pos'], dtype=object)"
      ]
     },
     "execution_count": 217,
     "metadata": {},
     "output_type": "execute_result"
    }
   ],
   "source": [
    "testing_classes"
   ]
  },
  {
   "cell_type": "code",
   "execution_count": 218,
   "metadata": {},
   "outputs": [],
   "source": [
    "y_true = testing_df[\"sentiment\"].values\n",
    "y_pred = testing_classes"
   ]
  },
  {
   "cell_type": "code",
   "execution_count": 219,
   "metadata": {},
   "outputs": [
    {
     "data": {
      "text/plain": [
       "array([0.86612012, 0.87074019])"
      ]
     },
     "execution_count": 219,
     "metadata": {},
     "output_type": "execute_result"
    }
   ],
   "source": [
    "experiment_25_sw = f1_score(y_true, y_pred, average=None)\n",
    "experiment_25_sw"
   ]
  },
  {
   "cell_type": "markdown",
   "metadata": {},
   "source": [
    "#### *SVC* + Trigram"
   ]
  },
  {
   "cell_type": "code",
   "execution_count": 220,
   "metadata": {},
   "outputs": [],
   "source": [
    "training_docs = training_df[\"text_pt\"].values\n",
    "training_classes = training_df[\"sentiment\"].values\n",
    "testing_docs = testing_df[\"text_pt\"].values"
   ]
  },
  {
   "cell_type": "code",
   "execution_count": 221,
   "metadata": {},
   "outputs": [
    {
     "data": {
      "text/plain": [
       "SVC(C=1.0, cache_size=200, class_weight=None, coef0=0.0,\n",
       "    decision_function_shape='ovr', degree=3, gamma='scale', kernel='rbf',\n",
       "    max_iter=-1, probability=False, random_state=None, shrinking=True,\n",
       "    tol=0.001, verbose=False)"
      ]
     },
     "execution_count": 221,
     "metadata": {},
     "output_type": "execute_result"
    }
   ],
   "source": [
    "vectorizer = CountVectorizer(analyzer=\"word\", ngram_range=(1,3))\n",
    "frequency_training_docs = vectorizer.fit_transform(training_docs)\n",
    "model = SVC(gamma='scale')\n",
    "model.fit(frequency_training_docs, training_classes)"
   ]
  },
  {
   "cell_type": "code",
   "execution_count": 222,
   "metadata": {},
   "outputs": [],
   "source": [
    "frequency_testing_docs = vectorizer.transform(testing_docs)\n",
    "testing_classes = model.predict(frequency_testing_docs)"
   ]
  },
  {
   "cell_type": "code",
   "execution_count": 223,
   "metadata": {},
   "outputs": [
    {
     "data": {
      "text/plain": [
       "array(['neg', 'neg', 'pos', ..., 'neg', 'neg', 'pos'], dtype=object)"
      ]
     },
     "execution_count": 223,
     "metadata": {},
     "output_type": "execute_result"
    }
   ],
   "source": [
    "testing_classes"
   ]
  },
  {
   "cell_type": "code",
   "execution_count": 224,
   "metadata": {},
   "outputs": [],
   "source": [
    "y_true = testing_df[\"sentiment\"].values\n",
    "y_pred = testing_classes"
   ]
  },
  {
   "cell_type": "code",
   "execution_count": 225,
   "metadata": {
    "scrolled": true
   },
   "outputs": [
    {
     "data": {
      "text/plain": [
       "array([0.85948334, 0.86186848])"
      ]
     },
     "execution_count": 225,
     "metadata": {},
     "output_type": "execute_result"
    }
   ],
   "source": [
    "experiment_26 = f1_score(y_true, y_pred, average=None)\n",
    "experiment_26"
   ]
  },
  {
   "cell_type": "markdown",
   "metadata": {},
   "source": [
    "#### *SVC* + Trigram &mdash; com remoção de *stopwords*"
   ]
  },
  {
   "cell_type": "code",
   "execution_count": 226,
   "metadata": {},
   "outputs": [],
   "source": [
    "training_docs = remove_stopwords_and_punctuation(training_df[\"text_pt\"].values)\n",
    "training_classes = training_df[\"sentiment\"].values\n",
    "testing_docs = remove_stopwords_and_punctuation(testing_df[\"text_pt\"].values)"
   ]
  },
  {
   "cell_type": "code",
   "execution_count": 227,
   "metadata": {},
   "outputs": [
    {
     "data": {
      "text/plain": [
       "SVC(C=1.0, cache_size=200, class_weight=None, coef0=0.0,\n",
       "    decision_function_shape='ovr', degree=3, gamma='scale', kernel='rbf',\n",
       "    max_iter=-1, probability=False, random_state=None, shrinking=True,\n",
       "    tol=0.001, verbose=False)"
      ]
     },
     "execution_count": 227,
     "metadata": {},
     "output_type": "execute_result"
    }
   ],
   "source": [
    "vectorizer = CountVectorizer(analyzer=\"word\", ngram_range=(1,3))\n",
    "frequency_training_docs = vectorizer.fit_transform(training_docs)\n",
    "model = SVC(gamma='scale')\n",
    "model.fit(frequency_training_docs, training_classes)"
   ]
  },
  {
   "cell_type": "code",
   "execution_count": 228,
   "metadata": {},
   "outputs": [],
   "source": [
    "frequency_testing_docs = vectorizer.transform(testing_docs)\n",
    "testing_classes = model.predict(frequency_testing_docs)"
   ]
  },
  {
   "cell_type": "code",
   "execution_count": 229,
   "metadata": {},
   "outputs": [
    {
     "data": {
      "text/plain": [
       "array(['neg', 'neg', 'pos', ..., 'neg', 'neg', 'pos'], dtype=object)"
      ]
     },
     "execution_count": 229,
     "metadata": {},
     "output_type": "execute_result"
    }
   ],
   "source": [
    "testing_classes"
   ]
  },
  {
   "cell_type": "code",
   "execution_count": 230,
   "metadata": {},
   "outputs": [],
   "source": [
    "y_true = testing_df[\"sentiment\"].values\n",
    "y_pred = testing_classes"
   ]
  },
  {
   "cell_type": "code",
   "execution_count": 231,
   "metadata": {
    "scrolled": true
   },
   "outputs": [
    {
     "data": {
      "text/plain": [
       "array([0.86348042, 0.86562573])"
      ]
     },
     "execution_count": 231,
     "metadata": {},
     "output_type": "execute_result"
    }
   ],
   "source": [
    "experiment_26_sw = f1_score(y_true, y_pred, average=None)\n",
    "experiment_26_sw"
   ]
  },
  {
   "cell_type": "markdown",
   "metadata": {},
   "source": [
    "## Comparativo das soluções"
   ]
  },
  {
   "cell_type": "markdown",
   "metadata": {},
   "source": [
    "### Experimentos com Decision Tree"
   ]
  },
  {
   "cell_type": "code",
   "execution_count": 232,
   "metadata": {},
   "outputs": [
    {
     "data": {
      "text/plain": [
       "array([0.69950242, 0.69808134])"
      ]
     },
     "execution_count": 232,
     "metadata": {},
     "output_type": "execute_result"
    }
   ],
   "source": [
    "experiment_01"
   ]
  },
  {
   "cell_type": "code",
   "execution_count": 233,
   "metadata": {},
   "outputs": [
    {
     "data": {
      "text/plain": [
       "array([0.69301526, 0.69291179])"
      ]
     },
     "execution_count": 233,
     "metadata": {},
     "output_type": "execute_result"
    }
   ],
   "source": [
    "experiment_02"
   ]
  },
  {
   "cell_type": "code",
   "execution_count": 234,
   "metadata": {},
   "outputs": [
    {
     "data": {
      "text/plain": [
       "array([0.69131811, 0.69090173])"
      ]
     },
     "execution_count": 234,
     "metadata": {},
     "output_type": "execute_result"
    }
   ],
   "source": [
    "experiment_03"
   ]
  },
  {
   "cell_type": "code",
   "execution_count": 235,
   "metadata": {},
   "outputs": [
    {
     "data": {
      "text/plain": [
       "array([0.70106581, 0.70345383])"
      ]
     },
     "execution_count": 235,
     "metadata": {},
     "output_type": "execute_result"
    }
   ],
   "source": [
    "experiment_04"
   ]
  },
  {
   "cell_type": "code",
   "execution_count": 236,
   "metadata": {},
   "outputs": [
    {
     "data": {
      "text/plain": [
       "array([0.71439169, 0.71473798])"
      ]
     },
     "execution_count": 236,
     "metadata": {},
     "output_type": "execute_result"
    }
   ],
   "source": [
    "experiment_05"
   ]
  },
  {
   "cell_type": "code",
   "execution_count": 237,
   "metadata": {},
   "outputs": [
    {
     "data": {
      "text/plain": [
       "array([0.71046163, 0.70997335])"
      ]
     },
     "execution_count": 237,
     "metadata": {},
     "output_type": "execute_result"
    }
   ],
   "source": [
    "experiment_06"
   ]
  },
  {
   "cell_type": "code",
   "execution_count": 238,
   "metadata": {},
   "outputs": [
    {
     "data": {
      "image/png": "[encoded data removed]",
      "text/plain": [
       "<Figure size 691.2x518.4 with 1 Axes>"
      ]
     },
     "metadata": {
      "needs_background": "light"
     },
     "output_type": "display_data"
    }
   ],
   "source": [
    "fig=plt.figure(figsize=[9.6, 7.2])\n",
    "ax=fig.add_subplot(111)\n",
    "ax.set_title('Decision Tree with stopwords')\n",
    "ax.set_xlabel('Classes')\n",
    "ax.set_ylabel('F1 Score')\n",
    "ax.set_xticklabels(['negativo', 'positivo'])\n",
    "ax.set_xticks([0, 1])\n",
    "ax.set_ylim([0.65,1])\n",
    "ax.plot(experiment_01,marker=\"o\",label='Count Vectorizer')\n",
    "ax.plot(experiment_02,marker=\"o\",label='tf-idf')\n",
    "ax.plot(experiment_03,marker=\"o\",label='Count Vectorizer + tf-idf')\n",
    "ax.plot(experiment_04,marker=\"o\",label='Unigram')\n",
    "ax.plot(experiment_05,marker=\"o\",label='Bigram')\n",
    "ax.plot(experiment_06,marker=\"o\",label='Trigram')\n",
    "plt.legend(loc=4)\n",
    "plt.show()"
   ]
  },
  {
   "cell_type": "code",
   "execution_count": 239,
   "metadata": {},
   "outputs": [
    {
     "data": {
      "text/plain": [
       "array([0.70363975, 0.70640325])"
      ]
     },
     "execution_count": 239,
     "metadata": {},
     "output_type": "execute_result"
    }
   ],
   "source": [
    "experiment_01_sw"
   ]
  },
  {
   "cell_type": "code",
   "execution_count": 240,
   "metadata": {},
   "outputs": [
    {
     "data": {
      "text/plain": [
       "array([0.69783184, 0.6944115 ])"
      ]
     },
     "execution_count": 240,
     "metadata": {},
     "output_type": "execute_result"
    }
   ],
   "source": [
    "experiment_02_sw"
   ]
  },
  {
   "cell_type": "code",
   "execution_count": 241,
   "metadata": {},
   "outputs": [
    {
     "data": {
      "text/plain": [
       "array([0.70300222, 0.70091309])"
      ]
     },
     "execution_count": 241,
     "metadata": {},
     "output_type": "execute_result"
    }
   ],
   "source": [
    "experiment_03_sw"
   ]
  },
  {
   "cell_type": "code",
   "execution_count": 242,
   "metadata": {},
   "outputs": [
    {
     "data": {
      "text/plain": [
       "array([0.70489473, 0.70750856])"
      ]
     },
     "execution_count": 242,
     "metadata": {},
     "output_type": "execute_result"
    }
   ],
   "source": [
    "experiment_04_sw"
   ]
  },
  {
   "cell_type": "code",
   "execution_count": 243,
   "metadata": {},
   "outputs": [
    {
     "data": {
      "text/plain": [
       "array([0.71702549, 0.71513102])"
      ]
     },
     "execution_count": 243,
     "metadata": {},
     "output_type": "execute_result"
    }
   ],
   "source": [
    "experiment_05_sw"
   ]
  },
  {
   "cell_type": "code",
   "execution_count": 244,
   "metadata": {},
   "outputs": [
    {
     "data": {
      "text/plain": [
       "array([0.71816467, 0.71797465])"
      ]
     },
     "execution_count": 244,
     "metadata": {},
     "output_type": "execute_result"
    }
   ],
   "source": [
    "experiment_06_sw"
   ]
  },
  {
   "cell_type": "code",
   "execution_count": 245,
   "metadata": {
    "scrolled": true
   },
   "outputs": [
    {
     "data": {
      "image/png": "[encoded data removed]",
      "text/plain": [
       "<Figure size 691.2x518.4 with 1 Axes>"
      ]
     },
     "metadata": {
      "needs_background": "light"
     },
     "output_type": "display_data"
    }
   ],
   "source": [
    "fig=plt.figure(figsize=[9.6, 7.2])\n",
    "ax=fig.add_subplot(111)\n",
    "ax.set_title('Decision Tree without stopwords')\n",
    "ax.set_xlabel('Classes')\n",
    "ax.set_ylabel('F1 Score')\n",
    "ax.set_xticklabels(['negativo', 'positivo'])\n",
    "ax.set_xticks([0, 1])\n",
    "ax.set_ylim([0.65,1])\n",
    "ax.plot(experiment_01_sw,marker=\"o\",label='Count Vectorizer')\n",
    "ax.plot(experiment_02_sw,marker=\"o\",label='tf-idf')\n",
    "ax.plot(experiment_03_sw,marker=\"o\",label='Count Vectorizer + tf-idf')\n",
    "ax.plot(experiment_04_sw,marker=\"o\",label='Unigram')\n",
    "ax.plot(experiment_05_sw,marker=\"o\",label='Bigram')\n",
    "ax.plot(experiment_06_sw,marker=\"o\",label='Trigram')\n",
    "plt.legend(loc=4)\n",
    "plt.show()"
   ]
  },
  {
   "cell_type": "markdown",
   "metadata": {},
   "source": [
    "### Experimentos com Naive Bayes"
   ]
  },
  {
   "cell_type": "code",
   "execution_count": 246,
   "metadata": {},
   "outputs": [
    {
     "data": {
      "text/plain": [
       "array([0.84988635, 0.84281329])"
      ]
     },
     "execution_count": 246,
     "metadata": {},
     "output_type": "execute_result"
    }
   ],
   "source": [
    "experiment_11"
   ]
  },
  {
   "cell_type": "code",
   "execution_count": 247,
   "metadata": {},
   "outputs": [
    {
     "data": {
      "text/plain": [
       "array([0.86002473, 0.84965402])"
      ]
     },
     "execution_count": 247,
     "metadata": {},
     "output_type": "execute_result"
    }
   ],
   "source": [
    "experiment_12"
   ]
  },
  {
   "cell_type": "code",
   "execution_count": 248,
   "metadata": {},
   "outputs": [
    {
     "data": {
      "text/plain": [
       "array([0.85267685, 0.83718785])"
      ]
     },
     "execution_count": 248,
     "metadata": {},
     "output_type": "execute_result"
    }
   ],
   "source": [
    "experiment_13"
   ]
  },
  {
   "cell_type": "code",
   "execution_count": 249,
   "metadata": {},
   "outputs": [
    {
     "data": {
      "text/plain": [
       "array([0.84988635, 0.84281329])"
      ]
     },
     "execution_count": 249,
     "metadata": {},
     "output_type": "execute_result"
    }
   ],
   "source": [
    "experiment_14"
   ]
  },
  {
   "cell_type": "code",
   "execution_count": 250,
   "metadata": {},
   "outputs": [
    {
     "data": {
      "text/plain": [
       "array([0.87466352, 0.86782524])"
      ]
     },
     "execution_count": 250,
     "metadata": {},
     "output_type": "execute_result"
    }
   ],
   "source": [
    "experiment_15"
   ]
  },
  {
   "cell_type": "code",
   "execution_count": 251,
   "metadata": {},
   "outputs": [
    {
     "data": {
      "text/plain": [
       "array([0.88209864, 0.87506073])"
      ]
     },
     "execution_count": 251,
     "metadata": {},
     "output_type": "execute_result"
    }
   ],
   "source": [
    "experiment_16"
   ]
  },
  {
   "cell_type": "code",
   "execution_count": 252,
   "metadata": {},
   "outputs": [
    {
     "data": {
      "image/png": "[encoded data removed]",
      "text/plain": [
       "<Figure size 691.2x518.4 with 1 Axes>"
      ]
     },
     "metadata": {
      "needs_background": "light"
     },
     "output_type": "display_data"
    }
   ],
   "source": [
    "fig=plt.figure(figsize=[9.6, 7.2])\n",
    "ax=fig.add_subplot(111)\n",
    "ax.set_title('Naive Bayes with stopwords')\n",
    "ax.set_xlabel('Classes')\n",
    "ax.set_ylabel('F1 Score')\n",
    "ax.set_xticklabels(['negativo', 'positivo'])\n",
    "ax.set_xticks([0, 1])\n",
    "ax.set_ylim([0.65,1])\n",
    "ax.plot(experiment_11,marker=\"o\",label='Count Vectorizer')\n",
    "ax.plot(experiment_12,marker=\"o\",label='tf-idf')\n",
    "ax.plot(experiment_13,marker=\"o\",label='Count Vectorizer + tf-idf')\n",
    "ax.plot(experiment_14,marker=\"o\",label='Unigram')\n",
    "ax.plot(experiment_15,marker=\"o\",label='Bigram')\n",
    "ax.plot(experiment_16,marker=\"o\",label='Trigram')\n",
    "plt.legend(loc=4)\n",
    "plt.show()"
   ]
  },
  {
   "cell_type": "code",
   "execution_count": 253,
   "metadata": {},
   "outputs": [
    {
     "data": {
      "text/plain": [
       "array([0.85654555, 0.85201794])"
      ]
     },
     "execution_count": 253,
     "metadata": {},
     "output_type": "execute_result"
    }
   ],
   "source": [
    "experiment_11_sw"
   ]
  },
  {
   "cell_type": "code",
   "execution_count": 254,
   "metadata": {},
   "outputs": [
    {
     "data": {
      "text/plain": [
       "array([0.8612865 , 0.85425017])"
      ]
     },
     "execution_count": 254,
     "metadata": {},
     "output_type": "execute_result"
    }
   ],
   "source": [
    "experiment_12_sw"
   ]
  },
  {
   "cell_type": "code",
   "execution_count": 255,
   "metadata": {},
   "outputs": [
    {
     "data": {
      "text/plain": [
       "array([0.86243871, 0.8536755 ])"
      ]
     },
     "execution_count": 255,
     "metadata": {},
     "output_type": "execute_result"
    }
   ],
   "source": [
    "experiment_13_sw"
   ]
  },
  {
   "cell_type": "code",
   "execution_count": 256,
   "metadata": {},
   "outputs": [
    {
     "data": {
      "text/plain": [
       "array([0.85654555, 0.85201794])"
      ]
     },
     "execution_count": 256,
     "metadata": {},
     "output_type": "execute_result"
    }
   ],
   "source": [
    "experiment_14_sw"
   ]
  },
  {
   "cell_type": "code",
   "execution_count": 257,
   "metadata": {},
   "outputs": [
    {
     "data": {
      "text/plain": [
       "array([0.87750041, 0.87269354])"
      ]
     },
     "execution_count": 257,
     "metadata": {},
     "output_type": "execute_result"
    }
   ],
   "source": [
    "experiment_15_sw"
   ]
  },
  {
   "cell_type": "code",
   "execution_count": 258,
   "metadata": {},
   "outputs": [
    {
     "data": {
      "text/plain": [
       "array([0.87993122, 0.87525338])"
      ]
     },
     "execution_count": 258,
     "metadata": {},
     "output_type": "execute_result"
    }
   ],
   "source": [
    "experiment_16_sw"
   ]
  },
  {
   "cell_type": "code",
   "execution_count": 259,
   "metadata": {
    "scrolled": true
   },
   "outputs": [
    {
     "data": {
      "image/png": "[encoded data removed]",
      "text/plain": [
       "<Figure size 691.2x518.4 with 1 Axes>"
      ]
     },
     "metadata": {
      "needs_background": "light"
     },
     "output_type": "display_data"
    }
   ],
   "source": [
    "fig=plt.figure(figsize=[9.6, 7.2])\n",
    "ax=fig.add_subplot(111)\n",
    "ax.set_title('Naive Bayes without stopwords')\n",
    "ax.set_xlabel('Classes')\n",
    "ax.set_ylabel('F1 Score')\n",
    "ax.set_xticklabels(['negativo', 'positivo'])\n",
    "ax.set_xticks([0, 1])\n",
    "ax.set_ylim([0.65,1])\n",
    "ax.plot(experiment_11_sw,marker=\"o\",label='Count Vectorizer')\n",
    "ax.plot(experiment_12_sw,marker=\"o\",label='tf-idf')\n",
    "ax.plot(experiment_13_sw,marker=\"o\",label='Count Vectorizer + tf-idf')\n",
    "ax.plot(experiment_14_sw,marker=\"o\",label='Unigram')\n",
    "ax.plot(experiment_15_sw,marker=\"o\",label='Bigram')\n",
    "ax.plot(experiment_16_sw,marker=\"o\",label='Trigram')\n",
    "plt.legend(loc=4)\n",
    "plt.show()"
   ]
  },
  {
   "cell_type": "markdown",
   "metadata": {},
   "source": [
    "### Experimentos com SVM/SVC"
   ]
  },
  {
   "cell_type": "code",
   "execution_count": 260,
   "metadata": {},
   "outputs": [
    {
     "data": {
      "text/plain": [
       "array([0.85286179, 0.86036125])"
      ]
     },
     "execution_count": 260,
     "metadata": {},
     "output_type": "execute_result"
    }
   ],
   "source": [
    "experiment_21"
   ]
  },
  {
   "cell_type": "code",
   "execution_count": 261,
   "metadata": {},
   "outputs": [
    {
     "data": {
      "text/plain": [
       "array([0.8832212 , 0.88741064])"
      ]
     },
     "execution_count": 261,
     "metadata": {},
     "output_type": "execute_result"
    }
   ],
   "source": [
    "experiment_22"
   ]
  },
  {
   "cell_type": "code",
   "execution_count": 262,
   "metadata": {},
   "outputs": [
    {
     "data": {
      "text/plain": [
       "array([0.86693659, 0.87160641])"
      ]
     },
     "execution_count": 262,
     "metadata": {},
     "output_type": "execute_result"
    }
   ],
   "source": [
    "experiment_23"
   ]
  },
  {
   "cell_type": "code",
   "execution_count": 263,
   "metadata": {},
   "outputs": [
    {
     "data": {
      "text/plain": [
       "array([0.85286179, 0.86036125])"
      ]
     },
     "execution_count": 263,
     "metadata": {},
     "output_type": "execute_result"
    }
   ],
   "source": [
    "experiment_24"
   ]
  },
  {
   "cell_type": "code",
   "execution_count": 264,
   "metadata": {},
   "outputs": [
    {
     "data": {
      "text/plain": [
       "array([0.86129831, 0.86670632])"
      ]
     },
     "execution_count": 264,
     "metadata": {},
     "output_type": "execute_result"
    }
   ],
   "source": [
    "experiment_25"
   ]
  },
  {
   "cell_type": "code",
   "execution_count": 265,
   "metadata": {},
   "outputs": [
    {
     "data": {
      "text/plain": [
       "array([0.85948334, 0.86186848])"
      ]
     },
     "execution_count": 265,
     "metadata": {},
     "output_type": "execute_result"
    }
   ],
   "source": [
    "experiment_26"
   ]
  },
  {
   "cell_type": "code",
   "execution_count": 266,
   "metadata": {},
   "outputs": [
    {
     "data": {
      "image/png": "[encoded data removed]",
      "text/plain": [
       "<Figure size 691.2x518.4 with 1 Axes>"
      ]
     },
     "metadata": {
      "needs_background": "light"
     },
     "output_type": "display_data"
    }
   ],
   "source": [
    "fig=plt.figure(figsize=[9.6, 7.2])\n",
    "ax=fig.add_subplot(111)\n",
    "ax.set_title('SVM/SVC with stopwords')\n",
    "ax.set_xlabel('Classes')\n",
    "ax.set_ylabel('F1 Score')\n",
    "ax.set_xticklabels(['negativo', 'positivo'])\n",
    "ax.set_xticks([0, 1])\n",
    "ax.set_ylim([0.65,1])\n",
    "ax.plot(experiment_21,marker=\"o\",label='Count Vectorizer')\n",
    "ax.plot(experiment_22,marker=\"o\",label='tf-idf')\n",
    "ax.plot(experiment_23,marker=\"o\",label='Count Vectorizer + tf-idf')\n",
    "ax.plot(experiment_24,marker=\"o\",label='Unigram')\n",
    "ax.plot(experiment_25,marker=\"o\",label='Bigram')\n",
    "ax.plot(experiment_26,marker=\"o\",label='Trigram')\n",
    "plt.legend(loc=4)\n",
    "plt.show()"
   ]
  },
  {
   "cell_type": "code",
   "execution_count": 267,
   "metadata": {},
   "outputs": [
    {
     "data": {
      "text/plain": [
       "array([0.86234073, 0.87019152])"
      ]
     },
     "execution_count": 267,
     "metadata": {},
     "output_type": "execute_result"
    }
   ],
   "source": [
    "experiment_21_sw"
   ]
  },
  {
   "cell_type": "code",
   "execution_count": 268,
   "metadata": {},
   "outputs": [
    {
     "data": {
      "text/plain": [
       "array([0.88049536, 0.88526323])"
      ]
     },
     "execution_count": 268,
     "metadata": {},
     "output_type": "execute_result"
    }
   ],
   "source": [
    "experiment_22_sw"
   ]
  },
  {
   "cell_type": "code",
   "execution_count": 269,
   "metadata": {},
   "outputs": [
    {
     "data": {
      "text/plain": [
       "array([0.87173838, 0.87702159])"
      ]
     },
     "execution_count": 269,
     "metadata": {},
     "output_type": "execute_result"
    }
   ],
   "source": [
    "experiment_23_sw"
   ]
  },
  {
   "cell_type": "code",
   "execution_count": 270,
   "metadata": {},
   "outputs": [
    {
     "data": {
      "text/plain": [
       "array([0.86234073, 0.87019152])"
      ]
     },
     "execution_count": 270,
     "metadata": {},
     "output_type": "execute_result"
    }
   ],
   "source": [
    "experiment_24_sw"
   ]
  },
  {
   "cell_type": "code",
   "execution_count": 271,
   "metadata": {},
   "outputs": [
    {
     "data": {
      "text/plain": [
       "array([0.86612012, 0.87074019])"
      ]
     },
     "execution_count": 271,
     "metadata": {},
     "output_type": "execute_result"
    }
   ],
   "source": [
    "experiment_25_sw"
   ]
  },
  {
   "cell_type": "code",
   "execution_count": 272,
   "metadata": {},
   "outputs": [
    {
     "data": {
      "text/plain": [
       "array([0.86348042, 0.86562573])"
      ]
     },
     "execution_count": 272,
     "metadata": {},
     "output_type": "execute_result"
    }
   ],
   "source": [
    "experiment_26_sw"
   ]
  },
  {
   "cell_type": "code",
   "execution_count": 273,
   "metadata": {},
   "outputs": [
    {
     "data": {
      "image/png": "[encoded data removed]",
      "text/plain": [
       "<Figure size 691.2x518.4 with 1 Axes>"
      ]
     },
     "metadata": {
      "needs_background": "light"
     },
     "output_type": "display_data"
    }
   ],
   "source": [
    "fig=plt.figure(figsize=[9.6, 7.2])\n",
    "ax=fig.add_subplot(111)\n",
    "ax.set_title('SVM/SVC without stopwords')\n",
    "ax.set_xlabel('Classes')\n",
    "ax.set_ylabel('F1 Score')\n",
    "ax.set_xticklabels(['negativo', 'positivo'])\n",
    "ax.set_xticks([0, 1])\n",
    "ax.set_ylim([0.65,1])\n",
    "ax.plot(experiment_21_sw,marker=\"o\",label='Count Vectorizer')\n",
    "ax.plot(experiment_22_sw,marker=\"o\",label='tf-idf')\n",
    "ax.plot(experiment_23_sw,marker=\"o\",label='Count Vectorizer + tf-idf')\n",
    "ax.plot(experiment_24_sw,marker=\"o\",label='Unigram')\n",
    "ax.plot(experiment_25_sw,marker=\"o\",label='Bigram')\n",
    "ax.plot(experiment_26_sw,marker=\"o\",label='Trigram')\n",
    "plt.legend(loc=4)\n",
    "plt.show()"
   ]
  },
  {
   "cell_type": "markdown",
   "metadata": {},
   "source": [
    "## Análise dos resultados\n",
    "\n",
    "A partir dos resultados obtidos pelos experimentos, os experimentos realizados com os modelo SVM/SVC e NB, com o pré-processamento do *dataset* utilizando `TF-IDF Vectorizer`, foram os que obtiveram melhores resultados (a partir da métrica F1 Score). Entretanto, não houve ganhos significativos com a remoção das *stopwords* em língua portuguesa &mdash; houve ganhos, já que a métrica F1 Score apresentou melhor resultado, mas não foram estatisticamente significantes, em geral."
   ]
  }
 ],
 "metadata": {
  "kernelspec": {
   "display_name": "Python 3",
   "language": "python",
   "name": "python3"
  },
  "language_info": {
   "codemirror_mode": {
    "name": "ipython",
    "version": 3
   },
   "file_extension": ".py",
   "mimetype": "text/x-python",
   "name": "python",
   "nbconvert_exporter": "python",
   "pygments_lexer": "ipython3",
   "version": "3.7.2"
  }
 },
 "nbformat": 4,
 "nbformat_minor": 2
}
