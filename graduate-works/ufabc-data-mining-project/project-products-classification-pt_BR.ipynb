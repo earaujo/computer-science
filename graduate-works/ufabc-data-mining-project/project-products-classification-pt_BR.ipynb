{
 "cells": [
  {
   "cell_type": "markdown",
   "metadata": {},
   "source": [
    "# Projeto de Mineração de Dados\n",
    "\n",
    "## Introdução & Proposta\n",
    "\n",
    "O presente projeto-experimento tem por finalidade apresentar um classificador de produtos com base na descrição destes. Este projeto realiza experimentos a partir de três modelos-algoritmos: Decision Tree, Naive Bayes e Support-Vector Machine. As seguintes técnicas de pré-processamento são utilizadas neste experimento: `Count Vectorizer` com e sem remoção de *stopwords*; `TF-IDF Vectorizer` com e sem remoção de *stopwords*; `Count Vectorizer` + `TF-IDF Vectorizer` com e sem remoção de *stopwords*; e experimentos com *Unigram*, *Bigram* e *Trigram*.\n",
    "\n",
    "A acurácia dos modelos propostos é avaliada a partir da métrica **F1 Score**. Ao final, os experimentos são comparados a partir desta métrica."
   ]
  },
  {
   "cell_type": "markdown",
   "metadata": {},
   "source": [
    "## Obtenção da base de dados"
   ]
  },
  {
   "cell_type": "code",
   "execution_count": 1,
   "metadata": {},
   "outputs": [
    {
     "name": "stdout",
     "output_type": "stream",
     "text": [
      "-rw-r--r-- 1 earaujoassis users 3.7M Aug 27 23:53 datasets/produtos.csv\r\n"
     ]
    }
   ],
   "source": [
    "!ls -all -h datasets/produtos.csv"
   ]
  },
  {
   "cell_type": "markdown",
   "metadata": {},
   "source": [
    "## Definições comuns aos modelos de análise"
   ]
  },
  {
   "cell_type": "code",
   "execution_count": 2,
   "metadata": {},
   "outputs": [
    {
     "data": {
      "application/javascript": [
       "IPython.OutputArea.prototype._should_scroll = function(lines) {\n",
       "    return false;\n",
       "}\n"
      ],
      "text/plain": [
       "<IPython.core.display.Javascript object>"
      ]
     },
     "metadata": {},
     "output_type": "display_data"
    }
   ],
   "source": [
    "%%javascript\n",
    "IPython.OutputArea.prototype._should_scroll = function(lines) {\n",
    "    return false;\n",
    "}"
   ]
  },
  {
   "cell_type": "code",
   "execution_count": 3,
   "metadata": {},
   "outputs": [],
   "source": [
    "import numpy as np\n",
    "import pandas as pd\n",
    "import nltk\n",
    "import re\n",
    "from sklearn.metrics import f1_score\n",
    "from sklearn.tree import DecisionTreeClassifier\n",
    "from sklearn.naive_bayes import MultinomialNB\n",
    "from sklearn.svm import SVC\n",
    "from sklearn.feature_extraction.text import CountVectorizer, TfidfVectorizer, TfidfTransformer\n",
    "from sklearn.model_selection import train_test_split\n",
    "\n",
    "from nltk.classify import NaiveBayesClassifier\n",
    "from nltk.corpus import subjectivity\n",
    "from nltk.sentiment import SentimentAnalyzer\n",
    "from nltk.sentiment.util import *\n",
    "from nltk.corpus import stopwords\n",
    "from nltk.classify import SklearnClassifier\n",
    "from nltk.corpus import stopwords\n",
    "from nltk.sentiment.vader import SentimentIntensityAnalyzer\n",
    "from nltk import tokenize\n",
    "from wordcloud import WordCloud\n",
    "\n",
    "import matplotlib.pyplot as plt\n",
    "%matplotlib inline"
   ]
  },
  {
   "cell_type": "code",
   "execution_count": 4,
   "metadata": {},
   "outputs": [],
   "source": [
    "def remove_stopwords_and_punctuation(docs):\n",
    "    stop_words = set(stopwords.words(\"portuguese\"))\n",
    "    neo_docs = []\n",
    "\n",
    "    for sentence in docs:\n",
    "        cleanr = re.compile('<.*?>')\n",
    "        sentence = re.sub(r'\\d+', '', sentence)\n",
    "        sentence = re.sub(cleanr, '', sentence)\n",
    "        sentence = re.sub(\"'\", '', sentence)\n",
    "        sentence = re.sub(r'\\W+', ' ', sentence)\n",
    "        sentence = sentence.replace('_', '')\n",
    "        sentence = [word for word in sentence.lower().split() if word not in stop_words]\n",
    "        sentence = ' '.join(sentence)\n",
    "        neo_docs.append(sentence)\n",
    "\n",
    "    return neo_docs"
   ]
  },
  {
   "cell_type": "code",
   "execution_count": 5,
   "metadata": {},
   "outputs": [
    {
     "name": "stderr",
     "output_type": "stream",
     "text": [
      "[nltk_data] Downloading package stopwords to\n",
      "[nltk_data]     /home/earaujoassis/nltk_data...\n",
      "[nltk_data]   Package stopwords is already up-to-date!\n"
     ]
    },
    {
     "data": {
      "text/plain": [
       "True"
      ]
     },
     "execution_count": 5,
     "metadata": {},
     "output_type": "execute_result"
    }
   ],
   "source": [
    "import nltk\n",
    "nltk.download('stopwords')"
   ]
  },
  {
   "cell_type": "code",
   "execution_count": 6,
   "metadata": {},
   "outputs": [],
   "source": [
    "df_master = pd.read_csv(\"datasets/produtos.csv\", encoding=\"utf-8\", index_col=0, sep=';')"
   ]
  },
  {
   "cell_type": "code",
   "execution_count": 7,
   "metadata": {},
   "outputs": [
    {
     "data": {
      "text/plain": [
       "['descricao', 'categoria']"
      ]
     },
     "execution_count": 7,
     "metadata": {},
     "output_type": "execute_result"
    }
   ],
   "source": [
    "list(df_master.head())"
   ]
  },
  {
   "cell_type": "code",
   "execution_count": 8,
   "metadata": {},
   "outputs": [
    {
     "data": {
      "text/html": [
       "<div>\n",
       "<style scoped>\n",
       "    .dataframe tbody tr th:only-of-type {\n",
       "        vertical-align: middle;\n",
       "    }\n",
       "\n",
       "    .dataframe tbody tr th {\n",
       "        vertical-align: top;\n",
       "    }\n",
       "\n",
       "    .dataframe thead th {\n",
       "        text-align: right;\n",
       "    }\n",
       "</style>\n",
       "<table border=\"1\" class=\"dataframe\">\n",
       "  <thead>\n",
       "    <tr style=\"text-align: right;\">\n",
       "      <th></th>\n",
       "      <th>descricao</th>\n",
       "      <th>categoria</th>\n",
       "    </tr>\n",
       "    <tr>\n",
       "      <th>nome</th>\n",
       "      <th></th>\n",
       "      <th></th>\n",
       "    </tr>\n",
       "  </thead>\n",
       "  <tbody>\n",
       "    <tr>\n",
       "      <td>O Hobbit - 7ª Ed. 2013</td>\n",
       "      <td>Produto NovoBilbo Bolseiro é um hobbit que lev...</td>\n",
       "      <td>livro</td>\n",
       "    </tr>\n",
       "    <tr>\n",
       "      <td>Livro - It A Coisa - Stephen King</td>\n",
       "      <td>Produto NovoDurante as férias escolares de 195...</td>\n",
       "      <td>livro</td>\n",
       "    </tr>\n",
       "    <tr>\n",
       "      <td>Box  As Crônicas De Gelo E Fogo  Pocket  5 Livros</td>\n",
       "      <td>Produto NovoTodo o reino de Westeros ao alcanc...</td>\n",
       "      <td>livro</td>\n",
       "    </tr>\n",
       "    <tr>\n",
       "      <td>Box Harry Potter</td>\n",
       "      <td>Produto Novo e Físico  A série Harry Potter ch...</td>\n",
       "      <td>livro</td>\n",
       "    </tr>\n",
       "    <tr>\n",
       "      <td>Livro Origem - Dan Brown</td>\n",
       "      <td>Produto NovoDe Onde Viemos? Para Onde Vamos? R...</td>\n",
       "      <td>livro</td>\n",
       "    </tr>\n",
       "    <tr>\n",
       "      <td>...</td>\n",
       "      <td>...</td>\n",
       "      <td>...</td>\n",
       "    </tr>\n",
       "    <tr>\n",
       "      <td>Zelda: Breath Of The Wild - Expansion Pass - Dlc Pack 1 E 2</td>\n",
       "      <td>ENVIO IMEDIATO APÓS CONFIRMAÇÃOCom este Passe ...</td>\n",
       "      <td>game</td>\n",
       "    </tr>\n",
       "    <tr>\n",
       "      <td>Middle Earth Shadow Of Mordor Legion Edition Ps3 - Português</td>\n",
       "      <td>NaN</td>\n",
       "      <td>game</td>\n",
       "    </tr>\n",
       "    <tr>\n",
       "      <td>Fifa 17 Ps3 Dublado Em Pt Br Envio Digital Imediato</td>\n",
       "      <td>NaN</td>\n",
       "      <td>game</td>\n",
       "    </tr>\n",
       "    <tr>\n",
       "      <td>Gta San Andreas Hd Remastered Ps3 Envio Imediato</td>\n",
       "      <td>Nome do jogo: GTA San Andreas HD RemasterConso...</td>\n",
       "      <td>game</td>\n",
       "    </tr>\n",
       "    <tr>\n",
       "      <td>Mini Game  Nova Portátil 10mil Jogos Player Mp3 Mp4 Mp5</td>\n",
       "      <td>Para ligar o aparelho pressionar os botões On ...</td>\n",
       "      <td>game</td>\n",
       "    </tr>\n",
       "  </tbody>\n",
       "</table>\n",
       "<p>4080 rows × 2 columns</p>\n",
       "</div>"
      ],
      "text/plain": [
       "                                                                                            descricao  \\\n",
       "nome                                                                                                    \n",
       " O Hobbit - 7ª Ed. 2013                             Produto NovoBilbo Bolseiro é um hobbit que lev...   \n",
       " Livro - It A Coisa - Stephen King                  Produto NovoDurante as férias escolares de 195...   \n",
       " Box  As Crônicas De Gelo E Fogo  Pocket  5 Liv...  Produto NovoTodo o reino de Westeros ao alcanc...   \n",
       " Box Harry Potter                                   Produto Novo e Físico  A série Harry Potter ch...   \n",
       " Livro Origem - Dan Brown                           Produto NovoDe Onde Viemos? Para Onde Vamos? R...   \n",
       "...                                                                                               ...   \n",
       " Zelda: Breath Of The Wild - Expansion Pass - D...  ENVIO IMEDIATO APÓS CONFIRMAÇÃOCom este Passe ...   \n",
       " Middle Earth Shadow Of Mordor Legion Edition P...                                                NaN   \n",
       " Fifa 17 Ps3 Dublado Em Pt Br Envio Digital Ime...                                                NaN   \n",
       " Gta San Andreas Hd Remastered Ps3 Envio Imediato   Nome do jogo: GTA San Andreas HD RemasterConso...   \n",
       " Mini Game  Nova Portátil 10mil Jogos Player Mp...  Para ligar o aparelho pressionar os botões On ...   \n",
       "\n",
       "                                                   categoria  \n",
       "nome                                                          \n",
       " O Hobbit - 7ª Ed. 2013                                livro  \n",
       " Livro - It A Coisa - Stephen King                     livro  \n",
       " Box  As Crônicas De Gelo E Fogo  Pocket  5 Liv...     livro  \n",
       " Box Harry Potter                                      livro  \n",
       " Livro Origem - Dan Brown                              livro  \n",
       "...                                                      ...  \n",
       " Zelda: Breath Of The Wild - Expansion Pass - D...      game  \n",
       " Middle Earth Shadow Of Mordor Legion Edition P...      game  \n",
       " Fifa 17 Ps3 Dublado Em Pt Br Envio Digital Ime...      game  \n",
       " Gta San Andreas Hd Remastered Ps3 Envio Imediato       game  \n",
       " Mini Game  Nova Portátil 10mil Jogos Player Mp...      game  \n",
       "\n",
       "[4080 rows x 2 columns]"
      ]
     },
     "execution_count": 8,
     "metadata": {},
     "output_type": "execute_result"
    }
   ],
   "source": [
    "df_master[['descricao', 'categoria']]"
   ]
  },
  {
   "cell_type": "code",
   "execution_count": 9,
   "metadata": {},
   "outputs": [
    {
     "data": {
      "text/html": [
       "<div>\n",
       "<style scoped>\n",
       "    .dataframe tbody tr th:only-of-type {\n",
       "        vertical-align: middle;\n",
       "    }\n",
       "\n",
       "    .dataframe tbody tr th {\n",
       "        vertical-align: top;\n",
       "    }\n",
       "\n",
       "    .dataframe thead th {\n",
       "        text-align: right;\n",
       "    }\n",
       "</style>\n",
       "<table border=\"1\" class=\"dataframe\">\n",
       "  <thead>\n",
       "    <tr style=\"text-align: right;\">\n",
       "      <th></th>\n",
       "      <th>descricao</th>\n",
       "      <th>categoria</th>\n",
       "    </tr>\n",
       "  </thead>\n",
       "  <tbody>\n",
       "    <tr>\n",
       "      <td>0</td>\n",
       "      <td>CUPHEAD - XBOX ONE - DIGITALFORMATO DIGITAL. P...</td>\n",
       "      <td>game</td>\n",
       "    </tr>\n",
       "    <tr>\n",
       "      <td>1</td>\n",
       "      <td>A Linha Max está ainda mais completa, isso mes...</td>\n",
       "      <td>maquiagem</td>\n",
       "    </tr>\n",
       "    <tr>\n",
       "      <td>2</td>\n",
       "      <td>Frete a 10R$Livro Edgar Alan Poe + Frankenstei...</td>\n",
       "      <td>livro</td>\n",
       "    </tr>\n",
       "    <tr>\n",
       "      <td>3</td>\n",
       "      <td>KIT BONECOS VINGADORES LANÇAMENTO!MODELOS: HOM...</td>\n",
       "      <td>brinquedo</td>\n",
       "    </tr>\n",
       "    <tr>\n",
       "      <td>4</td>\n",
       "      <td>Skate 3 - Xbox 360 - Edição Platinum HitsJogo ...</td>\n",
       "      <td>game</td>\n",
       "    </tr>\n",
       "    <tr>\n",
       "      <td>...</td>\n",
       "      <td>...</td>\n",
       "      <td>...</td>\n",
       "    </tr>\n",
       "    <tr>\n",
       "      <td>2911</td>\n",
       "      <td>Produto NovoLucinda Riley já vendeu mais de 10...</td>\n",
       "      <td>livro</td>\n",
       "    </tr>\n",
       "    <tr>\n",
       "      <td>2912</td>\n",
       "      <td>Espada Space Laser Dupla - MultikidsCódigo:Esp...</td>\n",
       "      <td>brinquedo</td>\n",
       "    </tr>\n",
       "    <tr>\n",
       "      <td>2913</td>\n",
       "      <td>Livro Hobbit - J. R. R. Tolkien - Autor de Sen...</td>\n",
       "      <td>livro</td>\n",
       "    </tr>\n",
       "    <tr>\n",
       "      <td>2914</td>\n",
       "      <td>JOGO ORIGINAL. NOVO. LACRADO. PRONTA ENTREGA. ...</td>\n",
       "      <td>game</td>\n",
       "    </tr>\n",
       "    <tr>\n",
       "      <td>2915</td>\n",
       "      <td>Produto Novo e Físico  Um derrame cerebral dei...</td>\n",
       "      <td>livro</td>\n",
       "    </tr>\n",
       "  </tbody>\n",
       "</table>\n",
       "<p>2916 rows × 2 columns</p>\n",
       "</div>"
      ],
      "text/plain": [
       "                                              descricao  categoria\n",
       "0     CUPHEAD - XBOX ONE - DIGITALFORMATO DIGITAL. P...       game\n",
       "1     A Linha Max está ainda mais completa, isso mes...  maquiagem\n",
       "2     Frete a 10R$Livro Edgar Alan Poe + Frankenstei...      livro\n",
       "3     KIT BONECOS VINGADORES LANÇAMENTO!MODELOS: HOM...  brinquedo\n",
       "4     Skate 3 - Xbox 360 - Edição Platinum HitsJogo ...       game\n",
       "...                                                 ...        ...\n",
       "2911  Produto NovoLucinda Riley já vendeu mais de 10...      livro\n",
       "2912  Espada Space Laser Dupla - MultikidsCódigo:Esp...  brinquedo\n",
       "2913  Livro Hobbit - J. R. R. Tolkien - Autor de Sen...      livro\n",
       "2914  JOGO ORIGINAL. NOVO. LACRADO. PRONTA ENTREGA. ...       game\n",
       "2915  Produto Novo e Físico  Um derrame cerebral dei...      livro\n",
       "\n",
       "[2916 rows x 2 columns]"
      ]
     },
     "execution_count": 9,
     "metadata": {},
     "output_type": "execute_result"
    }
   ],
   "source": [
    "# Shuffle the data frame and its content/rows/entries and\n",
    "# remove entries with NaN at `categoria` column\n",
    "df_master = df_master[pd.notnull(df_master['descricao'])]\n",
    "df_master = df_master.sample(frac=1).reset_index(drop=True)\n",
    "df_master[['descricao', 'categoria']]"
   ]
  },
  {
   "cell_type": "code",
   "execution_count": 10,
   "metadata": {},
   "outputs": [
    {
     "data": {
      "text/plain": [
       "array(['game', 'maquiagem', 'livro', 'brinquedo'], dtype=object)"
      ]
     },
     "execution_count": 10,
     "metadata": {},
     "output_type": "execute_result"
    }
   ],
   "source": [
    "df_master.categoria.unique()"
   ]
  },
  {
   "cell_type": "code",
   "execution_count": 11,
   "metadata": {},
   "outputs": [],
   "source": [
    "number_rows = df_master.shape[0]\n",
    "traninng_threshold = int(0.40 * number_rows)"
   ]
  },
  {
   "cell_type": "code",
   "execution_count": 12,
   "metadata": {},
   "outputs": [],
   "source": [
    "training_df = df_master[['descricao', 'categoria']].iloc[0:traninng_threshold]\n",
    "testing_df = df_master[['descricao', 'categoria']].iloc[traninng_threshold + 1:-1]"
   ]
  },
  {
   "cell_type": "code",
   "execution_count": 13,
   "metadata": {},
   "outputs": [
    {
     "data": {
      "text/html": [
       "<div>\n",
       "<style scoped>\n",
       "    .dataframe tbody tr th:only-of-type {\n",
       "        vertical-align: middle;\n",
       "    }\n",
       "\n",
       "    .dataframe tbody tr th {\n",
       "        vertical-align: top;\n",
       "    }\n",
       "\n",
       "    .dataframe thead th {\n",
       "        text-align: right;\n",
       "    }\n",
       "</style>\n",
       "<table border=\"1\" class=\"dataframe\">\n",
       "  <thead>\n",
       "    <tr style=\"text-align: right;\">\n",
       "      <th></th>\n",
       "      <th>descricao</th>\n",
       "      <th>categoria</th>\n",
       "    </tr>\n",
       "  </thead>\n",
       "  <tbody>\n",
       "    <tr>\n",
       "      <td>0</td>\n",
       "      <td>CUPHEAD - XBOX ONE - DIGITALFORMATO DIGITAL. P...</td>\n",
       "      <td>game</td>\n",
       "    </tr>\n",
       "    <tr>\n",
       "      <td>1</td>\n",
       "      <td>A Linha Max está ainda mais completa, isso mes...</td>\n",
       "      <td>maquiagem</td>\n",
       "    </tr>\n",
       "    <tr>\n",
       "      <td>2</td>\n",
       "      <td>Frete a 10R$Livro Edgar Alan Poe + Frankenstei...</td>\n",
       "      <td>livro</td>\n",
       "    </tr>\n",
       "    <tr>\n",
       "      <td>3</td>\n",
       "      <td>KIT BONECOS VINGADORES LANÇAMENTO!MODELOS: HOM...</td>\n",
       "      <td>brinquedo</td>\n",
       "    </tr>\n",
       "    <tr>\n",
       "      <td>4</td>\n",
       "      <td>Skate 3 - Xbox 360 - Edição Platinum HitsJogo ...</td>\n",
       "      <td>game</td>\n",
       "    </tr>\n",
       "    <tr>\n",
       "      <td>...</td>\n",
       "      <td>...</td>\n",
       "      <td>...</td>\n",
       "    </tr>\n",
       "    <tr>\n",
       "      <td>1161</td>\n",
       "      <td>Maleta Maquiagem Infantil Modelo Barbie Desenh...</td>\n",
       "      <td>maquiagem</td>\n",
       "    </tr>\n",
       "    <tr>\n",
       "      <td>1162</td>\n",
       "      <td>Assassins Creed Origins - Xbox One - Original ...</td>\n",
       "      <td>game</td>\n",
       "    </tr>\n",
       "    <tr>\n",
       "      <td>1163</td>\n",
       "      <td>Franquia InfantilTemática Personagens do Cinem...</td>\n",
       "      <td>brinquedo</td>\n",
       "    </tr>\n",
       "    <tr>\n",
       "      <td>1164</td>\n",
       "      <td>Maleta Profissional Grande Com MaquiagemMaleta...</td>\n",
       "      <td>maquiagem</td>\n",
       "    </tr>\n",
       "    <tr>\n",
       "      <td>1165</td>\n",
       "      <td>Coleção Star Wars 7 Livros Lacrados Guerra Nas...</td>\n",
       "      <td>livro</td>\n",
       "    </tr>\n",
       "  </tbody>\n",
       "</table>\n",
       "<p>1166 rows × 2 columns</p>\n",
       "</div>"
      ],
      "text/plain": [
       "                                              descricao  categoria\n",
       "0     CUPHEAD - XBOX ONE - DIGITALFORMATO DIGITAL. P...       game\n",
       "1     A Linha Max está ainda mais completa, isso mes...  maquiagem\n",
       "2     Frete a 10R$Livro Edgar Alan Poe + Frankenstei...      livro\n",
       "3     KIT BONECOS VINGADORES LANÇAMENTO!MODELOS: HOM...  brinquedo\n",
       "4     Skate 3 - Xbox 360 - Edição Platinum HitsJogo ...       game\n",
       "...                                                 ...        ...\n",
       "1161  Maleta Maquiagem Infantil Modelo Barbie Desenh...  maquiagem\n",
       "1162  Assassins Creed Origins - Xbox One - Original ...       game\n",
       "1163  Franquia InfantilTemática Personagens do Cinem...  brinquedo\n",
       "1164  Maleta Profissional Grande Com MaquiagemMaleta...  maquiagem\n",
       "1165  Coleção Star Wars 7 Livros Lacrados Guerra Nas...      livro\n",
       "\n",
       "[1166 rows x 2 columns]"
      ]
     },
     "execution_count": 13,
     "metadata": {},
     "output_type": "execute_result"
    }
   ],
   "source": [
    "training_df"
   ]
  },
  {
   "cell_type": "code",
   "execution_count": 14,
   "metadata": {},
   "outputs": [
    {
     "data": {
      "text/html": [
       "<div>\n",
       "<style scoped>\n",
       "    .dataframe tbody tr th:only-of-type {\n",
       "        vertical-align: middle;\n",
       "    }\n",
       "\n",
       "    .dataframe tbody tr th {\n",
       "        vertical-align: top;\n",
       "    }\n",
       "\n",
       "    .dataframe thead th {\n",
       "        text-align: right;\n",
       "    }\n",
       "</style>\n",
       "<table border=\"1\" class=\"dataframe\">\n",
       "  <thead>\n",
       "    <tr style=\"text-align: right;\">\n",
       "      <th></th>\n",
       "      <th>descricao</th>\n",
       "      <th>categoria</th>\n",
       "    </tr>\n",
       "  </thead>\n",
       "  <tbody>\n",
       "    <tr>\n",
       "      <td>1167</td>\n",
       "      <td>Paleta de Pó Facial Ruby Rose HB-7208Uso Profi...</td>\n",
       "      <td>maquiagem</td>\n",
       "    </tr>\n",
       "    <tr>\n",
       "      <td>1168</td>\n",
       "      <td>BONECOS DA SÉRIE DRAGON BALLPREÇO DA UNIDADEVÁ...</td>\n",
       "      <td>brinquedo</td>\n",
       "    </tr>\n",
       "    <tr>\n",
       "      <td>1169</td>\n",
       "      <td>JOGO ORIGINAL. NOVO. LACRADO. PRONTA ENTREGA. ...</td>\n",
       "      <td>game</td>\n",
       "    </tr>\n",
       "    <tr>\n",
       "      <td>1170</td>\n",
       "      <td>PRODUTO PRONTA ENTREGA NO BRASILPRODUTO PRONTA...</td>\n",
       "      <td>maquiagem</td>\n",
       "    </tr>\n",
       "    <tr>\n",
       "      <td>1171</td>\n",
       "      <td>Assassins Creed Origins Edição Limitada | Jogo...</td>\n",
       "      <td>game</td>\n",
       "    </tr>\n",
       "    <tr>\n",
       "      <td>...</td>\n",
       "      <td>...</td>\n",
       "      <td>...</td>\n",
       "    </tr>\n",
       "    <tr>\n",
       "      <td>2910</td>\n",
       "      <td>Você está comprando com a GCM GAMES*Compre com...</td>\n",
       "      <td>game</td>\n",
       "    </tr>\n",
       "    <tr>\n",
       "      <td>2911</td>\n",
       "      <td>Produto NovoLucinda Riley já vendeu mais de 10...</td>\n",
       "      <td>livro</td>\n",
       "    </tr>\n",
       "    <tr>\n",
       "      <td>2912</td>\n",
       "      <td>Espada Space Laser Dupla - MultikidsCódigo:Esp...</td>\n",
       "      <td>brinquedo</td>\n",
       "    </tr>\n",
       "    <tr>\n",
       "      <td>2913</td>\n",
       "      <td>Livro Hobbit - J. R. R. Tolkien - Autor de Sen...</td>\n",
       "      <td>livro</td>\n",
       "    </tr>\n",
       "    <tr>\n",
       "      <td>2914</td>\n",
       "      <td>JOGO ORIGINAL. NOVO. LACRADO. PRONTA ENTREGA. ...</td>\n",
       "      <td>game</td>\n",
       "    </tr>\n",
       "  </tbody>\n",
       "</table>\n",
       "<p>1748 rows × 2 columns</p>\n",
       "</div>"
      ],
      "text/plain": [
       "                                              descricao  categoria\n",
       "1167  Paleta de Pó Facial Ruby Rose HB-7208Uso Profi...  maquiagem\n",
       "1168  BONECOS DA SÉRIE DRAGON BALLPREÇO DA UNIDADEVÁ...  brinquedo\n",
       "1169  JOGO ORIGINAL. NOVO. LACRADO. PRONTA ENTREGA. ...       game\n",
       "1170  PRODUTO PRONTA ENTREGA NO BRASILPRODUTO PRONTA...  maquiagem\n",
       "1171  Assassins Creed Origins Edição Limitada | Jogo...       game\n",
       "...                                                 ...        ...\n",
       "2910  Você está comprando com a GCM GAMES*Compre com...       game\n",
       "2911  Produto NovoLucinda Riley já vendeu mais de 10...      livro\n",
       "2912  Espada Space Laser Dupla - MultikidsCódigo:Esp...  brinquedo\n",
       "2913  Livro Hobbit - J. R. R. Tolkien - Autor de Sen...      livro\n",
       "2914  JOGO ORIGINAL. NOVO. LACRADO. PRONTA ENTREGA. ...       game\n",
       "\n",
       "[1748 rows x 2 columns]"
      ]
     },
     "execution_count": 14,
     "metadata": {},
     "output_type": "execute_result"
    }
   ],
   "source": [
    "testing_df"
   ]
  },
  {
   "cell_type": "markdown",
   "metadata": {},
   "source": [
    "## Preparação, treinamento, predição & análise dos dados\n"
   ]
  },
  {
   "cell_type": "markdown",
   "metadata": {},
   "source": [
    "### *DecisionTreeClassifier*"
   ]
  },
  {
   "cell_type": "markdown",
   "metadata": {},
   "source": [
    "#### *DecisionTreeClassifier* + *CountVectorizer*"
   ]
  },
  {
   "cell_type": "code",
   "execution_count": 15,
   "metadata": {},
   "outputs": [],
   "source": [
    "training_docs = training_df[\"descricao\"].values\n",
    "training_classes = training_df[\"categoria\"].values\n",
    "testing_docs = testing_df[\"descricao\"].values"
   ]
  },
  {
   "cell_type": "code",
   "execution_count": 16,
   "metadata": {},
   "outputs": [
    {
     "data": {
      "text/plain": [
       "DecisionTreeClassifier(class_weight=None, criterion='gini', max_depth=None,\n",
       "                       max_features=None, max_leaf_nodes=None,\n",
       "                       min_impurity_decrease=0.0, min_impurity_split=None,\n",
       "                       min_samples_leaf=1, min_samples_split=2,\n",
       "                       min_weight_fraction_leaf=0.0, presort=False,\n",
       "                       random_state=None, splitter='best')"
      ]
     },
     "execution_count": 16,
     "metadata": {},
     "output_type": "execute_result"
    }
   ],
   "source": [
    "vectorizer = CountVectorizer(analyzer=\"word\")\n",
    "frequency_training_docs = vectorizer.fit_transform(training_docs)\n",
    "model = DecisionTreeClassifier()\n",
    "model.fit(frequency_training_docs, training_classes)"
   ]
  },
  {
   "cell_type": "code",
   "execution_count": 17,
   "metadata": {},
   "outputs": [],
   "source": [
    "frequency_testing_docs = vectorizer.transform(testing_docs)\n",
    "testing_classes = model.predict(frequency_testing_docs)"
   ]
  },
  {
   "cell_type": "code",
   "execution_count": 18,
   "metadata": {},
   "outputs": [
    {
     "data": {
      "text/plain": [
       "array(['maquiagem', 'brinquedo', 'game', ..., 'brinquedo', 'livro',\n",
       "       'game'], dtype=object)"
      ]
     },
     "execution_count": 18,
     "metadata": {},
     "output_type": "execute_result"
    }
   ],
   "source": [
    "testing_classes"
   ]
  },
  {
   "cell_type": "code",
   "execution_count": 19,
   "metadata": {},
   "outputs": [],
   "source": [
    "y_true = testing_df[\"categoria\"].values\n",
    "y_pred = testing_classes"
   ]
  },
  {
   "cell_type": "code",
   "execution_count": 20,
   "metadata": {},
   "outputs": [
    {
     "data": {
      "text/plain": [
       "array([0.87294118, 0.91420534, 0.92943548, 0.91622481])"
      ]
     },
     "execution_count": 20,
     "metadata": {},
     "output_type": "execute_result"
    }
   ],
   "source": [
    "experiment_01 = f1_score(y_true, y_pred, average=None)\n",
    "experiment_01"
   ]
  },
  {
   "cell_type": "markdown",
   "metadata": {},
   "source": [
    "#### *DecisionTreeClassifier* + *CountVectorizer* &mdash; com remoção de *stopwords*"
   ]
  },
  {
   "cell_type": "code",
   "execution_count": 21,
   "metadata": {},
   "outputs": [],
   "source": [
    "training_docs = remove_stopwords_and_punctuation(training_df[\"descricao\"].values)\n",
    "training_classes = training_df[\"categoria\"].values\n",
    "testing_docs = remove_stopwords_and_punctuation(testing_df[\"descricao\"].values)"
   ]
  },
  {
   "cell_type": "code",
   "execution_count": 22,
   "metadata": {},
   "outputs": [
    {
     "data": {
      "text/plain": [
       "DecisionTreeClassifier(class_weight=None, criterion='gini', max_depth=None,\n",
       "                       max_features=None, max_leaf_nodes=None,\n",
       "                       min_impurity_decrease=0.0, min_impurity_split=None,\n",
       "                       min_samples_leaf=1, min_samples_split=2,\n",
       "                       min_weight_fraction_leaf=0.0, presort=False,\n",
       "                       random_state=None, splitter='best')"
      ]
     },
     "execution_count": 22,
     "metadata": {},
     "output_type": "execute_result"
    }
   ],
   "source": [
    "vectorizer = CountVectorizer(analyzer=\"word\")\n",
    "frequency_training_docs = vectorizer.fit_transform(training_docs)\n",
    "model = DecisionTreeClassifier()\n",
    "model.fit(frequency_training_docs, training_classes)"
   ]
  },
  {
   "cell_type": "code",
   "execution_count": 23,
   "metadata": {},
   "outputs": [],
   "source": [
    "frequency_testing_docs = vectorizer.transform(testing_docs)\n",
    "testing_classes = model.predict(frequency_testing_docs)"
   ]
  },
  {
   "cell_type": "code",
   "execution_count": 24,
   "metadata": {},
   "outputs": [
    {
     "data": {
      "text/plain": [
       "array(['maquiagem', 'brinquedo', 'game', ..., 'brinquedo', 'livro',\n",
       "       'game'], dtype=object)"
      ]
     },
     "execution_count": 24,
     "metadata": {},
     "output_type": "execute_result"
    }
   ],
   "source": [
    "testing_classes"
   ]
  },
  {
   "cell_type": "code",
   "execution_count": 25,
   "metadata": {},
   "outputs": [],
   "source": [
    "y_true = testing_df[\"categoria\"].values\n",
    "y_pred = testing_classes"
   ]
  },
  {
   "cell_type": "code",
   "execution_count": 26,
   "metadata": {},
   "outputs": [
    {
     "data": {
      "text/plain": [
       "array([0.88676996, 0.92795389, 0.94141414, 0.91264132])"
      ]
     },
     "execution_count": 26,
     "metadata": {},
     "output_type": "execute_result"
    }
   ],
   "source": [
    "experiment_01_sw = f1_score(y_true, y_pred, average=None)\n",
    "experiment_01_sw"
   ]
  },
  {
   "cell_type": "markdown",
   "metadata": {},
   "source": [
    "#### DecisionTreeClassifier + TfidfVectorizer"
   ]
  },
  {
   "cell_type": "code",
   "execution_count": 27,
   "metadata": {},
   "outputs": [],
   "source": [
    "training_docs = training_df[\"descricao\"].values\n",
    "training_classes = training_df[\"categoria\"].values\n",
    "testing_docs = testing_df[\"descricao\"].values"
   ]
  },
  {
   "cell_type": "code",
   "execution_count": 28,
   "metadata": {},
   "outputs": [
    {
     "data": {
      "text/plain": [
       "DecisionTreeClassifier(class_weight=None, criterion='gini', max_depth=None,\n",
       "                       max_features=None, max_leaf_nodes=None,\n",
       "                       min_impurity_decrease=0.0, min_impurity_split=None,\n",
       "                       min_samples_leaf=1, min_samples_split=2,\n",
       "                       min_weight_fraction_leaf=0.0, presort=False,\n",
       "                       random_state=None, splitter='best')"
      ]
     },
     "execution_count": 28,
     "metadata": {},
     "output_type": "execute_result"
    }
   ],
   "source": [
    "vectorizer = TfidfVectorizer(analyzer=\"word\")\n",
    "frequency_training_docs = vectorizer.fit_transform(training_docs)\n",
    "model = DecisionTreeClassifier()\n",
    "model.fit(frequency_training_docs, training_classes)"
   ]
  },
  {
   "cell_type": "code",
   "execution_count": 29,
   "metadata": {},
   "outputs": [],
   "source": [
    "frequency_testing_docs = vectorizer.transform(testing_docs)\n",
    "testing_classes = model.predict(frequency_testing_docs)"
   ]
  },
  {
   "cell_type": "code",
   "execution_count": 30,
   "metadata": {},
   "outputs": [
    {
     "data": {
      "text/plain": [
       "array(['maquiagem', 'brinquedo', 'game', ..., 'brinquedo', 'livro',\n",
       "       'game'], dtype=object)"
      ]
     },
     "execution_count": 30,
     "metadata": {},
     "output_type": "execute_result"
    }
   ],
   "source": [
    "testing_classes"
   ]
  },
  {
   "cell_type": "code",
   "execution_count": 31,
   "metadata": {},
   "outputs": [],
   "source": [
    "y_true = testing_df[\"categoria\"].values\n",
    "y_pred = testing_classes"
   ]
  },
  {
   "cell_type": "code",
   "execution_count": 32,
   "metadata": {},
   "outputs": [
    {
     "data": {
      "text/plain": [
       "array([0.86363636, 0.91371994, 0.9287169 , 0.91262136])"
      ]
     },
     "execution_count": 32,
     "metadata": {},
     "output_type": "execute_result"
    }
   ],
   "source": [
    "experiment_02 = f1_score(y_true, y_pred, average=None)\n",
    "experiment_02"
   ]
  },
  {
   "cell_type": "markdown",
   "metadata": {},
   "source": [
    "#### DecisionTreeClassifier + TfidfVectorizer &mdash; com remoção de *stopwords*"
   ]
  },
  {
   "cell_type": "code",
   "execution_count": 33,
   "metadata": {},
   "outputs": [],
   "source": [
    "training_docs = remove_stopwords_and_punctuation(training_df[\"descricao\"].values)\n",
    "training_classes = training_df[\"categoria\"].values\n",
    "testing_docs = remove_stopwords_and_punctuation(testing_df[\"descricao\"].values)"
   ]
  },
  {
   "cell_type": "code",
   "execution_count": 34,
   "metadata": {},
   "outputs": [
    {
     "data": {
      "text/plain": [
       "DecisionTreeClassifier(class_weight=None, criterion='gini', max_depth=None,\n",
       "                       max_features=None, max_leaf_nodes=None,\n",
       "                       min_impurity_decrease=0.0, min_impurity_split=None,\n",
       "                       min_samples_leaf=1, min_samples_split=2,\n",
       "                       min_weight_fraction_leaf=0.0, presort=False,\n",
       "                       random_state=None, splitter='best')"
      ]
     },
     "execution_count": 34,
     "metadata": {},
     "output_type": "execute_result"
    }
   ],
   "source": [
    "vectorizer = TfidfVectorizer(analyzer=\"word\")\n",
    "frequency_training_docs = vectorizer.fit_transform(training_docs)\n",
    "model = DecisionTreeClassifier()\n",
    "model.fit(frequency_training_docs, training_classes)"
   ]
  },
  {
   "cell_type": "code",
   "execution_count": 35,
   "metadata": {},
   "outputs": [],
   "source": [
    "frequency_testing_docs = vectorizer.transform(testing_docs)\n",
    "testing_classes = model.predict(frequency_testing_docs)"
   ]
  },
  {
   "cell_type": "code",
   "execution_count": 36,
   "metadata": {},
   "outputs": [
    {
     "data": {
      "text/plain": [
       "array(['maquiagem', 'brinquedo', 'game', ..., 'brinquedo', 'livro',\n",
       "       'game'], dtype=object)"
      ]
     },
     "execution_count": 36,
     "metadata": {},
     "output_type": "execute_result"
    }
   ],
   "source": [
    "testing_classes"
   ]
  },
  {
   "cell_type": "code",
   "execution_count": 37,
   "metadata": {},
   "outputs": [],
   "source": [
    "y_true = testing_df[\"categoria\"].values\n",
    "y_pred = testing_classes"
   ]
  },
  {
   "cell_type": "code",
   "execution_count": 38,
   "metadata": {},
   "outputs": [
    {
     "data": {
      "text/plain": [
       "array([0.88862837, 0.91703057, 0.94523327, 0.90309278])"
      ]
     },
     "execution_count": 38,
     "metadata": {},
     "output_type": "execute_result"
    }
   ],
   "source": [
    "experiment_02_sw = f1_score(y_true, y_pred, average=None)\n",
    "experiment_02_sw"
   ]
  },
  {
   "cell_type": "markdown",
   "metadata": {},
   "source": [
    "#### *DecisionTreeClassifier* + (*CountVectorizer* + *TfidfVectorizer*)"
   ]
  },
  {
   "cell_type": "code",
   "execution_count": 39,
   "metadata": {},
   "outputs": [],
   "source": [
    "training_docs = training_df[\"descricao\"].values\n",
    "training_classes = training_df[\"categoria\"].values\n",
    "testing_docs = testing_df[\"descricao\"].values"
   ]
  },
  {
   "cell_type": "code",
   "execution_count": 40,
   "metadata": {},
   "outputs": [
    {
     "data": {
      "text/plain": [
       "DecisionTreeClassifier(class_weight=None, criterion='gini', max_depth=None,\n",
       "                       max_features=None, max_leaf_nodes=None,\n",
       "                       min_impurity_decrease=0.0, min_impurity_split=None,\n",
       "                       min_samples_leaf=1, min_samples_split=2,\n",
       "                       min_weight_fraction_leaf=0.0, presort=False,\n",
       "                       random_state=None, splitter='best')"
      ]
     },
     "execution_count": 40,
     "metadata": {},
     "output_type": "execute_result"
    }
   ],
   "source": [
    "vectorizer = CountVectorizer(analyzer=\"word\", min_df=1)\n",
    "frequency_training_docs = vectorizer.fit_transform(training_docs)\n",
    "tf_transformer = TfidfTransformer(use_idf=False).fit(frequency_training_docs)\n",
    "frequency_training_docs = tf_transformer.transform(frequency_training_docs)\n",
    "model = DecisionTreeClassifier()\n",
    "model.fit(frequency_training_docs, training_classes)"
   ]
  },
  {
   "cell_type": "code",
   "execution_count": 41,
   "metadata": {},
   "outputs": [],
   "source": [
    "frequency_testing_docs = vectorizer.transform(testing_docs)\n",
    "tf_transformer = TfidfTransformer(use_idf=False).fit(frequency_testing_docs)\n",
    "frequency_testing_docs = tf_transformer.transform(frequency_testing_docs)\n",
    "testing_classes = model.predict(frequency_testing_docs)"
   ]
  },
  {
   "cell_type": "code",
   "execution_count": 42,
   "metadata": {},
   "outputs": [
    {
     "data": {
      "text/plain": [
       "array(['maquiagem', 'brinquedo', 'game', ..., 'brinquedo', 'livro',\n",
       "       'game'], dtype=object)"
      ]
     },
     "execution_count": 42,
     "metadata": {},
     "output_type": "execute_result"
    }
   ],
   "source": [
    "testing_classes"
   ]
  },
  {
   "cell_type": "code",
   "execution_count": 43,
   "metadata": {},
   "outputs": [],
   "source": [
    "y_true = testing_df[\"categoria\"].values\n",
    "y_pred = testing_classes"
   ]
  },
  {
   "cell_type": "code",
   "execution_count": 44,
   "metadata": {},
   "outputs": [
    {
     "data": {
      "text/plain": [
       "array([0.83511269, 0.91725105, 0.91995947, 0.88562434])"
      ]
     },
     "execution_count": 44,
     "metadata": {},
     "output_type": "execute_result"
    }
   ],
   "source": [
    "experiment_03 = f1_score(y_true, y_pred, average=None)\n",
    "experiment_03"
   ]
  },
  {
   "cell_type": "markdown",
   "metadata": {},
   "source": [
    "#### *DecisionTreeClassifier* + (*CountVectorizer* + *TfidfVectorizer*) &mdash; com remoção de *stopwords*"
   ]
  },
  {
   "cell_type": "code",
   "execution_count": 45,
   "metadata": {},
   "outputs": [],
   "source": [
    "training_docs = remove_stopwords_and_punctuation(training_df[\"descricao\"].values)\n",
    "training_classes = training_df[\"categoria\"].values\n",
    "testing_docs = remove_stopwords_and_punctuation(testing_df[\"descricao\"].values)"
   ]
  },
  {
   "cell_type": "code",
   "execution_count": 46,
   "metadata": {},
   "outputs": [
    {
     "data": {
      "text/plain": [
       "DecisionTreeClassifier(class_weight=None, criterion='gini', max_depth=None,\n",
       "                       max_features=None, max_leaf_nodes=None,\n",
       "                       min_impurity_decrease=0.0, min_impurity_split=None,\n",
       "                       min_samples_leaf=1, min_samples_split=2,\n",
       "                       min_weight_fraction_leaf=0.0, presort=False,\n",
       "                       random_state=None, splitter='best')"
      ]
     },
     "execution_count": 46,
     "metadata": {},
     "output_type": "execute_result"
    }
   ],
   "source": [
    "vectorizer = CountVectorizer(analyzer=\"word\", min_df=1)\n",
    "frequency_training_docs = vectorizer.fit_transform(training_docs)\n",
    "tf_transformer = TfidfTransformer(use_idf=False).fit(frequency_training_docs)\n",
    "frequency_training_docs = tf_transformer.transform(frequency_training_docs)\n",
    "model = DecisionTreeClassifier()\n",
    "model.fit(frequency_training_docs, training_classes)"
   ]
  },
  {
   "cell_type": "code",
   "execution_count": 47,
   "metadata": {},
   "outputs": [],
   "source": [
    "frequency_testing_docs = vectorizer.transform(testing_docs)\n",
    "tf_transformer = TfidfTransformer(use_idf=False).fit(frequency_testing_docs)\n",
    "frequency_testing_docs = tf_transformer.transform(frequency_testing_docs)\n",
    "testing_classes = model.predict(frequency_testing_docs)"
   ]
  },
  {
   "cell_type": "code",
   "execution_count": 48,
   "metadata": {},
   "outputs": [
    {
     "data": {
      "text/plain": [
       "array(['maquiagem', 'brinquedo', 'game', ..., 'brinquedo', 'livro',\n",
       "       'game'], dtype=object)"
      ]
     },
     "execution_count": 48,
     "metadata": {},
     "output_type": "execute_result"
    }
   ],
   "source": [
    "testing_classes"
   ]
  },
  {
   "cell_type": "code",
   "execution_count": 49,
   "metadata": {},
   "outputs": [],
   "source": [
    "y_true = testing_df[\"categoria\"].values\n",
    "y_pred = testing_classes"
   ]
  },
  {
   "cell_type": "code",
   "execution_count": 50,
   "metadata": {},
   "outputs": [
    {
     "data": {
      "text/plain": [
       "array([0.86666667, 0.91607397, 0.93948718, 0.88139059])"
      ]
     },
     "execution_count": 50,
     "metadata": {},
     "output_type": "execute_result"
    }
   ],
   "source": [
    "experiment_03_sw = f1_score(y_true, y_pred, average=None)\n",
    "experiment_03_sw"
   ]
  },
  {
   "cell_type": "markdown",
   "metadata": {},
   "source": [
    "#### *DecisionTreeClassifier* + Unigram"
   ]
  },
  {
   "cell_type": "code",
   "execution_count": 51,
   "metadata": {},
   "outputs": [],
   "source": [
    "training_docs = training_df[\"descricao\"].values\n",
    "training_classes = training_df[\"categoria\"].values\n",
    "testing_docs = testing_df[\"descricao\"].values"
   ]
  },
  {
   "cell_type": "code",
   "execution_count": 52,
   "metadata": {},
   "outputs": [
    {
     "data": {
      "text/plain": [
       "DecisionTreeClassifier(class_weight=None, criterion='gini', max_depth=None,\n",
       "                       max_features=None, max_leaf_nodes=None,\n",
       "                       min_impurity_decrease=0.0, min_impurity_split=None,\n",
       "                       min_samples_leaf=1, min_samples_split=2,\n",
       "                       min_weight_fraction_leaf=0.0, presort=False,\n",
       "                       random_state=None, splitter='best')"
      ]
     },
     "execution_count": 52,
     "metadata": {},
     "output_type": "execute_result"
    }
   ],
   "source": [
    "vectorizer = CountVectorizer(analyzer=\"word\", ngram_range=(1,1))\n",
    "frequency_training_docs = vectorizer.fit_transform(training_docs)\n",
    "model = DecisionTreeClassifier()\n",
    "model.fit(frequency_training_docs, training_classes)"
   ]
  },
  {
   "cell_type": "code",
   "execution_count": 53,
   "metadata": {},
   "outputs": [],
   "source": [
    "frequency_testing_docs = vectorizer.transform(testing_docs)\n",
    "testing_classes = model.predict(frequency_testing_docs)"
   ]
  },
  {
   "cell_type": "code",
   "execution_count": 54,
   "metadata": {},
   "outputs": [
    {
     "data": {
      "text/plain": [
       "array(['brinquedo', 'brinquedo', 'game', ..., 'brinquedo', 'livro',\n",
       "       'game'], dtype=object)"
      ]
     },
     "execution_count": 54,
     "metadata": {},
     "output_type": "execute_result"
    }
   ],
   "source": [
    "testing_classes"
   ]
  },
  {
   "cell_type": "code",
   "execution_count": 55,
   "metadata": {},
   "outputs": [],
   "source": [
    "y_true = testing_df[\"categoria\"].values\n",
    "y_pred = testing_classes"
   ]
  },
  {
   "cell_type": "code",
   "execution_count": 56,
   "metadata": {},
   "outputs": [
    {
     "data": {
      "text/plain": [
       "array([0.85714286, 0.91248207, 0.92721834, 0.91594828])"
      ]
     },
     "execution_count": 56,
     "metadata": {},
     "output_type": "execute_result"
    }
   ],
   "source": [
    "experiment_04 = f1_score(y_true, y_pred, average=None)\n",
    "experiment_04"
   ]
  },
  {
   "cell_type": "markdown",
   "metadata": {},
   "source": [
    "#### *DecisionTreeClassifier* + Unigram &mdash; com remoção de *stopwords*"
   ]
  },
  {
   "cell_type": "code",
   "execution_count": 57,
   "metadata": {},
   "outputs": [],
   "source": [
    "training_docs = remove_stopwords_and_punctuation(training_df[\"descricao\"].values)\n",
    "training_classes = training_df[\"categoria\"].values\n",
    "testing_docs = remove_stopwords_and_punctuation(testing_df[\"descricao\"].values)"
   ]
  },
  {
   "cell_type": "code",
   "execution_count": 58,
   "metadata": {},
   "outputs": [
    {
     "data": {
      "text/plain": [
       "DecisionTreeClassifier(class_weight=None, criterion='gini', max_depth=None,\n",
       "                       max_features=None, max_leaf_nodes=None,\n",
       "                       min_impurity_decrease=0.0, min_impurity_split=None,\n",
       "                       min_samples_leaf=1, min_samples_split=2,\n",
       "                       min_weight_fraction_leaf=0.0, presort=False,\n",
       "                       random_state=None, splitter='best')"
      ]
     },
     "execution_count": 58,
     "metadata": {},
     "output_type": "execute_result"
    }
   ],
   "source": [
    "vectorizer = CountVectorizer(analyzer=\"word\", ngram_range=(1,1))\n",
    "frequency_training_docs = vectorizer.fit_transform(training_docs)\n",
    "model = DecisionTreeClassifier()\n",
    "model.fit(frequency_training_docs, training_classes)"
   ]
  },
  {
   "cell_type": "code",
   "execution_count": 59,
   "metadata": {},
   "outputs": [],
   "source": [
    "frequency_testing_docs = vectorizer.transform(testing_docs)\n",
    "testing_classes = model.predict(frequency_testing_docs)"
   ]
  },
  {
   "cell_type": "code",
   "execution_count": 60,
   "metadata": {},
   "outputs": [
    {
     "data": {
      "text/plain": [
       "array(['maquiagem', 'brinquedo', 'game', ..., 'brinquedo', 'livro',\n",
       "       'game'], dtype=object)"
      ]
     },
     "execution_count": 60,
     "metadata": {},
     "output_type": "execute_result"
    }
   ],
   "source": [
    "testing_classes"
   ]
  },
  {
   "cell_type": "code",
   "execution_count": 61,
   "metadata": {},
   "outputs": [],
   "source": [
    "y_true = testing_df[\"categoria\"].values\n",
    "y_pred = testing_classes"
   ]
  },
  {
   "cell_type": "code",
   "execution_count": 62,
   "metadata": {},
   "outputs": [
    {
     "data": {
      "text/plain": [
       "array([0.87951807, 0.92131617, 0.93522267, 0.90500511])"
      ]
     },
     "execution_count": 62,
     "metadata": {},
     "output_type": "execute_result"
    }
   ],
   "source": [
    "experiment_04_sw = f1_score(y_true, y_pred, average=None)\n",
    "experiment_04_sw"
   ]
  },
  {
   "cell_type": "markdown",
   "metadata": {},
   "source": [
    "#### *DecisionTreeClassifier* + Bigram"
   ]
  },
  {
   "cell_type": "code",
   "execution_count": 63,
   "metadata": {},
   "outputs": [],
   "source": [
    "training_docs = training_df[\"descricao\"].values\n",
    "training_classes = training_df[\"categoria\"].values\n",
    "testing_docs = testing_df[\"descricao\"].values"
   ]
  },
  {
   "cell_type": "code",
   "execution_count": 64,
   "metadata": {},
   "outputs": [
    {
     "data": {
      "text/plain": [
       "DecisionTreeClassifier(class_weight=None, criterion='gini', max_depth=None,\n",
       "                       max_features=None, max_leaf_nodes=None,\n",
       "                       min_impurity_decrease=0.0, min_impurity_split=None,\n",
       "                       min_samples_leaf=1, min_samples_split=2,\n",
       "                       min_weight_fraction_leaf=0.0, presort=False,\n",
       "                       random_state=None, splitter='best')"
      ]
     },
     "execution_count": 64,
     "metadata": {},
     "output_type": "execute_result"
    }
   ],
   "source": [
    "vectorizer = CountVectorizer(analyzer=\"word\", ngram_range=(1,2))\n",
    "frequency_training_docs = vectorizer.fit_transform(training_docs)\n",
    "model = DecisionTreeClassifier()\n",
    "model.fit(frequency_training_docs, training_classes)"
   ]
  },
  {
   "cell_type": "code",
   "execution_count": 65,
   "metadata": {},
   "outputs": [],
   "source": [
    "frequency_testing_docs = vectorizer.transform(testing_docs)\n",
    "testing_classes = model.predict(frequency_testing_docs)"
   ]
  },
  {
   "cell_type": "code",
   "execution_count": 66,
   "metadata": {},
   "outputs": [
    {
     "data": {
      "text/plain": [
       "array(['maquiagem', 'brinquedo', 'game', ..., 'brinquedo', 'livro',\n",
       "       'game'], dtype=object)"
      ]
     },
     "execution_count": 66,
     "metadata": {},
     "output_type": "execute_result"
    }
   ],
   "source": [
    "testing_classes"
   ]
  },
  {
   "cell_type": "code",
   "execution_count": 67,
   "metadata": {},
   "outputs": [],
   "source": [
    "y_true = testing_df[\"categoria\"].values\n",
    "y_pred = testing_classes"
   ]
  },
  {
   "cell_type": "code",
   "execution_count": 68,
   "metadata": {},
   "outputs": [
    {
     "data": {
      "text/plain": [
       "array([0.84222738, 0.90857947, 0.9283552 , 0.90772532])"
      ]
     },
     "execution_count": 68,
     "metadata": {},
     "output_type": "execute_result"
    }
   ],
   "source": [
    "experiment_05 = f1_score(y_true, y_pred, average=None)\n",
    "experiment_05"
   ]
  },
  {
   "cell_type": "markdown",
   "metadata": {},
   "source": [
    "#### *DecisionTreeClassifier* + Bigram &mdash; com remoção de *stopwords*"
   ]
  },
  {
   "cell_type": "code",
   "execution_count": 69,
   "metadata": {},
   "outputs": [],
   "source": [
    "training_docs = remove_stopwords_and_punctuation(training_df[\"descricao\"].values)\n",
    "training_classes = training_df[\"categoria\"].values\n",
    "testing_docs = remove_stopwords_and_punctuation(testing_df[\"descricao\"].values)"
   ]
  },
  {
   "cell_type": "code",
   "execution_count": 70,
   "metadata": {},
   "outputs": [
    {
     "data": {
      "text/plain": [
       "DecisionTreeClassifier(class_weight=None, criterion='gini', max_depth=None,\n",
       "                       max_features=None, max_leaf_nodes=None,\n",
       "                       min_impurity_decrease=0.0, min_impurity_split=None,\n",
       "                       min_samples_leaf=1, min_samples_split=2,\n",
       "                       min_weight_fraction_leaf=0.0, presort=False,\n",
       "                       random_state=None, splitter='best')"
      ]
     },
     "execution_count": 70,
     "metadata": {},
     "output_type": "execute_result"
    }
   ],
   "source": [
    "vectorizer = CountVectorizer(analyzer=\"word\", ngram_range=(1,2))\n",
    "frequency_training_docs = vectorizer.fit_transform(training_docs)\n",
    "model = DecisionTreeClassifier()\n",
    "model.fit(frequency_training_docs, training_classes)"
   ]
  },
  {
   "cell_type": "code",
   "execution_count": 71,
   "metadata": {},
   "outputs": [],
   "source": [
    "frequency_testing_docs = vectorizer.transform(testing_docs)\n",
    "testing_classes = model.predict(frequency_testing_docs)"
   ]
  },
  {
   "cell_type": "code",
   "execution_count": 72,
   "metadata": {},
   "outputs": [
    {
     "data": {
      "text/plain": [
       "array(['maquiagem', 'brinquedo', 'game', ..., 'brinquedo', 'livro',\n",
       "       'game'], dtype=object)"
      ]
     },
     "execution_count": 72,
     "metadata": {},
     "output_type": "execute_result"
    }
   ],
   "source": [
    "testing_classes"
   ]
  },
  {
   "cell_type": "code",
   "execution_count": 73,
   "metadata": {},
   "outputs": [],
   "source": [
    "y_true = testing_df[\"categoria\"].values\n",
    "y_pred = testing_classes"
   ]
  },
  {
   "cell_type": "code",
   "execution_count": 74,
   "metadata": {},
   "outputs": [
    {
     "data": {
      "text/plain": [
       "array([0.88544153, 0.92550143, 0.94427558, 0.90236382])"
      ]
     },
     "execution_count": 74,
     "metadata": {},
     "output_type": "execute_result"
    }
   ],
   "source": [
    "experiment_05_sw = f1_score(y_true, y_pred, average=None)\n",
    "experiment_05_sw"
   ]
  },
  {
   "cell_type": "markdown",
   "metadata": {},
   "source": [
    "#### *DecisionTreeClassifier* + Trigram"
   ]
  },
  {
   "cell_type": "code",
   "execution_count": 75,
   "metadata": {},
   "outputs": [],
   "source": [
    "training_docs = training_df[\"descricao\"].values\n",
    "training_classes = training_df[\"categoria\"].values\n",
    "testing_docs = testing_df[\"descricao\"].values"
   ]
  },
  {
   "cell_type": "code",
   "execution_count": 76,
   "metadata": {},
   "outputs": [
    {
     "data": {
      "text/plain": [
       "DecisionTreeClassifier(class_weight=None, criterion='gini', max_depth=None,\n",
       "                       max_features=None, max_leaf_nodes=None,\n",
       "                       min_impurity_decrease=0.0, min_impurity_split=None,\n",
       "                       min_samples_leaf=1, min_samples_split=2,\n",
       "                       min_weight_fraction_leaf=0.0, presort=False,\n",
       "                       random_state=None, splitter='best')"
      ]
     },
     "execution_count": 76,
     "metadata": {},
     "output_type": "execute_result"
    }
   ],
   "source": [
    "vectorizer = CountVectorizer(analyzer=\"word\", ngram_range=(1,3))\n",
    "frequency_training_docs = vectorizer.fit_transform(training_docs)\n",
    "model = DecisionTreeClassifier()\n",
    "model.fit(frequency_training_docs, training_classes)"
   ]
  },
  {
   "cell_type": "code",
   "execution_count": 77,
   "metadata": {},
   "outputs": [],
   "source": [
    "frequency_testing_docs = vectorizer.transform(testing_docs)\n",
    "testing_classes = model.predict(frequency_testing_docs)"
   ]
  },
  {
   "cell_type": "code",
   "execution_count": 78,
   "metadata": {},
   "outputs": [
    {
     "data": {
      "text/plain": [
       "array(['maquiagem', 'brinquedo', 'game', ..., 'brinquedo', 'livro',\n",
       "       'game'], dtype=object)"
      ]
     },
     "execution_count": 78,
     "metadata": {},
     "output_type": "execute_result"
    }
   ],
   "source": [
    "testing_classes"
   ]
  },
  {
   "cell_type": "code",
   "execution_count": 79,
   "metadata": {},
   "outputs": [],
   "source": [
    "y_true = testing_df[\"categoria\"].values\n",
    "y_pred = testing_classes"
   ]
  },
  {
   "cell_type": "code",
   "execution_count": 80,
   "metadata": {
    "scrolled": true
   },
   "outputs": [
    {
     "data": {
      "text/plain": [
       "array([0.85681024, 0.90422535, 0.93037336, 0.92094017])"
      ]
     },
     "execution_count": 80,
     "metadata": {},
     "output_type": "execute_result"
    }
   ],
   "source": [
    "experiment_06 = f1_score(y_true, y_pred, average=None)\n",
    "experiment_06"
   ]
  },
  {
   "cell_type": "markdown",
   "metadata": {},
   "source": [
    "#### *DecisionTreeClassifier* + Trigram &mdash; com remoção de *stopwords*"
   ]
  },
  {
   "cell_type": "code",
   "execution_count": 81,
   "metadata": {},
   "outputs": [],
   "source": [
    "training_docs = remove_stopwords_and_punctuation(training_df[\"descricao\"].values)\n",
    "training_classes = training_df[\"categoria\"].values\n",
    "testing_docs = remove_stopwords_and_punctuation(testing_df[\"descricao\"].values)"
   ]
  },
  {
   "cell_type": "code",
   "execution_count": 82,
   "metadata": {},
   "outputs": [
    {
     "data": {
      "text/plain": [
       "DecisionTreeClassifier(class_weight=None, criterion='gini', max_depth=None,\n",
       "                       max_features=None, max_leaf_nodes=None,\n",
       "                       min_impurity_decrease=0.0, min_impurity_split=None,\n",
       "                       min_samples_leaf=1, min_samples_split=2,\n",
       "                       min_weight_fraction_leaf=0.0, presort=False,\n",
       "                       random_state=None, splitter='best')"
      ]
     },
     "execution_count": 82,
     "metadata": {},
     "output_type": "execute_result"
    }
   ],
   "source": [
    "vectorizer = CountVectorizer(analyzer=\"word\", ngram_range=(1,3))\n",
    "frequency_training_docs = vectorizer.fit_transform(training_docs)\n",
    "model = DecisionTreeClassifier()\n",
    "model.fit(frequency_training_docs, training_classes)"
   ]
  },
  {
   "cell_type": "code",
   "execution_count": 83,
   "metadata": {},
   "outputs": [],
   "source": [
    "frequency_testing_docs = vectorizer.transform(testing_docs)\n",
    "testing_classes = model.predict(frequency_testing_docs)"
   ]
  },
  {
   "cell_type": "code",
   "execution_count": 84,
   "metadata": {},
   "outputs": [
    {
     "data": {
      "text/plain": [
       "array(['maquiagem', 'brinquedo', 'game', ..., 'brinquedo', 'livro',\n",
       "       'game'], dtype=object)"
      ]
     },
     "execution_count": 84,
     "metadata": {},
     "output_type": "execute_result"
    }
   ],
   "source": [
    "testing_classes"
   ]
  },
  {
   "cell_type": "code",
   "execution_count": 85,
   "metadata": {},
   "outputs": [],
   "source": [
    "y_true = testing_df[\"categoria\"].values\n",
    "y_pred = testing_classes"
   ]
  },
  {
   "cell_type": "code",
   "execution_count": 86,
   "metadata": {
    "scrolled": true
   },
   "outputs": [
    {
     "data": {
      "text/plain": [
       "array([0.88009592, 0.92528736, 0.93927126, 0.90184049])"
      ]
     },
     "execution_count": 86,
     "metadata": {},
     "output_type": "execute_result"
    }
   ],
   "source": [
    "experiment_06_sw = f1_score(y_true, y_pred, average=None)\n",
    "experiment_06_sw"
   ]
  },
  {
   "cell_type": "markdown",
   "metadata": {},
   "source": [
    "### *MultinomialNB*"
   ]
  },
  {
   "cell_type": "markdown",
   "metadata": {},
   "source": [
    "#### *MultinomialNB* + *CountVectorizer*"
   ]
  },
  {
   "cell_type": "code",
   "execution_count": 87,
   "metadata": {},
   "outputs": [],
   "source": [
    "training_docs = training_df[\"descricao\"].values\n",
    "training_classes = training_df[\"categoria\"].values\n",
    "testing_docs = testing_df[\"descricao\"].values"
   ]
  },
  {
   "cell_type": "code",
   "execution_count": 88,
   "metadata": {},
   "outputs": [
    {
     "data": {
      "text/plain": [
       "MultinomialNB(alpha=1.0, class_prior=None, fit_prior=True)"
      ]
     },
     "execution_count": 88,
     "metadata": {},
     "output_type": "execute_result"
    }
   ],
   "source": [
    "vectorizer = CountVectorizer(analyzer=\"word\")\n",
    "frequency_training_docs = vectorizer.fit_transform(training_docs)\n",
    "model = MultinomialNB()\n",
    "model.fit(frequency_training_docs, training_classes)"
   ]
  },
  {
   "cell_type": "code",
   "execution_count": 89,
   "metadata": {},
   "outputs": [],
   "source": [
    "frequency_testing_docs = vectorizer.transform(testing_docs)\n",
    "testing_classes = model.predict(frequency_testing_docs)"
   ]
  },
  {
   "cell_type": "code",
   "execution_count": 90,
   "metadata": {},
   "outputs": [
    {
     "data": {
      "text/plain": [
       "array(['maquiagem', 'brinquedo', 'game', ..., 'brinquedo', 'livro',\n",
       "       'game'], dtype='<U9')"
      ]
     },
     "execution_count": 90,
     "metadata": {},
     "output_type": "execute_result"
    }
   ],
   "source": [
    "testing_classes"
   ]
  },
  {
   "cell_type": "code",
   "execution_count": 91,
   "metadata": {},
   "outputs": [],
   "source": [
    "y_true = testing_df[\"categoria\"].values\n",
    "y_pred = testing_classes"
   ]
  },
  {
   "cell_type": "code",
   "execution_count": 92,
   "metadata": {},
   "outputs": [
    {
     "data": {
      "text/plain": [
       "array([0.92231813, 0.91780822, 0.94455446, 0.97777778])"
      ]
     },
     "execution_count": 92,
     "metadata": {},
     "output_type": "execute_result"
    }
   ],
   "source": [
    "experiment_11 = f1_score(y_true, y_pred, average=None)\n",
    "experiment_11"
   ]
  },
  {
   "cell_type": "markdown",
   "metadata": {},
   "source": [
    "#### *MultinomialNB* + *CountVectorizer* &mdash; com remoção de *stopwords*"
   ]
  },
  {
   "cell_type": "code",
   "execution_count": 93,
   "metadata": {},
   "outputs": [],
   "source": [
    "training_docs = remove_stopwords_and_punctuation(training_df[\"descricao\"].values)\n",
    "training_classes = training_df[\"categoria\"].values\n",
    "testing_docs = remove_stopwords_and_punctuation(testing_df[\"descricao\"].values)"
   ]
  },
  {
   "cell_type": "code",
   "execution_count": 94,
   "metadata": {},
   "outputs": [
    {
     "data": {
      "text/plain": [
       "MultinomialNB(alpha=1.0, class_prior=None, fit_prior=True)"
      ]
     },
     "execution_count": 94,
     "metadata": {},
     "output_type": "execute_result"
    }
   ],
   "source": [
    "vectorizer = CountVectorizer(analyzer=\"word\")\n",
    "frequency_training_docs = vectorizer.fit_transform(training_docs)\n",
    "model = MultinomialNB()\n",
    "model.fit(frequency_training_docs, training_classes)"
   ]
  },
  {
   "cell_type": "code",
   "execution_count": 95,
   "metadata": {},
   "outputs": [],
   "source": [
    "frequency_testing_docs = vectorizer.transform(testing_docs)\n",
    "testing_classes = model.predict(frequency_testing_docs)"
   ]
  },
  {
   "cell_type": "code",
   "execution_count": 96,
   "metadata": {},
   "outputs": [
    {
     "data": {
      "text/plain": [
       "array(['maquiagem', 'brinquedo', 'game', ..., 'brinquedo', 'livro',\n",
       "       'game'], dtype='<U9')"
      ]
     },
     "execution_count": 96,
     "metadata": {},
     "output_type": "execute_result"
    }
   ],
   "source": [
    "testing_classes"
   ]
  },
  {
   "cell_type": "code",
   "execution_count": 97,
   "metadata": {},
   "outputs": [],
   "source": [
    "y_true = testing_df[\"categoria\"].values\n",
    "y_pred = testing_classes"
   ]
  },
  {
   "cell_type": "code",
   "execution_count": 98,
   "metadata": {},
   "outputs": [
    {
     "data": {
      "text/plain": [
       "array([0.93074119, 0.92243767, 0.94642857, 0.98409332])"
      ]
     },
     "execution_count": 98,
     "metadata": {},
     "output_type": "execute_result"
    }
   ],
   "source": [
    "experiment_11_sw = f1_score(y_true, y_pred, average=None)\n",
    "experiment_11_sw"
   ]
  },
  {
   "cell_type": "markdown",
   "metadata": {},
   "source": [
    "#### MultinomialNB + TfidfVectorizer"
   ]
  },
  {
   "cell_type": "code",
   "execution_count": 99,
   "metadata": {},
   "outputs": [],
   "source": [
    "training_docs = training_df[\"descricao\"].values\n",
    "training_classes = training_df[\"categoria\"].values\n",
    "testing_docs = testing_df[\"descricao\"].values"
   ]
  },
  {
   "cell_type": "code",
   "execution_count": 100,
   "metadata": {},
   "outputs": [
    {
     "data": {
      "text/plain": [
       "MultinomialNB(alpha=1.0, class_prior=None, fit_prior=True)"
      ]
     },
     "execution_count": 100,
     "metadata": {},
     "output_type": "execute_result"
    }
   ],
   "source": [
    "vectorizer = TfidfVectorizer(analyzer=\"word\")\n",
    "frequency_training_docs = vectorizer.fit_transform(training_docs)\n",
    "model = MultinomialNB()\n",
    "model.fit(frequency_training_docs, training_classes)"
   ]
  },
  {
   "cell_type": "code",
   "execution_count": 101,
   "metadata": {},
   "outputs": [],
   "source": [
    "frequency_testing_docs = vectorizer.transform(testing_docs)\n",
    "testing_classes = model.predict(frequency_testing_docs)"
   ]
  },
  {
   "cell_type": "code",
   "execution_count": 102,
   "metadata": {},
   "outputs": [
    {
     "data": {
      "text/plain": [
       "array(['maquiagem', 'brinquedo', 'game', ..., 'brinquedo', 'livro',\n",
       "       'game'], dtype='<U9')"
      ]
     },
     "execution_count": 102,
     "metadata": {},
     "output_type": "execute_result"
    }
   ],
   "source": [
    "testing_classes"
   ]
  },
  {
   "cell_type": "code",
   "execution_count": 103,
   "metadata": {},
   "outputs": [],
   "source": [
    "y_true = testing_df[\"categoria\"].values\n",
    "y_pred = testing_classes"
   ]
  },
  {
   "cell_type": "code",
   "execution_count": 104,
   "metadata": {},
   "outputs": [
    {
     "data": {
      "text/plain": [
       "array([0.86922061, 0.89757412, 0.93756004, 0.958159  ])"
      ]
     },
     "execution_count": 104,
     "metadata": {},
     "output_type": "execute_result"
    }
   ],
   "source": [
    "experiment_12 = f1_score(y_true, y_pred, average=None)\n",
    "experiment_12"
   ]
  },
  {
   "cell_type": "markdown",
   "metadata": {},
   "source": [
    "#### MultinomialNB + TfidfVectorizer &mdash; com remoção de *stopwords*"
   ]
  },
  {
   "cell_type": "code",
   "execution_count": 105,
   "metadata": {},
   "outputs": [],
   "source": [
    "training_docs = remove_stopwords_and_punctuation(training_df[\"descricao\"].values)\n",
    "training_classes = training_df[\"categoria\"].values\n",
    "testing_docs = remove_stopwords_and_punctuation(testing_df[\"descricao\"].values)"
   ]
  },
  {
   "cell_type": "code",
   "execution_count": 106,
   "metadata": {},
   "outputs": [
    {
     "data": {
      "text/plain": [
       "MultinomialNB(alpha=1.0, class_prior=None, fit_prior=True)"
      ]
     },
     "execution_count": 106,
     "metadata": {},
     "output_type": "execute_result"
    }
   ],
   "source": [
    "vectorizer = TfidfVectorizer(analyzer=\"word\")\n",
    "frequency_training_docs = vectorizer.fit_transform(training_docs)\n",
    "model = MultinomialNB()\n",
    "model.fit(frequency_training_docs, training_classes)"
   ]
  },
  {
   "cell_type": "code",
   "execution_count": 107,
   "metadata": {},
   "outputs": [],
   "source": [
    "frequency_testing_docs = vectorizer.transform(testing_docs)\n",
    "testing_classes = model.predict(frequency_testing_docs)"
   ]
  },
  {
   "cell_type": "code",
   "execution_count": 108,
   "metadata": {},
   "outputs": [
    {
     "data": {
      "text/plain": [
       "array(['maquiagem', 'brinquedo', 'game', ..., 'brinquedo', 'livro',\n",
       "       'game'], dtype='<U9')"
      ]
     },
     "execution_count": 108,
     "metadata": {},
     "output_type": "execute_result"
    }
   ],
   "source": [
    "testing_classes"
   ]
  },
  {
   "cell_type": "code",
   "execution_count": 109,
   "metadata": {},
   "outputs": [],
   "source": [
    "y_true = testing_df[\"categoria\"].values\n",
    "y_pred = testing_classes"
   ]
  },
  {
   "cell_type": "code",
   "execution_count": 110,
   "metadata": {},
   "outputs": [
    {
     "data": {
      "text/plain": [
       "array([0.91254753, 0.91780822, 0.95780177, 0.96450939])"
      ]
     },
     "execution_count": 110,
     "metadata": {},
     "output_type": "execute_result"
    }
   ],
   "source": [
    "experiment_12_sw = f1_score(y_true, y_pred, average=None)\n",
    "experiment_12_sw"
   ]
  },
  {
   "cell_type": "markdown",
   "metadata": {},
   "source": [
    "#### *MultinomialNB* + (*CountVectorizer* + *TfidfVectorizer*)"
   ]
  },
  {
   "cell_type": "code",
   "execution_count": 111,
   "metadata": {},
   "outputs": [],
   "source": [
    "training_docs = training_df[\"descricao\"].values\n",
    "training_classes = training_df[\"categoria\"].values\n",
    "testing_docs = testing_df[\"descricao\"].values"
   ]
  },
  {
   "cell_type": "code",
   "execution_count": 112,
   "metadata": {},
   "outputs": [
    {
     "data": {
      "text/plain": [
       "MultinomialNB(alpha=1.0, class_prior=None, fit_prior=True)"
      ]
     },
     "execution_count": 112,
     "metadata": {},
     "output_type": "execute_result"
    }
   ],
   "source": [
    "vectorizer = CountVectorizer(analyzer=\"word\", min_df=1)\n",
    "frequency_training_docs = vectorizer.fit_transform(training_docs)\n",
    "tf_transformer = TfidfTransformer(use_idf=False).fit(frequency_training_docs)\n",
    "frequency_training_docs = tf_transformer.transform(frequency_training_docs)\n",
    "model = MultinomialNB()\n",
    "model.fit(frequency_training_docs, training_classes)"
   ]
  },
  {
   "cell_type": "code",
   "execution_count": 113,
   "metadata": {},
   "outputs": [],
   "source": [
    "frequency_testing_docs = vectorizer.transform(testing_docs)\n",
    "tf_transformer = TfidfTransformer(use_idf=False).fit(frequency_testing_docs)\n",
    "frequency_testing_docs = tf_transformer.transform(frequency_testing_docs)\n",
    "testing_classes = model.predict(frequency_testing_docs)"
   ]
  },
  {
   "cell_type": "code",
   "execution_count": 114,
   "metadata": {},
   "outputs": [
    {
     "data": {
      "text/plain": [
       "array(['maquiagem', 'brinquedo', 'game', ..., 'livro', 'livro', 'game'],\n",
       "      dtype='<U9')"
      ]
     },
     "execution_count": 114,
     "metadata": {},
     "output_type": "execute_result"
    }
   ],
   "source": [
    "testing_classes"
   ]
  },
  {
   "cell_type": "code",
   "execution_count": 115,
   "metadata": {},
   "outputs": [],
   "source": [
    "y_true = testing_df[\"categoria\"].values\n",
    "y_pred = testing_classes"
   ]
  },
  {
   "cell_type": "code",
   "execution_count": 116,
   "metadata": {},
   "outputs": [
    {
     "data": {
      "text/plain": [
       "array([0.72700297, 0.83870968, 0.88548242, 0.92879257])"
      ]
     },
     "execution_count": 116,
     "metadata": {},
     "output_type": "execute_result"
    }
   ],
   "source": [
    "experiment_13 = f1_score(y_true, y_pred, average=None)\n",
    "experiment_13"
   ]
  },
  {
   "cell_type": "markdown",
   "metadata": {},
   "source": [
    "#### *MultinomialNB* + (*CountVectorizer* + *TfidfVectorizer*) &mdash; com remoção de *stopwords*"
   ]
  },
  {
   "cell_type": "code",
   "execution_count": 117,
   "metadata": {},
   "outputs": [],
   "source": [
    "training_docs = remove_stopwords_and_punctuation(training_df[\"descricao\"].values)\n",
    "training_classes = training_df[\"categoria\"].values\n",
    "testing_docs = remove_stopwords_and_punctuation(testing_df[\"descricao\"].values)"
   ]
  },
  {
   "cell_type": "code",
   "execution_count": 118,
   "metadata": {},
   "outputs": [
    {
     "data": {
      "text/plain": [
       "MultinomialNB(alpha=1.0, class_prior=None, fit_prior=True)"
      ]
     },
     "execution_count": 118,
     "metadata": {},
     "output_type": "execute_result"
    }
   ],
   "source": [
    "vectorizer = CountVectorizer(analyzer=\"word\", min_df=1)\n",
    "frequency_training_docs = vectorizer.fit_transform(training_docs)\n",
    "tf_transformer = TfidfTransformer(use_idf=False).fit(frequency_training_docs)\n",
    "frequency_training_docs = tf_transformer.transform(frequency_training_docs)\n",
    "model = MultinomialNB()\n",
    "model.fit(frequency_training_docs, training_classes)"
   ]
  },
  {
   "cell_type": "code",
   "execution_count": 119,
   "metadata": {},
   "outputs": [],
   "source": [
    "frequency_testing_docs = vectorizer.transform(testing_docs)\n",
    "tf_transformer = TfidfTransformer(use_idf=False).fit(frequency_testing_docs)\n",
    "frequency_testing_docs = tf_transformer.transform(frequency_testing_docs)\n",
    "testing_classes = model.predict(frequency_testing_docs)"
   ]
  },
  {
   "cell_type": "code",
   "execution_count": 120,
   "metadata": {},
   "outputs": [
    {
     "data": {
      "text/plain": [
       "array(['maquiagem', 'brinquedo', 'game', ..., 'brinquedo', 'livro',\n",
       "       'game'], dtype='<U9')"
      ]
     },
     "execution_count": 120,
     "metadata": {},
     "output_type": "execute_result"
    }
   ],
   "source": [
    "testing_classes"
   ]
  },
  {
   "cell_type": "code",
   "execution_count": 121,
   "metadata": {},
   "outputs": [],
   "source": [
    "y_true = testing_df[\"categoria\"].values\n",
    "y_pred = testing_classes"
   ]
  },
  {
   "cell_type": "code",
   "execution_count": 122,
   "metadata": {},
   "outputs": [
    {
     "data": {
      "text/plain": [
       "array([0.8828125 , 0.91304348, 0.94083414, 0.95941727])"
      ]
     },
     "execution_count": 122,
     "metadata": {},
     "output_type": "execute_result"
    }
   ],
   "source": [
    "experiment_13_sw = f1_score(y_true, y_pred, average=None)\n",
    "experiment_13_sw"
   ]
  },
  {
   "cell_type": "markdown",
   "metadata": {},
   "source": [
    "#### *MultinomialNB* + Unigram"
   ]
  },
  {
   "cell_type": "code",
   "execution_count": 123,
   "metadata": {},
   "outputs": [],
   "source": [
    "training_docs = training_df[\"descricao\"].values\n",
    "training_classes = training_df[\"categoria\"].values\n",
    "testing_docs = testing_df[\"descricao\"].values"
   ]
  },
  {
   "cell_type": "code",
   "execution_count": 124,
   "metadata": {},
   "outputs": [
    {
     "data": {
      "text/plain": [
       "MultinomialNB(alpha=1.0, class_prior=None, fit_prior=True)"
      ]
     },
     "execution_count": 124,
     "metadata": {},
     "output_type": "execute_result"
    }
   ],
   "source": [
    "vectorizer = CountVectorizer(analyzer=\"word\", ngram_range=(1,1))\n",
    "frequency_training_docs = vectorizer.fit_transform(training_docs)\n",
    "model = MultinomialNB()\n",
    "model.fit(frequency_training_docs, training_classes)"
   ]
  },
  {
   "cell_type": "code",
   "execution_count": 125,
   "metadata": {},
   "outputs": [],
   "source": [
    "frequency_testing_docs = vectorizer.transform(testing_docs)\n",
    "testing_classes = model.predict(frequency_testing_docs)"
   ]
  },
  {
   "cell_type": "code",
   "execution_count": 126,
   "metadata": {},
   "outputs": [
    {
     "data": {
      "text/plain": [
       "array(['maquiagem', 'brinquedo', 'game', ..., 'brinquedo', 'livro',\n",
       "       'game'], dtype='<U9')"
      ]
     },
     "execution_count": 126,
     "metadata": {},
     "output_type": "execute_result"
    }
   ],
   "source": [
    "testing_classes"
   ]
  },
  {
   "cell_type": "code",
   "execution_count": 127,
   "metadata": {},
   "outputs": [],
   "source": [
    "y_true = testing_df[\"categoria\"].values\n",
    "y_pred = testing_classes"
   ]
  },
  {
   "cell_type": "code",
   "execution_count": 128,
   "metadata": {},
   "outputs": [
    {
     "data": {
      "text/plain": [
       "array([0.92231813, 0.91780822, 0.94455446, 0.97777778])"
      ]
     },
     "execution_count": 128,
     "metadata": {},
     "output_type": "execute_result"
    }
   ],
   "source": [
    "experiment_14 = f1_score(y_true, y_pred, average=None)\n",
    "experiment_14"
   ]
  },
  {
   "cell_type": "markdown",
   "metadata": {},
   "source": [
    "#### *MultinomialNB* + Unigram &mdash; com remoção de *stopwords*"
   ]
  },
  {
   "cell_type": "code",
   "execution_count": 129,
   "metadata": {},
   "outputs": [],
   "source": [
    "training_docs = remove_stopwords_and_punctuation(training_df[\"descricao\"].values)\n",
    "training_classes = training_df[\"categoria\"].values\n",
    "testing_docs = remove_stopwords_and_punctuation(testing_df[\"descricao\"].values)"
   ]
  },
  {
   "cell_type": "code",
   "execution_count": 130,
   "metadata": {},
   "outputs": [
    {
     "data": {
      "text/plain": [
       "MultinomialNB(alpha=1.0, class_prior=None, fit_prior=True)"
      ]
     },
     "execution_count": 130,
     "metadata": {},
     "output_type": "execute_result"
    }
   ],
   "source": [
    "vectorizer = CountVectorizer(analyzer=\"word\", ngram_range=(1,1))\n",
    "frequency_training_docs = vectorizer.fit_transform(training_docs)\n",
    "model = MultinomialNB()\n",
    "model.fit(frequency_training_docs, training_classes)"
   ]
  },
  {
   "cell_type": "code",
   "execution_count": 131,
   "metadata": {},
   "outputs": [],
   "source": [
    "frequency_testing_docs = vectorizer.transform(testing_docs)\n",
    "testing_classes = model.predict(frequency_testing_docs)"
   ]
  },
  {
   "cell_type": "code",
   "execution_count": 132,
   "metadata": {},
   "outputs": [
    {
     "data": {
      "text/plain": [
       "array(['maquiagem', 'brinquedo', 'game', ..., 'brinquedo', 'livro',\n",
       "       'game'], dtype='<U9')"
      ]
     },
     "execution_count": 132,
     "metadata": {},
     "output_type": "execute_result"
    }
   ],
   "source": [
    "testing_classes"
   ]
  },
  {
   "cell_type": "code",
   "execution_count": 133,
   "metadata": {},
   "outputs": [],
   "source": [
    "y_true = testing_df[\"categoria\"].values\n",
    "y_pred = testing_classes"
   ]
  },
  {
   "cell_type": "code",
   "execution_count": 134,
   "metadata": {},
   "outputs": [
    {
     "data": {
      "text/plain": [
       "array([0.93074119, 0.92243767, 0.94642857, 0.98409332])"
      ]
     },
     "execution_count": 134,
     "metadata": {},
     "output_type": "execute_result"
    }
   ],
   "source": [
    "experiment_14_sw = f1_score(y_true, y_pred, average=None)\n",
    "experiment_14_sw"
   ]
  },
  {
   "cell_type": "markdown",
   "metadata": {},
   "source": [
    "#### *MultinomialNB* + Bigram"
   ]
  },
  {
   "cell_type": "code",
   "execution_count": 135,
   "metadata": {},
   "outputs": [],
   "source": [
    "training_docs = training_df[\"descricao\"].values\n",
    "training_classes = training_df[\"categoria\"].values\n",
    "testing_docs = testing_df[\"descricao\"].values"
   ]
  },
  {
   "cell_type": "code",
   "execution_count": 136,
   "metadata": {},
   "outputs": [
    {
     "data": {
      "text/plain": [
       "MultinomialNB(alpha=1.0, class_prior=None, fit_prior=True)"
      ]
     },
     "execution_count": 136,
     "metadata": {},
     "output_type": "execute_result"
    }
   ],
   "source": [
    "vectorizer = CountVectorizer(analyzer=\"word\", ngram_range=(1,2))\n",
    "frequency_training_docs = vectorizer.fit_transform(training_docs)\n",
    "model = MultinomialNB()\n",
    "model.fit(frequency_training_docs, training_classes)"
   ]
  },
  {
   "cell_type": "code",
   "execution_count": 137,
   "metadata": {},
   "outputs": [],
   "source": [
    "frequency_testing_docs = vectorizer.transform(testing_docs)\n",
    "testing_classes = model.predict(frequency_testing_docs)"
   ]
  },
  {
   "cell_type": "code",
   "execution_count": 138,
   "metadata": {},
   "outputs": [
    {
     "data": {
      "text/plain": [
       "array(['maquiagem', 'brinquedo', 'game', ..., 'brinquedo', 'livro',\n",
       "       'game'], dtype='<U9')"
      ]
     },
     "execution_count": 138,
     "metadata": {},
     "output_type": "execute_result"
    }
   ],
   "source": [
    "testing_classes"
   ]
  },
  {
   "cell_type": "code",
   "execution_count": 139,
   "metadata": {},
   "outputs": [],
   "source": [
    "y_true = testing_df[\"categoria\"].values\n",
    "y_pred = testing_classes"
   ]
  },
  {
   "cell_type": "code",
   "execution_count": 140,
   "metadata": {},
   "outputs": [
    {
     "data": {
      "text/plain": [
       "array([0.90379747, 0.92984869, 0.94563107, 0.97576396])"
      ]
     },
     "execution_count": 140,
     "metadata": {},
     "output_type": "execute_result"
    }
   ],
   "source": [
    "experiment_15 = f1_score(y_true, y_pred, average=None)\n",
    "experiment_15"
   ]
  },
  {
   "cell_type": "markdown",
   "metadata": {},
   "source": [
    "#### *MultinomialNB* + Bigram &mdash; com remoção de *stopwords*"
   ]
  },
  {
   "cell_type": "code",
   "execution_count": 141,
   "metadata": {},
   "outputs": [],
   "source": [
    "training_docs = remove_stopwords_and_punctuation(training_df[\"descricao\"].values)\n",
    "training_classes = training_df[\"categoria\"].values\n",
    "testing_docs = remove_stopwords_and_punctuation(testing_df[\"descricao\"].values)"
   ]
  },
  {
   "cell_type": "code",
   "execution_count": 142,
   "metadata": {},
   "outputs": [
    {
     "data": {
      "text/plain": [
       "MultinomialNB(alpha=1.0, class_prior=None, fit_prior=True)"
      ]
     },
     "execution_count": 142,
     "metadata": {},
     "output_type": "execute_result"
    }
   ],
   "source": [
    "vectorizer = CountVectorizer(analyzer=\"word\", ngram_range=(1,2))\n",
    "frequency_training_docs = vectorizer.fit_transform(training_docs)\n",
    "model = MultinomialNB()\n",
    "model.fit(frequency_training_docs, training_classes)"
   ]
  },
  {
   "cell_type": "code",
   "execution_count": 143,
   "metadata": {},
   "outputs": [],
   "source": [
    "frequency_testing_docs = vectorizer.transform(testing_docs)\n",
    "testing_classes = model.predict(frequency_testing_docs)"
   ]
  },
  {
   "cell_type": "code",
   "execution_count": 144,
   "metadata": {},
   "outputs": [
    {
     "data": {
      "text/plain": [
       "array(['maquiagem', 'brinquedo', 'game', ..., 'brinquedo', 'livro',\n",
       "       'game'], dtype='<U9')"
      ]
     },
     "execution_count": 144,
     "metadata": {},
     "output_type": "execute_result"
    }
   ],
   "source": [
    "testing_classes"
   ]
  },
  {
   "cell_type": "code",
   "execution_count": 145,
   "metadata": {},
   "outputs": [],
   "source": [
    "y_true = testing_df[\"categoria\"].values\n",
    "y_pred = testing_classes"
   ]
  },
  {
   "cell_type": "code",
   "execution_count": 146,
   "metadata": {},
   "outputs": [
    {
     "data": {
      "text/plain": [
       "array([0.92670807, 0.94068966, 0.95592556, 0.97989418])"
      ]
     },
     "execution_count": 146,
     "metadata": {},
     "output_type": "execute_result"
    }
   ],
   "source": [
    "experiment_15_sw = f1_score(y_true, y_pred, average=None)\n",
    "experiment_15_sw"
   ]
  },
  {
   "cell_type": "markdown",
   "metadata": {},
   "source": [
    "#### *MultinomialNB* + Trigram"
   ]
  },
  {
   "cell_type": "code",
   "execution_count": 147,
   "metadata": {},
   "outputs": [],
   "source": [
    "training_docs = training_df[\"descricao\"].values\n",
    "training_classes = training_df[\"categoria\"].values\n",
    "testing_docs = testing_df[\"descricao\"].values"
   ]
  },
  {
   "cell_type": "code",
   "execution_count": 148,
   "metadata": {},
   "outputs": [
    {
     "data": {
      "text/plain": [
       "MultinomialNB(alpha=1.0, class_prior=None, fit_prior=True)"
      ]
     },
     "execution_count": 148,
     "metadata": {},
     "output_type": "execute_result"
    }
   ],
   "source": [
    "vectorizer = CountVectorizer(analyzer=\"word\", ngram_range=(1,3))\n",
    "frequency_training_docs = vectorizer.fit_transform(training_docs)\n",
    "model = MultinomialNB()\n",
    "model.fit(frequency_training_docs, training_classes)"
   ]
  },
  {
   "cell_type": "code",
   "execution_count": 149,
   "metadata": {},
   "outputs": [],
   "source": [
    "frequency_testing_docs = vectorizer.transform(testing_docs)\n",
    "testing_classes = model.predict(frequency_testing_docs)"
   ]
  },
  {
   "cell_type": "code",
   "execution_count": 150,
   "metadata": {},
   "outputs": [
    {
     "data": {
      "text/plain": [
       "array(['maquiagem', 'brinquedo', 'game', ..., 'brinquedo', 'livro',\n",
       "       'game'], dtype='<U9')"
      ]
     },
     "execution_count": 150,
     "metadata": {},
     "output_type": "execute_result"
    }
   ],
   "source": [
    "testing_classes"
   ]
  },
  {
   "cell_type": "code",
   "execution_count": 151,
   "metadata": {},
   "outputs": [],
   "source": [
    "y_true = testing_df[\"categoria\"].values\n",
    "y_pred = testing_classes"
   ]
  },
  {
   "cell_type": "code",
   "execution_count": 152,
   "metadata": {
    "scrolled": true
   },
   "outputs": [
    {
     "data": {
      "text/plain": [
       "array([0.90025575, 0.92729767, 0.9428848 , 0.97689076])"
      ]
     },
     "execution_count": 152,
     "metadata": {},
     "output_type": "execute_result"
    }
   ],
   "source": [
    "experiment_16 = f1_score(y_true, y_pred, average=None)\n",
    "experiment_16"
   ]
  },
  {
   "cell_type": "markdown",
   "metadata": {},
   "source": [
    "#### *MultinomialNB* + Trigram &mdash; com remoção de *stopwords*"
   ]
  },
  {
   "cell_type": "code",
   "execution_count": 153,
   "metadata": {},
   "outputs": [],
   "source": [
    "training_docs = remove_stopwords_and_punctuation(training_df[\"descricao\"].values)\n",
    "training_classes = training_df[\"categoria\"].values\n",
    "testing_docs = remove_stopwords_and_punctuation(testing_df[\"descricao\"].values)"
   ]
  },
  {
   "cell_type": "code",
   "execution_count": 154,
   "metadata": {},
   "outputs": [
    {
     "data": {
      "text/plain": [
       "MultinomialNB(alpha=1.0, class_prior=None, fit_prior=True)"
      ]
     },
     "execution_count": 154,
     "metadata": {},
     "output_type": "execute_result"
    }
   ],
   "source": [
    "vectorizer = CountVectorizer(analyzer=\"word\", ngram_range=(1,3))\n",
    "frequency_training_docs = vectorizer.fit_transform(training_docs)\n",
    "model = MultinomialNB()\n",
    "model.fit(frequency_training_docs, training_classes)"
   ]
  },
  {
   "cell_type": "code",
   "execution_count": 155,
   "metadata": {},
   "outputs": [],
   "source": [
    "frequency_testing_docs = vectorizer.transform(testing_docs)\n",
    "testing_classes = model.predict(frequency_testing_docs)"
   ]
  },
  {
   "cell_type": "code",
   "execution_count": 156,
   "metadata": {},
   "outputs": [
    {
     "data": {
      "text/plain": [
       "array(['maquiagem', 'brinquedo', 'game', ..., 'brinquedo', 'livro',\n",
       "       'game'], dtype='<U9')"
      ]
     },
     "execution_count": 156,
     "metadata": {},
     "output_type": "execute_result"
    }
   ],
   "source": [
    "testing_classes"
   ]
  },
  {
   "cell_type": "code",
   "execution_count": 157,
   "metadata": {},
   "outputs": [],
   "source": [
    "y_true = testing_df[\"categoria\"].values\n",
    "y_pred = testing_classes"
   ]
  },
  {
   "cell_type": "code",
   "execution_count": 158,
   "metadata": {
    "scrolled": true
   },
   "outputs": [
    {
     "data": {
      "text/plain": [
       "array([0.9225    , 0.94101509, 0.95882353, 0.97993664])"
      ]
     },
     "execution_count": 158,
     "metadata": {},
     "output_type": "execute_result"
    }
   ],
   "source": [
    "experiment_16_sw = f1_score(y_true, y_pred, average=None)\n",
    "experiment_16_sw"
   ]
  },
  {
   "cell_type": "markdown",
   "metadata": {},
   "source": [
    "### *SVC (Support Vector Classification)*"
   ]
  },
  {
   "cell_type": "markdown",
   "metadata": {},
   "source": [
    "#### *SVC* + *CountVectorizer*"
   ]
  },
  {
   "cell_type": "code",
   "execution_count": 159,
   "metadata": {},
   "outputs": [],
   "source": [
    "training_docs = training_df[\"descricao\"].values\n",
    "training_classes = training_df[\"categoria\"].values\n",
    "testing_docs = testing_df[\"descricao\"].values"
   ]
  },
  {
   "cell_type": "code",
   "execution_count": 160,
   "metadata": {},
   "outputs": [
    {
     "data": {
      "text/plain": [
       "SVC(C=1.0, cache_size=200, class_weight=None, coef0=0.0,\n",
       "    decision_function_shape='ovr', degree=3, gamma='scale', kernel='rbf',\n",
       "    max_iter=-1, probability=False, random_state=None, shrinking=True,\n",
       "    tol=0.001, verbose=False)"
      ]
     },
     "execution_count": 160,
     "metadata": {},
     "output_type": "execute_result"
    }
   ],
   "source": [
    "vectorizer = CountVectorizer(analyzer=\"word\")\n",
    "frequency_training_docs = vectorizer.fit_transform(training_docs)\n",
    "model = SVC(gamma='scale')\n",
    "model.fit(frequency_training_docs, training_classes)"
   ]
  },
  {
   "cell_type": "code",
   "execution_count": 161,
   "metadata": {},
   "outputs": [],
   "source": [
    "frequency_testing_docs = vectorizer.transform(testing_docs)\n",
    "testing_classes = model.predict(frequency_testing_docs)"
   ]
  },
  {
   "cell_type": "code",
   "execution_count": 162,
   "metadata": {},
   "outputs": [
    {
     "data": {
      "text/plain": [
       "array(['maquiagem', 'brinquedo', 'game', ..., 'brinquedo', 'livro',\n",
       "       'livro'], dtype=object)"
      ]
     },
     "execution_count": 162,
     "metadata": {},
     "output_type": "execute_result"
    }
   ],
   "source": [
    "testing_classes"
   ]
  },
  {
   "cell_type": "code",
   "execution_count": 163,
   "metadata": {},
   "outputs": [],
   "source": [
    "y_true = testing_df[\"categoria\"].values\n",
    "y_pred = testing_classes"
   ]
  },
  {
   "cell_type": "code",
   "execution_count": 164,
   "metadata": {},
   "outputs": [
    {
     "data": {
      "text/plain": [
       "array([0.81510934, 0.82565789, 0.92570281, 0.93002257])"
      ]
     },
     "execution_count": 164,
     "metadata": {},
     "output_type": "execute_result"
    }
   ],
   "source": [
    "experiment_21 = f1_score(y_true, y_pred, average=None)\n",
    "experiment_21"
   ]
  },
  {
   "cell_type": "markdown",
   "metadata": {},
   "source": [
    "#### *SVC* + *CountVectorizer* &mdash; com remoção de *stopwords*"
   ]
  },
  {
   "cell_type": "code",
   "execution_count": 165,
   "metadata": {},
   "outputs": [],
   "source": [
    "training_docs = remove_stopwords_and_punctuation(training_df[\"descricao\"].values)\n",
    "training_classes = training_df[\"categoria\"].values\n",
    "testing_docs = remove_stopwords_and_punctuation(testing_df[\"descricao\"].values)"
   ]
  },
  {
   "cell_type": "code",
   "execution_count": 166,
   "metadata": {},
   "outputs": [
    {
     "data": {
      "text/plain": [
       "SVC(C=1.0, cache_size=200, class_weight=None, coef0=0.0,\n",
       "    decision_function_shape='ovr', degree=3, gamma='scale', kernel='rbf',\n",
       "    max_iter=-1, probability=False, random_state=None, shrinking=True,\n",
       "    tol=0.001, verbose=False)"
      ]
     },
     "execution_count": 166,
     "metadata": {},
     "output_type": "execute_result"
    }
   ],
   "source": [
    "vectorizer = CountVectorizer(analyzer=\"word\")\n",
    "frequency_training_docs = vectorizer.fit_transform(training_docs)\n",
    "model = SVC(gamma='scale')\n",
    "model.fit(frequency_training_docs, training_classes)"
   ]
  },
  {
   "cell_type": "code",
   "execution_count": 167,
   "metadata": {},
   "outputs": [],
   "source": [
    "frequency_testing_docs = vectorizer.transform(testing_docs)\n",
    "testing_classes = model.predict(frequency_testing_docs)"
   ]
  },
  {
   "cell_type": "code",
   "execution_count": 168,
   "metadata": {},
   "outputs": [
    {
     "data": {
      "text/plain": [
       "array(['maquiagem', 'brinquedo', 'game', ..., 'brinquedo', 'livro',\n",
       "       'livro'], dtype=object)"
      ]
     },
     "execution_count": 168,
     "metadata": {},
     "output_type": "execute_result"
    }
   ],
   "source": [
    "testing_classes"
   ]
  },
  {
   "cell_type": "code",
   "execution_count": 169,
   "metadata": {},
   "outputs": [],
   "source": [
    "y_true = testing_df[\"categoria\"].values\n",
    "y_pred = testing_classes"
   ]
  },
  {
   "cell_type": "code",
   "execution_count": 170,
   "metadata": {},
   "outputs": [
    {
     "data": {
      "text/plain": [
       "array([0.85773624, 0.89440994, 0.93172691, 0.93617021])"
      ]
     },
     "execution_count": 170,
     "metadata": {},
     "output_type": "execute_result"
    }
   ],
   "source": [
    "experiment_21_sw = f1_score(y_true, y_pred, average=None)\n",
    "experiment_21_sw"
   ]
  },
  {
   "cell_type": "markdown",
   "metadata": {},
   "source": [
    "#### SVC + TfidfVectorizer"
   ]
  },
  {
   "cell_type": "code",
   "execution_count": 171,
   "metadata": {},
   "outputs": [],
   "source": [
    "training_docs = training_df[\"descricao\"].values\n",
    "training_classes = training_df[\"categoria\"].values\n",
    "testing_docs = testing_df[\"descricao\"].values"
   ]
  },
  {
   "cell_type": "code",
   "execution_count": 172,
   "metadata": {},
   "outputs": [
    {
     "data": {
      "text/plain": [
       "SVC(C=1.0, cache_size=200, class_weight=None, coef0=0.0,\n",
       "    decision_function_shape='ovr', degree=3, gamma='scale', kernel='rbf',\n",
       "    max_iter=-1, probability=False, random_state=None, shrinking=True,\n",
       "    tol=0.001, verbose=False)"
      ]
     },
     "execution_count": 172,
     "metadata": {},
     "output_type": "execute_result"
    }
   ],
   "source": [
    "vectorizer = TfidfVectorizer(analyzer=\"word\")\n",
    "frequency_training_docs = vectorizer.fit_transform(training_docs)\n",
    "model = SVC(gamma='scale')\n",
    "model.fit(frequency_training_docs, training_classes)"
   ]
  },
  {
   "cell_type": "code",
   "execution_count": 173,
   "metadata": {},
   "outputs": [],
   "source": [
    "frequency_testing_docs = vectorizer.transform(testing_docs)\n",
    "testing_classes = model.predict(frequency_testing_docs)"
   ]
  },
  {
   "cell_type": "code",
   "execution_count": 174,
   "metadata": {},
   "outputs": [
    {
     "data": {
      "text/plain": [
       "array(['maquiagem', 'brinquedo', 'game', ..., 'brinquedo', 'livro',\n",
       "       'game'], dtype=object)"
      ]
     },
     "execution_count": 174,
     "metadata": {},
     "output_type": "execute_result"
    }
   ],
   "source": [
    "testing_classes"
   ]
  },
  {
   "cell_type": "code",
   "execution_count": 175,
   "metadata": {},
   "outputs": [],
   "source": [
    "y_true = testing_df[\"categoria\"].values\n",
    "y_pred = testing_classes"
   ]
  },
  {
   "cell_type": "code",
   "execution_count": 176,
   "metadata": {},
   "outputs": [
    {
     "data": {
      "text/plain": [
       "array([0.9540636 , 0.94444444, 0.96340257, 0.97268908])"
      ]
     },
     "execution_count": 176,
     "metadata": {},
     "output_type": "execute_result"
    }
   ],
   "source": [
    "experiment_22 = f1_score(y_true, y_pred, average=None)\n",
    "experiment_22"
   ]
  },
  {
   "cell_type": "markdown",
   "metadata": {},
   "source": [
    "#### SVC + TfidfVectorizer &mdash; com remoção de *stopwords*"
   ]
  },
  {
   "cell_type": "code",
   "execution_count": 177,
   "metadata": {},
   "outputs": [],
   "source": [
    "training_docs = remove_stopwords_and_punctuation(training_df[\"descricao\"].values)\n",
    "training_classes = training_df[\"categoria\"].values\n",
    "testing_docs = remove_stopwords_and_punctuation(testing_df[\"descricao\"].values)"
   ]
  },
  {
   "cell_type": "code",
   "execution_count": 178,
   "metadata": {},
   "outputs": [
    {
     "data": {
      "text/plain": [
       "SVC(C=1.0, cache_size=200, class_weight=None, coef0=0.0,\n",
       "    decision_function_shape='ovr', degree=3, gamma='scale', kernel='rbf',\n",
       "    max_iter=-1, probability=False, random_state=None, shrinking=True,\n",
       "    tol=0.001, verbose=False)"
      ]
     },
     "execution_count": 178,
     "metadata": {},
     "output_type": "execute_result"
    }
   ],
   "source": [
    "vectorizer = TfidfVectorizer(analyzer=\"word\")\n",
    "frequency_training_docs = vectorizer.fit_transform(training_docs)\n",
    "model = SVC(gamma='scale')\n",
    "model.fit(frequency_training_docs, training_classes)"
   ]
  },
  {
   "cell_type": "code",
   "execution_count": 179,
   "metadata": {},
   "outputs": [],
   "source": [
    "frequency_testing_docs = vectorizer.transform(testing_docs)\n",
    "testing_classes = model.predict(frequency_testing_docs)"
   ]
  },
  {
   "cell_type": "code",
   "execution_count": 180,
   "metadata": {},
   "outputs": [
    {
     "data": {
      "text/plain": [
       "array(['maquiagem', 'brinquedo', 'game', ..., 'brinquedo', 'livro',\n",
       "       'game'], dtype=object)"
      ]
     },
     "execution_count": 180,
     "metadata": {},
     "output_type": "execute_result"
    }
   ],
   "source": [
    "testing_classes"
   ]
  },
  {
   "cell_type": "code",
   "execution_count": 181,
   "metadata": {},
   "outputs": [],
   "source": [
    "y_true = testing_df[\"categoria\"].values\n",
    "y_pred = testing_classes"
   ]
  },
  {
   "cell_type": "code",
   "execution_count": 182,
   "metadata": {},
   "outputs": [
    {
     "data": {
      "text/plain": [
       "array([0.95971564, 0.95930233, 0.96957802, 0.97989418])"
      ]
     },
     "execution_count": 182,
     "metadata": {},
     "output_type": "execute_result"
    }
   ],
   "source": [
    "experiment_22_sw = f1_score(y_true, y_pred, average=None)\n",
    "experiment_22_sw"
   ]
  },
  {
   "cell_type": "markdown",
   "metadata": {},
   "source": [
    "#### *SVC* + (*CountVectorizer* + *TfidfVectorizer*)"
   ]
  },
  {
   "cell_type": "code",
   "execution_count": 183,
   "metadata": {},
   "outputs": [],
   "source": [
    "training_docs = training_df[\"descricao\"].values\n",
    "training_classes = training_df[\"categoria\"].values\n",
    "testing_docs = testing_df[\"descricao\"].values"
   ]
  },
  {
   "cell_type": "code",
   "execution_count": 184,
   "metadata": {},
   "outputs": [
    {
     "data": {
      "text/plain": [
       "SVC(C=1.0, cache_size=200, class_weight=None, coef0=0.0,\n",
       "    decision_function_shape='ovr', degree=3, gamma='scale', kernel='rbf',\n",
       "    max_iter=-1, probability=False, random_state=None, shrinking=True,\n",
       "    tol=0.001, verbose=False)"
      ]
     },
     "execution_count": 184,
     "metadata": {},
     "output_type": "execute_result"
    }
   ],
   "source": [
    "vectorizer = CountVectorizer(analyzer=\"word\", min_df=1)\n",
    "frequency_training_docs = vectorizer.fit_transform(training_docs)\n",
    "tf_transformer = TfidfTransformer(use_idf=False).fit(frequency_training_docs)\n",
    "frequency_training_docs = tf_transformer.transform(frequency_training_docs)\n",
    "model = SVC(gamma='scale')\n",
    "model.fit(frequency_training_docs, training_classes)"
   ]
  },
  {
   "cell_type": "code",
   "execution_count": 185,
   "metadata": {},
   "outputs": [],
   "source": [
    "frequency_testing_docs = vectorizer.transform(testing_docs)\n",
    "tf_transformer = TfidfTransformer(use_idf=False).fit(frequency_testing_docs)\n",
    "frequency_testing_docs = tf_transformer.transform(frequency_testing_docs)\n",
    "testing_classes = model.predict(frequency_testing_docs)"
   ]
  },
  {
   "cell_type": "code",
   "execution_count": 186,
   "metadata": {},
   "outputs": [
    {
     "data": {
      "text/plain": [
       "array(['maquiagem', 'brinquedo', 'game', ..., 'brinquedo', 'livro',\n",
       "       'game'], dtype=object)"
      ]
     },
     "execution_count": 186,
     "metadata": {},
     "output_type": "execute_result"
    }
   ],
   "source": [
    "testing_classes"
   ]
  },
  {
   "cell_type": "code",
   "execution_count": 187,
   "metadata": {},
   "outputs": [],
   "source": [
    "y_true = testing_df[\"categoria\"].values\n",
    "y_pred = testing_classes"
   ]
  },
  {
   "cell_type": "code",
   "execution_count": 188,
   "metadata": {},
   "outputs": [
    {
     "data": {
      "text/plain": [
       "array([0.94424674, 0.9505814 , 0.96311067, 0.96049896])"
      ]
     },
     "execution_count": 188,
     "metadata": {},
     "output_type": "execute_result"
    }
   ],
   "source": [
    "experiment_23 = f1_score(y_true, y_pred, average=None)\n",
    "experiment_23"
   ]
  },
  {
   "cell_type": "markdown",
   "metadata": {},
   "source": [
    "#### *SVC* + (*CountVectorizer* + *TfidfVectorizer*) &mdash; com remoção de *stopwords*"
   ]
  },
  {
   "cell_type": "code",
   "execution_count": 189,
   "metadata": {},
   "outputs": [],
   "source": [
    "training_docs = remove_stopwords_and_punctuation(training_df[\"descricao\"].values)\n",
    "training_classes = training_df[\"categoria\"].values\n",
    "testing_docs = remove_stopwords_and_punctuation(testing_df[\"descricao\"].values)"
   ]
  },
  {
   "cell_type": "code",
   "execution_count": 190,
   "metadata": {},
   "outputs": [
    {
     "data": {
      "text/plain": [
       "SVC(C=1.0, cache_size=200, class_weight=None, coef0=0.0,\n",
       "    decision_function_shape='ovr', degree=3, gamma='scale', kernel='rbf',\n",
       "    max_iter=-1, probability=False, random_state=None, shrinking=True,\n",
       "    tol=0.001, verbose=False)"
      ]
     },
     "execution_count": 190,
     "metadata": {},
     "output_type": "execute_result"
    }
   ],
   "source": [
    "vectorizer = CountVectorizer(analyzer=\"word\", min_df=1)\n",
    "frequency_training_docs = vectorizer.fit_transform(training_docs)\n",
    "tf_transformer = TfidfTransformer(use_idf=False).fit(frequency_training_docs)\n",
    "frequency_training_docs = tf_transformer.transform(frequency_training_docs)\n",
    "model = SVC(gamma='scale')\n",
    "model.fit(frequency_training_docs, training_classes)"
   ]
  },
  {
   "cell_type": "code",
   "execution_count": 191,
   "metadata": {},
   "outputs": [],
   "source": [
    "frequency_testing_docs = vectorizer.transform(testing_docs)\n",
    "tf_transformer = TfidfTransformer(use_idf=False).fit(frequency_testing_docs)\n",
    "frequency_testing_docs = tf_transformer.transform(frequency_testing_docs)\n",
    "testing_classes = model.predict(frequency_testing_docs)"
   ]
  },
  {
   "cell_type": "code",
   "execution_count": 192,
   "metadata": {},
   "outputs": [
    {
     "data": {
      "text/plain": [
       "array(['maquiagem', 'brinquedo', 'game', ..., 'brinquedo', 'livro',\n",
       "       'game'], dtype=object)"
      ]
     },
     "execution_count": 192,
     "metadata": {},
     "output_type": "execute_result"
    }
   ],
   "source": [
    "testing_classes"
   ]
  },
  {
   "cell_type": "code",
   "execution_count": 193,
   "metadata": {},
   "outputs": [],
   "source": [
    "y_true = testing_df[\"categoria\"].values\n",
    "y_pred = testing_classes"
   ]
  },
  {
   "cell_type": "code",
   "execution_count": 194,
   "metadata": {},
   "outputs": [
    {
     "data": {
      "text/plain": [
       "array([0.95539906, 0.96681097, 0.97492477, 0.96436059])"
      ]
     },
     "execution_count": 194,
     "metadata": {},
     "output_type": "execute_result"
    }
   ],
   "source": [
    "experiment_23_sw = f1_score(y_true, y_pred, average=None)\n",
    "experiment_23_sw"
   ]
  },
  {
   "cell_type": "markdown",
   "metadata": {},
   "source": [
    "#### *SVC* + Unigram"
   ]
  },
  {
   "cell_type": "code",
   "execution_count": 195,
   "metadata": {},
   "outputs": [],
   "source": [
    "training_docs = training_df[\"descricao\"].values\n",
    "training_classes = training_df[\"categoria\"].values\n",
    "testing_docs = testing_df[\"descricao\"].values"
   ]
  },
  {
   "cell_type": "code",
   "execution_count": 196,
   "metadata": {},
   "outputs": [
    {
     "data": {
      "text/plain": [
       "SVC(C=1.0, cache_size=200, class_weight=None, coef0=0.0,\n",
       "    decision_function_shape='ovr', degree=3, gamma='scale', kernel='rbf',\n",
       "    max_iter=-1, probability=False, random_state=None, shrinking=True,\n",
       "    tol=0.001, verbose=False)"
      ]
     },
     "execution_count": 196,
     "metadata": {},
     "output_type": "execute_result"
    }
   ],
   "source": [
    "vectorizer = CountVectorizer(analyzer=\"word\", ngram_range=(1,1))\n",
    "frequency_training_docs = vectorizer.fit_transform(training_docs)\n",
    "model = SVC(gamma='scale')\n",
    "model.fit(frequency_training_docs, training_classes)"
   ]
  },
  {
   "cell_type": "code",
   "execution_count": 197,
   "metadata": {},
   "outputs": [],
   "source": [
    "frequency_testing_docs = vectorizer.transform(testing_docs)\n",
    "testing_classes = model.predict(frequency_testing_docs)"
   ]
  },
  {
   "cell_type": "code",
   "execution_count": 198,
   "metadata": {},
   "outputs": [
    {
     "data": {
      "text/plain": [
       "array(['maquiagem', 'brinquedo', 'game', ..., 'brinquedo', 'livro',\n",
       "       'livro'], dtype=object)"
      ]
     },
     "execution_count": 198,
     "metadata": {},
     "output_type": "execute_result"
    }
   ],
   "source": [
    "testing_classes"
   ]
  },
  {
   "cell_type": "code",
   "execution_count": 199,
   "metadata": {},
   "outputs": [],
   "source": [
    "y_true = testing_df[\"categoria\"].values\n",
    "y_pred = testing_classes"
   ]
  },
  {
   "cell_type": "code",
   "execution_count": 200,
   "metadata": {},
   "outputs": [
    {
     "data": {
      "text/plain": [
       "array([0.81510934, 0.82565789, 0.92570281, 0.93002257])"
      ]
     },
     "execution_count": 200,
     "metadata": {},
     "output_type": "execute_result"
    }
   ],
   "source": [
    "experiment_24 = f1_score(y_true, y_pred, average=None)\n",
    "experiment_24"
   ]
  },
  {
   "cell_type": "markdown",
   "metadata": {},
   "source": [
    "#### *SVC* + Unigram &mdash; com remoção de *stopwords*"
   ]
  },
  {
   "cell_type": "code",
   "execution_count": 201,
   "metadata": {},
   "outputs": [],
   "source": [
    "training_docs = remove_stopwords_and_punctuation(training_df[\"descricao\"].values)\n",
    "training_classes = training_df[\"categoria\"].values\n",
    "testing_docs = remove_stopwords_and_punctuation(testing_df[\"descricao\"].values)"
   ]
  },
  {
   "cell_type": "code",
   "execution_count": 202,
   "metadata": {},
   "outputs": [
    {
     "data": {
      "text/plain": [
       "SVC(C=1.0, cache_size=200, class_weight=None, coef0=0.0,\n",
       "    decision_function_shape='ovr', degree=3, gamma='scale', kernel='rbf',\n",
       "    max_iter=-1, probability=False, random_state=None, shrinking=True,\n",
       "    tol=0.001, verbose=False)"
      ]
     },
     "execution_count": 202,
     "metadata": {},
     "output_type": "execute_result"
    }
   ],
   "source": [
    "vectorizer = CountVectorizer(analyzer=\"word\", ngram_range=(1,1))\n",
    "frequency_training_docs = vectorizer.fit_transform(training_docs)\n",
    "model = SVC(gamma='scale')\n",
    "model.fit(frequency_training_docs, training_classes)"
   ]
  },
  {
   "cell_type": "code",
   "execution_count": 203,
   "metadata": {},
   "outputs": [],
   "source": [
    "frequency_testing_docs = vectorizer.transform(testing_docs)\n",
    "testing_classes = model.predict(frequency_testing_docs)"
   ]
  },
  {
   "cell_type": "code",
   "execution_count": 204,
   "metadata": {},
   "outputs": [
    {
     "data": {
      "text/plain": [
       "array(['maquiagem', 'brinquedo', 'game', ..., 'brinquedo', 'livro',\n",
       "       'livro'], dtype=object)"
      ]
     },
     "execution_count": 204,
     "metadata": {},
     "output_type": "execute_result"
    }
   ],
   "source": [
    "testing_classes"
   ]
  },
  {
   "cell_type": "code",
   "execution_count": 205,
   "metadata": {},
   "outputs": [],
   "source": [
    "y_true = testing_df[\"categoria\"].values\n",
    "y_pred = testing_classes"
   ]
  },
  {
   "cell_type": "code",
   "execution_count": 206,
   "metadata": {},
   "outputs": [
    {
     "data": {
      "text/plain": [
       "array([0.85773624, 0.89440994, 0.93172691, 0.93617021])"
      ]
     },
     "execution_count": 206,
     "metadata": {},
     "output_type": "execute_result"
    }
   ],
   "source": [
    "experiment_24_sw = f1_score(y_true, y_pred, average=None)\n",
    "experiment_24_sw"
   ]
  },
  {
   "cell_type": "markdown",
   "metadata": {},
   "source": [
    "#### *SVC* + Bigram"
   ]
  },
  {
   "cell_type": "code",
   "execution_count": 207,
   "metadata": {},
   "outputs": [],
   "source": [
    "training_docs = training_df[\"descricao\"].values\n",
    "training_classes = training_df[\"categoria\"].values\n",
    "testing_docs = testing_df[\"descricao\"].values"
   ]
  },
  {
   "cell_type": "code",
   "execution_count": 208,
   "metadata": {},
   "outputs": [
    {
     "data": {
      "text/plain": [
       "SVC(C=1.0, cache_size=200, class_weight=None, coef0=0.0,\n",
       "    decision_function_shape='ovr', degree=3, gamma='scale', kernel='rbf',\n",
       "    max_iter=-1, probability=False, random_state=None, shrinking=True,\n",
       "    tol=0.001, verbose=False)"
      ]
     },
     "execution_count": 208,
     "metadata": {},
     "output_type": "execute_result"
    }
   ],
   "source": [
    "vectorizer = CountVectorizer(analyzer=\"word\", ngram_range=(1,2))\n",
    "frequency_training_docs = vectorizer.fit_transform(training_docs)\n",
    "model = SVC(gamma='scale')\n",
    "model.fit(frequency_training_docs, training_classes)"
   ]
  },
  {
   "cell_type": "code",
   "execution_count": 209,
   "metadata": {},
   "outputs": [],
   "source": [
    "frequency_testing_docs = vectorizer.transform(testing_docs)\n",
    "testing_classes = model.predict(frequency_testing_docs)"
   ]
  },
  {
   "cell_type": "code",
   "execution_count": 210,
   "metadata": {},
   "outputs": [
    {
     "data": {
      "text/plain": [
       "array(['maquiagem', 'brinquedo', 'game', ..., 'brinquedo', 'livro',\n",
       "       'livro'], dtype=object)"
      ]
     },
     "execution_count": 210,
     "metadata": {},
     "output_type": "execute_result"
    }
   ],
   "source": [
    "testing_classes"
   ]
  },
  {
   "cell_type": "code",
   "execution_count": 211,
   "metadata": {},
   "outputs": [],
   "source": [
    "y_true = testing_df[\"categoria\"].values\n",
    "y_pred = testing_classes"
   ]
  },
  {
   "cell_type": "code",
   "execution_count": 212,
   "metadata": {},
   "outputs": [
    {
     "data": {
      "text/plain": [
       "array([0.816286  , 0.81983471, 0.92323232, 0.93736018])"
      ]
     },
     "execution_count": 212,
     "metadata": {},
     "output_type": "execute_result"
    }
   ],
   "source": [
    "experiment_25 = f1_score(y_true, y_pred, average=None)\n",
    "experiment_25"
   ]
  },
  {
   "cell_type": "markdown",
   "metadata": {},
   "source": [
    "#### *SVC* + Bigram &mdash; com remoção de *stopwords*"
   ]
  },
  {
   "cell_type": "code",
   "execution_count": 213,
   "metadata": {},
   "outputs": [],
   "source": [
    "training_docs = remove_stopwords_and_punctuation(training_df[\"descricao\"].values)\n",
    "training_classes = training_df[\"categoria\"].values\n",
    "testing_docs = remove_stopwords_and_punctuation(testing_df[\"descricao\"].values)"
   ]
  },
  {
   "cell_type": "code",
   "execution_count": 214,
   "metadata": {},
   "outputs": [
    {
     "data": {
      "text/plain": [
       "SVC(C=1.0, cache_size=200, class_weight=None, coef0=0.0,\n",
       "    decision_function_shape='ovr', degree=3, gamma='scale', kernel='rbf',\n",
       "    max_iter=-1, probability=False, random_state=None, shrinking=True,\n",
       "    tol=0.001, verbose=False)"
      ]
     },
     "execution_count": 214,
     "metadata": {},
     "output_type": "execute_result"
    }
   ],
   "source": [
    "vectorizer = CountVectorizer(analyzer=\"word\", ngram_range=(1,2))\n",
    "frequency_training_docs = vectorizer.fit_transform(training_docs)\n",
    "model = SVC(gamma='scale')\n",
    "model.fit(frequency_training_docs, training_classes)"
   ]
  },
  {
   "cell_type": "code",
   "execution_count": 215,
   "metadata": {},
   "outputs": [],
   "source": [
    "frequency_testing_docs = vectorizer.transform(testing_docs)\n",
    "testing_classes = model.predict(frequency_testing_docs)"
   ]
  },
  {
   "cell_type": "code",
   "execution_count": 216,
   "metadata": {},
   "outputs": [
    {
     "data": {
      "text/plain": [
       "array(['maquiagem', 'brinquedo', 'game', ..., 'brinquedo', 'livro',\n",
       "       'livro'], dtype=object)"
      ]
     },
     "execution_count": 216,
     "metadata": {},
     "output_type": "execute_result"
    }
   ],
   "source": [
    "testing_classes"
   ]
  },
  {
   "cell_type": "code",
   "execution_count": 217,
   "metadata": {},
   "outputs": [],
   "source": [
    "y_true = testing_df[\"categoria\"].values\n",
    "y_pred = testing_classes"
   ]
  },
  {
   "cell_type": "code",
   "execution_count": 218,
   "metadata": {},
   "outputs": [
    {
     "data": {
      "text/plain": [
       "array([0.82985075, 0.87163233, 0.92307692, 0.92881356])"
      ]
     },
     "execution_count": 218,
     "metadata": {},
     "output_type": "execute_result"
    }
   ],
   "source": [
    "experiment_25_sw = f1_score(y_true, y_pred, average=None)\n",
    "experiment_25_sw"
   ]
  },
  {
   "cell_type": "markdown",
   "metadata": {},
   "source": [
    "#### *SVC* + Trigram"
   ]
  },
  {
   "cell_type": "code",
   "execution_count": 219,
   "metadata": {},
   "outputs": [],
   "source": [
    "training_docs = training_df[\"descricao\"].values\n",
    "training_classes = training_df[\"categoria\"].values\n",
    "testing_docs = testing_df[\"descricao\"].values"
   ]
  },
  {
   "cell_type": "code",
   "execution_count": 220,
   "metadata": {},
   "outputs": [
    {
     "data": {
      "text/plain": [
       "SVC(C=1.0, cache_size=200, class_weight=None, coef0=0.0,\n",
       "    decision_function_shape='ovr', degree=3, gamma='scale', kernel='rbf',\n",
       "    max_iter=-1, probability=False, random_state=None, shrinking=True,\n",
       "    tol=0.001, verbose=False)"
      ]
     },
     "execution_count": 220,
     "metadata": {},
     "output_type": "execute_result"
    }
   ],
   "source": [
    "vectorizer = CountVectorizer(analyzer=\"word\", ngram_range=(1,3))\n",
    "frequency_training_docs = vectorizer.fit_transform(training_docs)\n",
    "model = SVC(gamma='scale')\n",
    "model.fit(frequency_training_docs, training_classes)"
   ]
  },
  {
   "cell_type": "code",
   "execution_count": 221,
   "metadata": {},
   "outputs": [],
   "source": [
    "frequency_testing_docs = vectorizer.transform(testing_docs)\n",
    "testing_classes = model.predict(frequency_testing_docs)"
   ]
  },
  {
   "cell_type": "code",
   "execution_count": 222,
   "metadata": {},
   "outputs": [
    {
     "data": {
      "text/plain": [
       "array(['maquiagem', 'brinquedo', 'game', ..., 'brinquedo', 'livro',\n",
       "       'livro'], dtype=object)"
      ]
     },
     "execution_count": 222,
     "metadata": {},
     "output_type": "execute_result"
    }
   ],
   "source": [
    "testing_classes"
   ]
  },
  {
   "cell_type": "code",
   "execution_count": 223,
   "metadata": {},
   "outputs": [],
   "source": [
    "y_true = testing_df[\"categoria\"].values\n",
    "y_pred = testing_classes"
   ]
  },
  {
   "cell_type": "code",
   "execution_count": 224,
   "metadata": {
    "scrolled": true
   },
   "outputs": [
    {
     "data": {
      "text/plain": [
       "array([0.81584158, 0.81530782, 0.91809909, 0.9375    ])"
      ]
     },
     "execution_count": 224,
     "metadata": {},
     "output_type": "execute_result"
    }
   ],
   "source": [
    "experiment_26 = f1_score(y_true, y_pred, average=None)\n",
    "experiment_26"
   ]
  },
  {
   "cell_type": "markdown",
   "metadata": {},
   "source": [
    "#### *SVC* + Trigram &mdash; com remoção de *stopwords*"
   ]
  },
  {
   "cell_type": "code",
   "execution_count": 225,
   "metadata": {},
   "outputs": [],
   "source": [
    "training_docs = remove_stopwords_and_punctuation(training_df[\"descricao\"].values)\n",
    "training_classes = training_df[\"categoria\"].values\n",
    "testing_docs = remove_stopwords_and_punctuation(testing_df[\"descricao\"].values)"
   ]
  },
  {
   "cell_type": "code",
   "execution_count": 226,
   "metadata": {},
   "outputs": [
    {
     "data": {
      "text/plain": [
       "SVC(C=1.0, cache_size=200, class_weight=None, coef0=0.0,\n",
       "    decision_function_shape='ovr', degree=3, gamma='scale', kernel='rbf',\n",
       "    max_iter=-1, probability=False, random_state=None, shrinking=True,\n",
       "    tol=0.001, verbose=False)"
      ]
     },
     "execution_count": 226,
     "metadata": {},
     "output_type": "execute_result"
    }
   ],
   "source": [
    "vectorizer = CountVectorizer(analyzer=\"word\", ngram_range=(1,3))\n",
    "frequency_training_docs = vectorizer.fit_transform(training_docs)\n",
    "model = SVC(gamma='scale')\n",
    "model.fit(frequency_training_docs, training_classes)"
   ]
  },
  {
   "cell_type": "code",
   "execution_count": 227,
   "metadata": {},
   "outputs": [],
   "source": [
    "frequency_testing_docs = vectorizer.transform(testing_docs)\n",
    "testing_classes = model.predict(frequency_testing_docs)"
   ]
  },
  {
   "cell_type": "code",
   "execution_count": 228,
   "metadata": {},
   "outputs": [
    {
     "data": {
      "text/plain": [
       "array(['maquiagem', 'brinquedo', 'game', ..., 'brinquedo', 'livro',\n",
       "       'livro'], dtype=object)"
      ]
     },
     "execution_count": 228,
     "metadata": {},
     "output_type": "execute_result"
    }
   ],
   "source": [
    "testing_classes"
   ]
  },
  {
   "cell_type": "code",
   "execution_count": 229,
   "metadata": {},
   "outputs": [],
   "source": [
    "y_true = testing_df[\"categoria\"].values\n",
    "y_pred = testing_classes"
   ]
  },
  {
   "cell_type": "code",
   "execution_count": 230,
   "metadata": {
    "scrolled": true
   },
   "outputs": [
    {
     "data": {
      "text/plain": [
       "array([0.8076555 , 0.85346216, 0.9125    , 0.91954023])"
      ]
     },
     "execution_count": 230,
     "metadata": {},
     "output_type": "execute_result"
    }
   ],
   "source": [
    "experiment_26_sw = f1_score(y_true, y_pred, average=None)\n",
    "experiment_26_sw"
   ]
  },
  {
   "cell_type": "markdown",
   "metadata": {},
   "source": [
    "## Comparativo das soluções"
   ]
  },
  {
   "cell_type": "markdown",
   "metadata": {},
   "source": [
    "### Experimentos com Decision Tree"
   ]
  },
  {
   "cell_type": "code",
   "execution_count": 231,
   "metadata": {},
   "outputs": [
    {
     "data": {
      "text/plain": [
       "array([0.87294118, 0.91420534, 0.92943548, 0.91622481])"
      ]
     },
     "execution_count": 231,
     "metadata": {},
     "output_type": "execute_result"
    }
   ],
   "source": [
    "experiment_01"
   ]
  },
  {
   "cell_type": "code",
   "execution_count": 232,
   "metadata": {},
   "outputs": [
    {
     "data": {
      "text/plain": [
       "array([0.86363636, 0.91371994, 0.9287169 , 0.91262136])"
      ]
     },
     "execution_count": 232,
     "metadata": {},
     "output_type": "execute_result"
    }
   ],
   "source": [
    "experiment_02"
   ]
  },
  {
   "cell_type": "code",
   "execution_count": 233,
   "metadata": {},
   "outputs": [
    {
     "data": {
      "text/plain": [
       "array([0.83511269, 0.91725105, 0.91995947, 0.88562434])"
      ]
     },
     "execution_count": 233,
     "metadata": {},
     "output_type": "execute_result"
    }
   ],
   "source": [
    "experiment_03"
   ]
  },
  {
   "cell_type": "code",
   "execution_count": 234,
   "metadata": {},
   "outputs": [
    {
     "data": {
      "text/plain": [
       "array([0.85714286, 0.91248207, 0.92721834, 0.91594828])"
      ]
     },
     "execution_count": 234,
     "metadata": {},
     "output_type": "execute_result"
    }
   ],
   "source": [
    "experiment_04"
   ]
  },
  {
   "cell_type": "code",
   "execution_count": 235,
   "metadata": {},
   "outputs": [
    {
     "data": {
      "text/plain": [
       "array([0.84222738, 0.90857947, 0.9283552 , 0.90772532])"
      ]
     },
     "execution_count": 235,
     "metadata": {},
     "output_type": "execute_result"
    }
   ],
   "source": [
    "experiment_05"
   ]
  },
  {
   "cell_type": "code",
   "execution_count": 236,
   "metadata": {},
   "outputs": [
    {
     "data": {
      "text/plain": [
       "array([0.85681024, 0.90422535, 0.93037336, 0.92094017])"
      ]
     },
     "execution_count": 236,
     "metadata": {},
     "output_type": "execute_result"
    }
   ],
   "source": [
    "experiment_06"
   ]
  },
  {
   "cell_type": "code",
   "execution_count": 237,
   "metadata": {},
   "outputs": [
    {
     "data": {
      "image/png": "[encoded data removed]",
      "text/plain": [
       "<Figure size 691.2x518.4 with 1 Axes>"
      ]
     },
     "metadata": {
      "needs_background": "light"
     },
     "output_type": "display_data"
    }
   ],
   "source": [
    "fig=plt.figure(figsize=[9.6, 7.2])\n",
    "ax=fig.add_subplot(111)\n",
    "ax.set_title('Decision Tree with stopwords')\n",
    "ax.set_xlabel('Classes')\n",
    "ax.set_ylabel('F1 Score')\n",
    "ax.set_xticklabels(['brinquedo', 'game', 'livro', 'maquiagem'])\n",
    "ax.set_xticks([0, 1, 2, 3])\n",
    "ax.set_ylim([0.65,1])\n",
    "ax.plot(experiment_01,marker=\"o\",label='Count Vectorizer')\n",
    "ax.plot(experiment_02,marker=\"o\",label='tf-idf')\n",
    "ax.plot(experiment_03,marker=\"o\",label='Count Vectorizer + tf-idf')\n",
    "ax.plot(experiment_04,marker=\"o\",label='Unigram')\n",
    "ax.plot(experiment_05,marker=\"o\",label='Bigram')\n",
    "ax.plot(experiment_06,marker=\"o\",label='Trigram')\n",
    "plt.legend(loc=4)\n",
    "plt.show()"
   ]
  },
  {
   "cell_type": "code",
   "execution_count": 238,
   "metadata": {},
   "outputs": [
    {
     "data": {
      "text/plain": [
       "array([0.88676996, 0.92795389, 0.94141414, 0.91264132])"
      ]
     },
     "execution_count": 238,
     "metadata": {},
     "output_type": "execute_result"
    }
   ],
   "source": [
    "experiment_01_sw"
   ]
  },
  {
   "cell_type": "code",
   "execution_count": 239,
   "metadata": {},
   "outputs": [
    {
     "data": {
      "text/plain": [
       "array([0.88862837, 0.91703057, 0.94523327, 0.90309278])"
      ]
     },
     "execution_count": 239,
     "metadata": {},
     "output_type": "execute_result"
    }
   ],
   "source": [
    "experiment_02_sw"
   ]
  },
  {
   "cell_type": "code",
   "execution_count": 240,
   "metadata": {},
   "outputs": [
    {
     "data": {
      "text/plain": [
       "array([0.86666667, 0.91607397, 0.93948718, 0.88139059])"
      ]
     },
     "execution_count": 240,
     "metadata": {},
     "output_type": "execute_result"
    }
   ],
   "source": [
    "experiment_03_sw"
   ]
  },
  {
   "cell_type": "code",
   "execution_count": 241,
   "metadata": {},
   "outputs": [
    {
     "data": {
      "text/plain": [
       "array([0.87951807, 0.92131617, 0.93522267, 0.90500511])"
      ]
     },
     "execution_count": 241,
     "metadata": {},
     "output_type": "execute_result"
    }
   ],
   "source": [
    "experiment_04_sw"
   ]
  },
  {
   "cell_type": "code",
   "execution_count": 242,
   "metadata": {},
   "outputs": [
    {
     "data": {
      "text/plain": [
       "array([0.88544153, 0.92550143, 0.94427558, 0.90236382])"
      ]
     },
     "execution_count": 242,
     "metadata": {},
     "output_type": "execute_result"
    }
   ],
   "source": [
    "experiment_05_sw"
   ]
  },
  {
   "cell_type": "code",
   "execution_count": 243,
   "metadata": {},
   "outputs": [
    {
     "data": {
      "text/plain": [
       "array([0.88009592, 0.92528736, 0.93927126, 0.90184049])"
      ]
     },
     "execution_count": 243,
     "metadata": {},
     "output_type": "execute_result"
    }
   ],
   "source": [
    "experiment_06_sw"
   ]
  },
  {
   "cell_type": "code",
   "execution_count": 244,
   "metadata": {
    "scrolled": true
   },
   "outputs": [
    {
     "data": {
      "image/png": "[encoded data removed]",
      "text/plain": [
       "<Figure size 691.2x518.4 with 1 Axes>"
      ]
     },
     "metadata": {
      "needs_background": "light"
     },
     "output_type": "display_data"
    }
   ],
   "source": [
    "fig=plt.figure(figsize=[9.6, 7.2])\n",
    "ax=fig.add_subplot(111)\n",
    "ax.set_title('Decision Tree without stopwords')\n",
    "ax.set_xlabel('Classes')\n",
    "ax.set_ylabel('F1 Score')\n",
    "ax.set_xticklabels(['brinquedo', 'game', 'livro', 'maquiagem'])\n",
    "ax.set_xticks([0, 1, 2, 3])\n",
    "ax.set_ylim([0.65,1])\n",
    "ax.plot(experiment_01_sw,marker=\"o\",label='Count Vectorizer')\n",
    "ax.plot(experiment_02_sw,marker=\"o\",label='tf-idf')\n",
    "ax.plot(experiment_03_sw,marker=\"o\",label='Count Vectorizer + tf-idf')\n",
    "ax.plot(experiment_04_sw,marker=\"o\",label='Unigram')\n",
    "ax.plot(experiment_05_sw,marker=\"o\",label='Bigram')\n",
    "ax.plot(experiment_06_sw,marker=\"o\",label='Trigram')\n",
    "plt.legend(loc=4)\n",
    "plt.show()"
   ]
  },
  {
   "cell_type": "markdown",
   "metadata": {},
   "source": [
    "### Experimentos com Naive Bayes"
   ]
  },
  {
   "cell_type": "code",
   "execution_count": 245,
   "metadata": {},
   "outputs": [
    {
     "data": {
      "text/plain": [
       "array([0.92231813, 0.91780822, 0.94455446, 0.97777778])"
      ]
     },
     "execution_count": 245,
     "metadata": {},
     "output_type": "execute_result"
    }
   ],
   "source": [
    "experiment_11"
   ]
  },
  {
   "cell_type": "code",
   "execution_count": 246,
   "metadata": {},
   "outputs": [
    {
     "data": {
      "text/plain": [
       "array([0.86922061, 0.89757412, 0.93756004, 0.958159  ])"
      ]
     },
     "execution_count": 246,
     "metadata": {},
     "output_type": "execute_result"
    }
   ],
   "source": [
    "experiment_12"
   ]
  },
  {
   "cell_type": "code",
   "execution_count": 247,
   "metadata": {},
   "outputs": [
    {
     "data": {
      "text/plain": [
       "array([0.72700297, 0.83870968, 0.88548242, 0.92879257])"
      ]
     },
     "execution_count": 247,
     "metadata": {},
     "output_type": "execute_result"
    }
   ],
   "source": [
    "experiment_13"
   ]
  },
  {
   "cell_type": "code",
   "execution_count": 248,
   "metadata": {},
   "outputs": [
    {
     "data": {
      "text/plain": [
       "array([0.92231813, 0.91780822, 0.94455446, 0.97777778])"
      ]
     },
     "execution_count": 248,
     "metadata": {},
     "output_type": "execute_result"
    }
   ],
   "source": [
    "experiment_14"
   ]
  },
  {
   "cell_type": "code",
   "execution_count": 249,
   "metadata": {},
   "outputs": [
    {
     "data": {
      "text/plain": [
       "array([0.90379747, 0.92984869, 0.94563107, 0.97576396])"
      ]
     },
     "execution_count": 249,
     "metadata": {},
     "output_type": "execute_result"
    }
   ],
   "source": [
    "experiment_15"
   ]
  },
  {
   "cell_type": "code",
   "execution_count": 250,
   "metadata": {},
   "outputs": [
    {
     "data": {
      "text/plain": [
       "array([0.90025575, 0.92729767, 0.9428848 , 0.97689076])"
      ]
     },
     "execution_count": 250,
     "metadata": {},
     "output_type": "execute_result"
    }
   ],
   "source": [
    "experiment_16"
   ]
  },
  {
   "cell_type": "code",
   "execution_count": 251,
   "metadata": {},
   "outputs": [
    {
     "data": {
      "image/png": "[encoded data removed]",
      "text/plain": [
       "<Figure size 691.2x518.4 with 1 Axes>"
      ]
     },
     "metadata": {
      "needs_background": "light"
     },
     "output_type": "display_data"
    }
   ],
   "source": [
    "fig=plt.figure(figsize=[9.6, 7.2])\n",
    "ax=fig.add_subplot(111)\n",
    "ax.set_title('Naive Bayes with stopwords')\n",
    "ax.set_xlabel('Classes')\n",
    "ax.set_ylabel('F1 Score')\n",
    "ax.set_xticklabels(['brinquedo', 'game', 'livro', 'maquiagem'])\n",
    "ax.set_xticks([0, 1, 2, 3])\n",
    "ax.set_ylim([0.65,1])\n",
    "ax.plot(experiment_11,marker=\"o\",label='Count Vectorizer')\n",
    "ax.plot(experiment_12,marker=\"o\",label='tf-idf')\n",
    "ax.plot(experiment_13,marker=\"o\",label='Count Vectorizer + tf-idf')\n",
    "ax.plot(experiment_14,marker=\"o\",label='Unigram')\n",
    "ax.plot(experiment_15,marker=\"o\",label='Bigram')\n",
    "ax.plot(experiment_16,marker=\"o\",label='Trigram')\n",
    "plt.legend(loc=4)\n",
    "plt.show()"
   ]
  },
  {
   "cell_type": "code",
   "execution_count": 252,
   "metadata": {},
   "outputs": [
    {
     "data": {
      "text/plain": [
       "array([0.93074119, 0.92243767, 0.94642857, 0.98409332])"
      ]
     },
     "execution_count": 252,
     "metadata": {},
     "output_type": "execute_result"
    }
   ],
   "source": [
    "experiment_11_sw"
   ]
  },
  {
   "cell_type": "code",
   "execution_count": 253,
   "metadata": {},
   "outputs": [
    {
     "data": {
      "text/plain": [
       "array([0.91254753, 0.91780822, 0.95780177, 0.96450939])"
      ]
     },
     "execution_count": 253,
     "metadata": {},
     "output_type": "execute_result"
    }
   ],
   "source": [
    "experiment_12_sw"
   ]
  },
  {
   "cell_type": "code",
   "execution_count": 254,
   "metadata": {},
   "outputs": [
    {
     "data": {
      "text/plain": [
       "array([0.8828125 , 0.91304348, 0.94083414, 0.95941727])"
      ]
     },
     "execution_count": 254,
     "metadata": {},
     "output_type": "execute_result"
    }
   ],
   "source": [
    "experiment_13_sw"
   ]
  },
  {
   "cell_type": "code",
   "execution_count": 255,
   "metadata": {},
   "outputs": [
    {
     "data": {
      "text/plain": [
       "array([0.93074119, 0.92243767, 0.94642857, 0.98409332])"
      ]
     },
     "execution_count": 255,
     "metadata": {},
     "output_type": "execute_result"
    }
   ],
   "source": [
    "experiment_14_sw"
   ]
  },
  {
   "cell_type": "code",
   "execution_count": 256,
   "metadata": {},
   "outputs": [
    {
     "data": {
      "text/plain": [
       "array([0.92670807, 0.94068966, 0.95592556, 0.97989418])"
      ]
     },
     "execution_count": 256,
     "metadata": {},
     "output_type": "execute_result"
    }
   ],
   "source": [
    "experiment_15_sw"
   ]
  },
  {
   "cell_type": "code",
   "execution_count": 257,
   "metadata": {},
   "outputs": [
    {
     "data": {
      "text/plain": [
       "array([0.9225    , 0.94101509, 0.95882353, 0.97993664])"
      ]
     },
     "execution_count": 257,
     "metadata": {},
     "output_type": "execute_result"
    }
   ],
   "source": [
    "experiment_16_sw"
   ]
  },
  {
   "cell_type": "code",
   "execution_count": 258,
   "metadata": {
    "scrolled": true
   },
   "outputs": [
    {
     "data": {
      "image/png": "[encoded data removed]",
      "text/plain": [
       "<Figure size 691.2x518.4 with 1 Axes>"
      ]
     },
     "metadata": {
      "needs_background": "light"
     },
     "output_type": "display_data"
    }
   ],
   "source": [
    "fig=plt.figure(figsize=[9.6, 7.2])\n",
    "ax=fig.add_subplot(111)\n",
    "ax.set_title('Naive Bayes without stopwords')\n",
    "ax.set_xlabel('Classes')\n",
    "ax.set_ylabel('F1 Score')\n",
    "ax.set_xticklabels(['brinquedo', 'game', 'livro', 'maquiagem'])\n",
    "ax.set_xticks([0, 1, 2, 3])\n",
    "ax.set_ylim([0.65,1])\n",
    "ax.plot(experiment_11_sw,marker=\"o\",label='Count Vectorizer')\n",
    "ax.plot(experiment_12_sw,marker=\"o\",label='tf-idf')\n",
    "ax.plot(experiment_13_sw,marker=\"o\",label='Count Vectorizer + tf-idf')\n",
    "ax.plot(experiment_14_sw,marker=\"o\",label='Unigram')\n",
    "ax.plot(experiment_15_sw,marker=\"o\",label='Bigram')\n",
    "ax.plot(experiment_16_sw,marker=\"o\",label='Trigram')\n",
    "plt.legend(loc=4)\n",
    "plt.show()"
   ]
  },
  {
   "cell_type": "markdown",
   "metadata": {},
   "source": [
    "### Experimentos com SVM/SVC"
   ]
  },
  {
   "cell_type": "code",
   "execution_count": 259,
   "metadata": {},
   "outputs": [
    {
     "data": {
      "text/plain": [
       "array([0.81510934, 0.82565789, 0.92570281, 0.93002257])"
      ]
     },
     "execution_count": 259,
     "metadata": {},
     "output_type": "execute_result"
    }
   ],
   "source": [
    "experiment_21"
   ]
  },
  {
   "cell_type": "code",
   "execution_count": 260,
   "metadata": {},
   "outputs": [
    {
     "data": {
      "text/plain": [
       "array([0.9540636 , 0.94444444, 0.96340257, 0.97268908])"
      ]
     },
     "execution_count": 260,
     "metadata": {},
     "output_type": "execute_result"
    }
   ],
   "source": [
    "experiment_22"
   ]
  },
  {
   "cell_type": "code",
   "execution_count": 261,
   "metadata": {},
   "outputs": [
    {
     "data": {
      "text/plain": [
       "array([0.94424674, 0.9505814 , 0.96311067, 0.96049896])"
      ]
     },
     "execution_count": 261,
     "metadata": {},
     "output_type": "execute_result"
    }
   ],
   "source": [
    "experiment_23"
   ]
  },
  {
   "cell_type": "code",
   "execution_count": 262,
   "metadata": {},
   "outputs": [
    {
     "data": {
      "text/plain": [
       "array([0.81510934, 0.82565789, 0.92570281, 0.93002257])"
      ]
     },
     "execution_count": 262,
     "metadata": {},
     "output_type": "execute_result"
    }
   ],
   "source": [
    "experiment_24"
   ]
  },
  {
   "cell_type": "code",
   "execution_count": 263,
   "metadata": {},
   "outputs": [
    {
     "data": {
      "text/plain": [
       "array([0.816286  , 0.81983471, 0.92323232, 0.93736018])"
      ]
     },
     "execution_count": 263,
     "metadata": {},
     "output_type": "execute_result"
    }
   ],
   "source": [
    "experiment_25"
   ]
  },
  {
   "cell_type": "code",
   "execution_count": 264,
   "metadata": {},
   "outputs": [
    {
     "data": {
      "text/plain": [
       "array([0.81584158, 0.81530782, 0.91809909, 0.9375    ])"
      ]
     },
     "execution_count": 264,
     "metadata": {},
     "output_type": "execute_result"
    }
   ],
   "source": [
    "experiment_26"
   ]
  },
  {
   "cell_type": "code",
   "execution_count": 265,
   "metadata": {},
   "outputs": [
    {
     "data": {
      "image/png": "[encoded data removed]",
      "text/plain": [
       "<Figure size 691.2x518.4 with 1 Axes>"
      ]
     },
     "metadata": {
      "needs_background": "light"
     },
     "output_type": "display_data"
    }
   ],
   "source": [
    "fig=plt.figure(figsize=[9.6, 7.2])\n",
    "ax=fig.add_subplot(111)\n",
    "ax.set_title('SVM/SVC with stopwords')\n",
    "ax.set_xlabel('Classes')\n",
    "ax.set_ylabel('F1 Score')\n",
    "ax.set_xticklabels(['brinquedo', 'game', 'livro', 'maquiagem'])\n",
    "ax.set_xticks([0, 1, 2, 3])\n",
    "ax.set_ylim([0.65,1])\n",
    "ax.plot(experiment_21,marker=\"o\",label='Count Vectorizer')\n",
    "ax.plot(experiment_22,marker=\"o\",label='tf-idf')\n",
    "ax.plot(experiment_23,marker=\"o\",label='Count Vectorizer + tf-idf')\n",
    "ax.plot(experiment_24,marker=\"o\",label='Unigram')\n",
    "ax.plot(experiment_25,marker=\"o\",label='Bigram')\n",
    "ax.plot(experiment_26,marker=\"o\",label='Trigram')\n",
    "plt.legend(loc=4)\n",
    "plt.show()"
   ]
  },
  {
   "cell_type": "code",
   "execution_count": 266,
   "metadata": {},
   "outputs": [
    {
     "data": {
      "text/plain": [
       "array([0.85773624, 0.89440994, 0.93172691, 0.93617021])"
      ]
     },
     "execution_count": 266,
     "metadata": {},
     "output_type": "execute_result"
    }
   ],
   "source": [
    "experiment_21_sw"
   ]
  },
  {
   "cell_type": "code",
   "execution_count": 267,
   "metadata": {},
   "outputs": [
    {
     "data": {
      "text/plain": [
       "array([0.95971564, 0.95930233, 0.96957802, 0.97989418])"
      ]
     },
     "execution_count": 267,
     "metadata": {},
     "output_type": "execute_result"
    }
   ],
   "source": [
    "experiment_22_sw"
   ]
  },
  {
   "cell_type": "code",
   "execution_count": 268,
   "metadata": {},
   "outputs": [
    {
     "data": {
      "text/plain": [
       "array([0.95539906, 0.96681097, 0.97492477, 0.96436059])"
      ]
     },
     "execution_count": 268,
     "metadata": {},
     "output_type": "execute_result"
    }
   ],
   "source": [
    "experiment_23_sw"
   ]
  },
  {
   "cell_type": "code",
   "execution_count": 269,
   "metadata": {},
   "outputs": [
    {
     "data": {
      "text/plain": [
       "array([0.85773624, 0.89440994, 0.93172691, 0.93617021])"
      ]
     },
     "execution_count": 269,
     "metadata": {},
     "output_type": "execute_result"
    }
   ],
   "source": [
    "experiment_24_sw"
   ]
  },
  {
   "cell_type": "code",
   "execution_count": 270,
   "metadata": {},
   "outputs": [
    {
     "data": {
      "text/plain": [
       "array([0.82985075, 0.87163233, 0.92307692, 0.92881356])"
      ]
     },
     "execution_count": 270,
     "metadata": {},
     "output_type": "execute_result"
    }
   ],
   "source": [
    "experiment_25_sw"
   ]
  },
  {
   "cell_type": "code",
   "execution_count": 271,
   "metadata": {},
   "outputs": [
    {
     "data": {
      "text/plain": [
       "array([0.8076555 , 0.85346216, 0.9125    , 0.91954023])"
      ]
     },
     "execution_count": 271,
     "metadata": {},
     "output_type": "execute_result"
    }
   ],
   "source": [
    "experiment_26_sw"
   ]
  },
  {
   "cell_type": "code",
   "execution_count": 272,
   "metadata": {},
   "outputs": [
    {
     "data": {
      "image/png": "[encoded data removed]",
      "text/plain": [
       "<Figure size 691.2x518.4 with 1 Axes>"
      ]
     },
     "metadata": {
      "needs_background": "light"
     },
     "output_type": "display_data"
    }
   ],
   "source": [
    "fig=plt.figure(figsize=[9.6, 7.2])\n",
    "ax=fig.add_subplot(111)\n",
    "ax.set_title('SVM/SVC without stopwords')\n",
    "ax.set_xlabel('Classes')\n",
    "ax.set_ylabel('F1 Score')\n",
    "ax.set_xticklabels(['brinquedo', 'game', 'livro', 'maquiagem'])\n",
    "ax.set_xticks([0, 1, 2, 3])\n",
    "ax.set_ylim([0.65,1])\n",
    "ax.plot(experiment_21_sw,marker=\"o\",label='Count Vectorizer')\n",
    "ax.plot(experiment_22_sw,marker=\"o\",label='tf-idf')\n",
    "ax.plot(experiment_23_sw,marker=\"o\",label='Count Vectorizer + tf-idf')\n",
    "ax.plot(experiment_24_sw,marker=\"o\",label='Unigram')\n",
    "ax.plot(experiment_25_sw,marker=\"o\",label='Bigram')\n",
    "ax.plot(experiment_26_sw,marker=\"o\",label='Trigram')\n",
    "plt.legend(loc=4)\n",
    "def plt.show()"
   ]
  },
  {
   "cell_type": "markdown",
   "metadata": {},
   "source": [
    "## Análise dos resultados\n",
    "\n",
    "A partir dos resultados obtidos pelos experimentos, o experimento realizado com o modelo SVM/SVC, com o pré-processamento do *dataset* utilizando `TF-IDF Vectorizer`, foi o que obteve melhor resultado (a partir da métrica F1 Score). Entretanto, não houve ganhos significativos com a remoção das *stopwords* em língua portuguesa &mdash; houve ganhos, já que a métrica F1 Score apresentou melhor resultado, mas não foram estatisticamente significantes, em geral."
   ]
  }
 ],
 "metadata": {
  "kernelspec": {
   "display_name": "Python 3",
   "language": "python",
   "name": "python3"
  },
  "language_info": {
   "codemirror_mode": {
    "name": "ipython",
    "version": 3
   },
   "file_extension": ".py",
   "mimetype": "text/x-python",
   "name": "python",
   "nbconvert_exporter": "python",
   "pygments_lexer": "ipython3",
   "version": "3.7.2"
  }
 },
 "nbformat": 4,
 "nbformat_minor": 2
}
